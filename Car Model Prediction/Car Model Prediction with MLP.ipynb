{
  "cells": [
    {
      "cell_type": "markdown",
      "metadata": {
        "id": "_vh040L1dz-t"
      },
      "source": [
        "# Car Model Prediction with Multi-Layer Perceptron\n"
      ]
    },
    {
      "cell_type": "markdown",
      "metadata": {
        "id": "m6SNO5C1tLZ5"
      },
      "source": [
        "## Srujan Esanakarra"
      ]
    },
    {
      "cell_type": "markdown",
      "metadata": {
        "id": "VpZEuYxXdz-x"
      },
      "source": [
        "#### October 19, 2021"
      ]
    },
    {
      "cell_type": "markdown",
      "metadata": {
        "id": "k7Ej1bsxYE6P"
      },
      "source": [
        "# Dependencies"
      ]
    },
    {
      "cell_type": "code",
      "execution_count": null,
      "metadata": {
        "id": "AyYwJcE0YHVz"
      },
      "outputs": [],
      "source": [
        "!pip install numpy\n",
        "!pip install pandas\n",
        "!pip install matplotlib\n",
        "!pip install seaborn"
      ]
    },
    {
      "cell_type": "markdown",
      "metadata": {
        "id": "qKH-IDK6yeST"
      },
      "source": [
        "# Multi-Layer Perceptron"
      ]
    },
    {
      "cell_type": "markdown",
      "metadata": {
        "id": "xlrREn0yMmnk"
      },
      "source": [
        "## Implementation of Network\n",
        "### Forward propagation and backpropagation using stochastic gradient descent"
      ]
    },
    {
      "cell_type": "code",
      "execution_count": 156,
      "metadata": {
        "id": "nziFY-LKd5fS"
      },
      "outputs": [],
      "source": [
        "class MLP:\n",
        "\n",
        "  def __init__(self, X_train, y_train, lr=0.1, n_iter=100, num_input=2, \n",
        "               num_hidden=2, num_output=1, loss_function='Softplus'):\n",
        "    \"\"\"\n",
        "    Initializing the multi-layer perceptron\n",
        "    X_train: input data matrix\n",
        "    y_train: expected outputs\n",
        "    lr: the learning rate; default is 0.1\n",
        "    n_iter: the number of times the training data is iterated through the model\n",
        "    num_input: the number of features in the input layer\n",
        "    num_hidden: the number of units in the hidden layer\n",
        "    num_output: the number of units in the output layer\n",
        "    \"\"\"\n",
        "    self.X_train = X_train\n",
        "    self.y_train = y_train\n",
        "    self.learning_rate = lr\n",
        "    self.epochs = n_iter\n",
        "    self.num_input = num_input\n",
        "    self.num_hidden = num_hidden\n",
        "    self.num_output = num_output\n",
        "    self.loss_function = loss_function\n",
        "    self.w = []\n",
        "    self.b = []\n",
        "    self.losses = []\n",
        "    self.loss_by_epoch = []\n",
        "\n",
        "    # Input layer to hidden layer weights; He et al. initialization\n",
        "    self.w.append(np.random.normal(\n",
        "        scale=np.sqrt(2/(self.num_input + self.num_hidden)),\n",
        "                                                  size = (self.num_input, \n",
        "                                                          self.num_hidden)))\n",
        "\n",
        "    # Hidden layer to output layer weights; He et al. initialization\n",
        "    self.w.append(np.random.normal(\n",
        "        scale=np.sqrt(2/(self.num_hidden + self.num_output)), \n",
        "                                    size = (self.num_hidden, self.num_output)))\n",
        "    \n",
        "    # Hidden layer biases\n",
        "    self.b.append(np.zeros(self.num_hidden))\n",
        "\n",
        "    # Output layer biases\n",
        "    self.b.append(np.zeros(self.num_output))\n",
        "\n",
        "\n",
        "  def ReLU(self, r):\n",
        "    \"\"\"\n",
        "    ReLU\n",
        "    r: input\n",
        "    returns output of ReLU\n",
        "    \"\"\"\n",
        "    f = np.maximum(0, r)\n",
        "    return f\n",
        "\n",
        "\n",
        "  def ReLU_deriv(self, r):\n",
        "    \"\"\"\n",
        "    ReLU_deriv\n",
        "    r: input\n",
        "    returns output of derivative of ReLU\n",
        "    \"\"\"\n",
        "    f = np.where(r >= 0, 1, 0)\n",
        "    return f\n",
        "  \n",
        "  \n",
        "  def sigmoid(self, r):\n",
        "    \"\"\"\n",
        "    sigmoid\n",
        "    r: input\n",
        "    returns output of sigmoid\n",
        "    \"\"\"\n",
        "    f = 1/(1 + np.exp(-r))\n",
        "    return f\n",
        "\n",
        "\n",
        "  def sigmoid_deriv(self, r):\n",
        "    \"\"\"\n",
        "    sigmoid\n",
        "    r: input\n",
        "    returns output of derivative of sigmoid\n",
        "    \"\"\"\n",
        "    f = np.multiply(r, (1 - r))\n",
        "    return f\n",
        "  \n",
        "  \n",
        "  def Softplus(self, r):\n",
        "    \"\"\"\n",
        "    Softplus\n",
        "    r: input\n",
        "    returns output of Softplus; derivative is just sigmoid\n",
        "    \"\"\"\n",
        "    f = np.log(1 + np.exp(r))\n",
        "    return f\n",
        "  \n",
        "\n",
        "  def mse(self, r):\n",
        "    \"\"\"\n",
        "    Mean Square Error Loss\n",
        "    r: input\n",
        "    returns output of Mean Square Error\n",
        "    \"\"\"\n",
        "    f = 0.5 * np.square(r)\n",
        "    return f\n",
        "\n",
        "  \n",
        "  def input_layer_forward_propagation(self, data):\n",
        "    \"\"\"\n",
        "    input_layer_forward_propagation\n",
        "    data: input data\n",
        "    returns hidden layer values\n",
        "    \"\"\"\n",
        "    return np.dot(data, self.w[0]) + self.b[0]\n",
        "\n",
        "  \n",
        "  def input_layer_back_propagation(self, data, gradient):\n",
        "    \"\"\"\n",
        "    input_layer_back_propagation\n",
        "    data: input data\n",
        "    gradient: gradient of u2\n",
        "    updates weights and biases for input layer to hidden layer\n",
        "    \"\"\"\n",
        "    dW = np.dot(data.T, gradient)\n",
        "    dc = np.mean(np.array(gradient), axis=0, keepdims=False)\n",
        "\n",
        "    self.w[0] = self.w[0] - self.learning_rate * dW\n",
        "    self.b[0] = self.b[0] - self.learning_rate * dc\n",
        "\n",
        "\n",
        "  def hidden_layer_forward_propagation(self, data):\n",
        "    \"\"\"\n",
        "    hidden_layer_forward_propagation\n",
        "    data: activated hidden layer values\n",
        "    returns output layer values\n",
        "    \"\"\"\n",
        "    return np.dot(data, self.w[1]) + self.b[1]\n",
        "  \n",
        "  \n",
        "  def hidden_layer_back_propagation(self, hidden_vals, gradient):\n",
        "    \"\"\"\n",
        "    hidden_layer_back_propagation\n",
        "    hidden_vals: hidden layer values\n",
        "    gradient: gradient of u3\n",
        "    updates weights and biases for hidden layer to output layer\n",
        "    returns the gradient of h to be propagated to input layer\n",
        "    \"\"\"\n",
        "    db = np.mean(np.array(gradient), axis=0, keepdims=False)\n",
        "    dw = np.dot(hidden_vals.T, gradient)\n",
        "    dh = np.dot(gradient, self.w[1].T)\n",
        "\n",
        "    self.w[1] = self.w[1] - self.learning_rate * dw\n",
        "    self.b[1] = self.b[1] - self.learning_rate * db\n",
        "\n",
        "    return dh\n",
        "\n",
        "\n",
        "  def forward_propagation(self, data):\n",
        "    \"\"\"\n",
        "    forward_propagation\n",
        "    single forward pass through the network using given batch of data\n",
        "    \"\"\"\n",
        "    self.input = data\n",
        "    self.hidden_layer_vals = self.input_layer_forward_propagation(self.input)\n",
        "    self.hidden_layer_vals_act = self.ReLU(self.hidden_layer_vals)\n",
        "    z = self.hidden_layer_forward_propagation(self.hidden_layer_vals_act)\n",
        "\n",
        "    return z\n",
        "\n",
        "  \n",
        "  def back_propagation(self, gradient):\n",
        "    \"\"\"\n",
        "    back_propagation\n",
        "    computes errors and updates network parameters after forward_propagation\n",
        "    \"\"\"\n",
        "    dh = self.hidden_layer_back_propagation(self.hidden_layer_vals_act, gradient)\n",
        "    d2 = np.multiply(dh, self.ReLU_deriv(self.hidden_layer_vals))\n",
        "    self.input_layer_back_propagation(self.input, d2)\n",
        "  \n",
        "\n",
        "  def shuffle(self, X, y):\n",
        "    \"\"\"\n",
        "    shuffle\n",
        "    X: values to be shuffled\n",
        "    y: labels to be shuffled\n",
        "    generates a random order to shuffle the data\n",
        "    returns shuffled data\n",
        "    \"\"\"\n",
        "    order = np.random.permutation(len(X))\n",
        "    return X[order], y[order]\n",
        "\n",
        "\n",
        "  def fit(self, batch_size=20):\n",
        "    \"\"\"\n",
        "    fit\n",
        "    batch_size: number of data points for each mini-batch to use in stochastic\n",
        "    gradient descent\n",
        "    trains the network for the specified number of epochs using SGD and specified\n",
        "    batch_size and calcuates losses\n",
        "    \"\"\"\n",
        "    batch_size = batch_size\n",
        "\n",
        "    # Printing network parameters for confirmation\n",
        "    print(\"Network Training \\n\")\n",
        "    print(\"Number of Hidden Layers: 1\")\n",
        "    print(\"Layer 1\")\n",
        "    print(\"Number of Hidden Units: \", self.num_hidden)\n",
        "    print(\"Activation Function: ReLU\")\n",
        "    print(\"Output Layer\")\n",
        "    print(\"Number of Outputs: \", self.num_output)\n",
        "    print(\"Batch size: \", batch_size)\n",
        "    print(\"Loss Function: \" + str(self.loss_function))\n",
        "\n",
        "    print(\"\\nFitting data... \\n\")\n",
        "    # training the network for the given number of epochs\n",
        "    for e in range(self.epochs):\n",
        "      # progress check for training\n",
        "      if e % (self.epochs/20) == 0:\n",
        "        print(\"Starting Epoch \" + str(e+1) + \"...\")\n",
        "      \n",
        "      # shuffled data\n",
        "      X_s, y_s = self.shuffle(self.X_train, self.y_train)\n",
        "      # storing losses\n",
        "      losses_for_epoch = []\n",
        "      loss_for_epoch = None\n",
        "      train_size = len(X_s)\n",
        "\n",
        "      # performing stochastic gradient descent in mini-batches      \n",
        "      for start in range(0, train_size, batch_size):\n",
        "        stop = start + batch_size\n",
        "        X_batch = X_s[start:stop] \n",
        "        y_batch = y_s[start:stop]\n",
        "        \n",
        "        # output layer values\n",
        "        output = self.forward_propagation(X_batch)\n",
        "\n",
        "        # calculate loss using loss function\n",
        "        if self.loss_function == 'Softplus':\n",
        "          adj = np.multiply(1 - (2 * y_batch), output)\n",
        "          loss = self.Softplus(adj)\n",
        "          dloss = self.sigmoid(adj)\n",
        "          gradient = np.multiply(dloss, 1 - (2 * y_batch))\n",
        "        else:\n",
        "          adj = y_batch - output\n",
        "          loss = self.mse(adj)\n",
        "          gradient = -adj\n",
        "\n",
        "        losses_for_epoch.append(loss)\n",
        "        loss_for_epoch = loss.mean()\n",
        "        self.loss_by_epoch.append(loss_for_epoch)\n",
        "        # update network weights and biases\n",
        "        self.back_propagation(gradient)\n",
        "\n",
        "      self.losses.append(losses_for_epoch)\n",
        "      \n",
        "      # periodic network tracking\n",
        "      if e % (self.epochs/20) == self.epochs/20 - 1:\n",
        "        print(\"Finished Epochs \" + str(int(e+1 - (self.epochs/20 - 1))) + \n",
        "              \"-\" + str(int(e+1)) + \".\")\n",
        "        print(\"Loss for Epoch \" + str(int(e+1)) + \": \" + str(loss_for_epoch))\n",
        "    \n",
        "    # self.losses = np.array(self.losses)\n",
        "\n",
        "    print('Training Complete \\n')\n",
        "\n",
        "\n",
        "  def predict(self, X_test):\n",
        "    \"\"\"\n",
        "    predict\n",
        "    X_test: test data for predictions\n",
        "    returns predicted classifications for test data\n",
        "    \"\"\"\n",
        "    self.X_test = X_test\n",
        "    \n",
        "    output = self.forward_propagation(X_test)\n",
        "    \n",
        "    self.predictions = [1 if z>0 else 0 for z in output]\n",
        "    \n",
        "    return np.array(self.predictions)\n",
        "  \n",
        "\n",
        "  def classify(self, point):\n",
        "    \"\"\"\n",
        "    classify\n",
        "    point: single data point for prediction\n",
        "    returns output for single data point\n",
        "    \"\"\"\n",
        "    output = self.forward_propagation(point)\n",
        "    if output > 0:\n",
        "      return 1\n",
        "    return 0\n",
        "\n",
        "\n",
        "  def plot(self, data='test', h=0.01):\n",
        "    \"\"\"\n",
        "    plot\n",
        "    h: density for sampling\n",
        "    generates plot of input or test data and decision boundary\n",
        "    \"\"\"\n",
        "    # setting plot properties like size, theme and axis limits\n",
        "    sns.set_style('darkgrid')\n",
        "    plt.figure(figsize=(10, 10))\n",
        "\n",
        "    plt.axis('scaled')\n",
        "    plt.xlim(-0.1, 1.1)\n",
        "    plt.ylim(-0.1, 1.1)\n",
        "\n",
        "    colors = {\n",
        "        0: \"ro\",\n",
        "        1: \"go\"\n",
        "    }\n",
        "\n",
        "    if data == 'train':\n",
        "      # plotting the train datapoints\n",
        "      for i in range(len(self.X_train)):\n",
        "        plt.plot([self.X_train[i][0,0]], [self.X_train[i][0,1]], \n",
        "                colors[self.y_train[i][0,0]], markersize=2)\n",
        "    else:\n",
        "      # plotting the test datapoints\n",
        "      for i in range(len(self.X_test)):\n",
        "        plt.plot([self.X_test[i][0,0]], [self.X_test[i][0,1]], \n",
        "                colors[np.array(self.predictions)[i]], markersize=2)\n",
        "\n",
        "    plt.xlabel('x1')\n",
        "    plt.ylabel('x2')\n",
        "    plt.title('Decision Regions')\n",
        "    \n",
        "    plt.gca().legend(('0', '1'))\n",
        "    \n",
        "    x_range = np.arange(-0.45, 1.55, h)\n",
        "    y_range = np.arange(-0.45, 1.55, h)\n",
        "\n",
        "    # creating a mesh to plot decision boundary\n",
        "    xx, yy = np.meshgrid(x_range, y_range, indexing='ij')\n",
        "    Z = np.array([[self.classify([x, y]) for x in x_range] for y in y_range])\n",
        "    \n",
        "    plt.contourf(xx, yy, Z, colors=['red', 'green', 'green', 'blue'], alpha=0.4)\n",
        "\n",
        "\n",
        "  def get_losses(self):\n",
        "    \"\"\"\n",
        "    get_losses\n",
        "    returns losses for all batches in all epochs\n",
        "    \"\"\"\n",
        "    return self.losses\n",
        "  \n",
        "  \n",
        "  def get_losses_at_end_of_epochs(self):\n",
        "    \"\"\"\n",
        "    get_losses_at_end_of_epochs\n",
        "    returns losses for final bactch in each epoch\n",
        "    \"\"\"\n",
        "    self.loss_at_end_of_epochs = []\n",
        "    \n",
        "    for i in range(0, self.epochs):\n",
        "        self.loss_at_end_of_epochs.append(self.losses[i][-1])\n",
        "    \n",
        "    return np.array(self.loss_at_end_of_epochs)\n",
        "  \n",
        "\n",
        "  def get_loss_by_epoch(self):\n",
        "    \"\"\"\n",
        "    get_loss_by_epoch\n",
        "    returns the loss for each epoch\n",
        "    \"\"\"\n",
        "    return self.loss_by_epoch\n",
        "\n",
        "\n",
        "  def get_avg_loss_by_epoch(self):\n",
        "    \"\"\"\n",
        "    get_avg_loss_by_epoch\n",
        "    return average loss for each epoch\n",
        "    \"\"\"\n",
        "    self.avg_loss_by_epoch = []\n",
        "    \n",
        "    for i in range(0, self.epochs):\n",
        "      self.avg_loss = 0\n",
        "      \n",
        "      for j in range(len(self.losses[i])):\n",
        "        self.avg_loss += self.losses[i][j]\n",
        "          \n",
        "      self.avg_loss = self.avg_loss/len(self.losses[i])\n",
        "      \n",
        "      self.avg_loss_by_epoch.append(self.avg_loss)\n",
        "    \n",
        "    return np.array(self.avg_loss_by_epoch)"
      ]
    },
    {
      "cell_type": "markdown",
      "metadata": {},
      "source": [
        "# MLP with XOR Data"
      ]
    },
    {
      "cell_type": "markdown",
      "metadata": {
        "id": "Fypm_Y7pMMU_"
      },
      "source": [
        "## Data"
      ]
    },
    {
      "cell_type": "code",
      "execution_count": 1,
      "metadata": {
        "id": "nD1yhcKEdz-0"
      },
      "outputs": [],
      "source": [
        "import numpy as np\n",
        "import random\n",
        "import pandas as pd\n",
        "import matplotlib.pyplot as plt\n",
        "import seaborn as sns"
      ]
    },
    {
      "cell_type": "markdown",
      "metadata": {
        "id": "E48RZXVedz-1"
      },
      "source": [
        "Curated noisy XOR data"
      ]
    },
    {
      "cell_type": "code",
      "execution_count": 2,
      "metadata": {
        "colab": {
          "base_uri": "https://localhost:8080/",
          "height": 204
        },
        "id": "T01IaG8Xdz-2",
        "outputId": "1984bdbd-4e2d-4547-fdbf-0ec3f99cad87"
      },
      "outputs": [
        {
          "data": {
            "text/html": [
              "<div>\n",
              "<style scoped>\n",
              "    .dataframe tbody tr th:only-of-type {\n",
              "        vertical-align: middle;\n",
              "    }\n",
              "\n",
              "    .dataframe tbody tr th {\n",
              "        vertical-align: top;\n",
              "    }\n",
              "\n",
              "    .dataframe thead th {\n",
              "        text-align: right;\n",
              "    }\n",
              "</style>\n",
              "<table border=\"1\" class=\"dataframe\">\n",
              "  <thead>\n",
              "    <tr style=\"text-align: right;\">\n",
              "      <th></th>\n",
              "      <th>x1</th>\n",
              "      <th>x2</th>\n",
              "      <th>y</th>\n",
              "    </tr>\n",
              "  </thead>\n",
              "  <tbody>\n",
              "    <tr>\n",
              "      <th>0</th>\n",
              "      <td>0.754181</td>\n",
              "      <td>-0.035152</td>\n",
              "      <td>1.0</td>\n",
              "    </tr>\n",
              "    <tr>\n",
              "      <th>1</th>\n",
              "      <td>-0.167445</td>\n",
              "      <td>1.160273</td>\n",
              "      <td>1.0</td>\n",
              "    </tr>\n",
              "    <tr>\n",
              "      <th>2</th>\n",
              "      <td>1.292299</td>\n",
              "      <td>1.143603</td>\n",
              "      <td>0.0</td>\n",
              "    </tr>\n",
              "    <tr>\n",
              "      <th>3</th>\n",
              "      <td>0.861811</td>\n",
              "      <td>0.995109</td>\n",
              "      <td>0.0</td>\n",
              "    </tr>\n",
              "    <tr>\n",
              "      <th>4</th>\n",
              "      <td>1.368274</td>\n",
              "      <td>0.136018</td>\n",
              "      <td>1.0</td>\n",
              "    </tr>\n",
              "  </tbody>\n",
              "</table>\n",
              "</div>"
            ],
            "text/plain": [
              "         x1        x2    y\n",
              "0  0.754181 -0.035152  1.0\n",
              "1 -0.167445  1.160273  1.0\n",
              "2  1.292299  1.143603  0.0\n",
              "3  0.861811  0.995109  0.0\n",
              "4  1.368274  0.136018  1.0"
            ]
          },
          "execution_count": 2,
          "metadata": {},
          "output_type": "execute_result"
        }
      ],
      "source": [
        "data = pd.DataFrame(np.zeros((5000, 3)), columns=['x1', 'x2', 'y'])\n",
        "\n",
        "# Make up some noisy XOR data to use to build binary classifier\n",
        "for i in range(len(data.index)):\n",
        "    x1 = 1.0 * random.randint(0,1)\n",
        "    x2 = 1.0 * random.randint(0,1)\n",
        "    y = 1.0 * np.logical_xor(x1==1,x2==1)\n",
        "    x1 = x1 + 0.15 * np.random.normal()\n",
        "    x2 = x2 + 0.15 * np.random.normal()\n",
        "    data.iloc[i,0] = x1\n",
        "    data.iloc[i,1] = x2\n",
        "    data.iloc[i,2] = y\n",
        "        \n",
        "data.head()"
      ]
    },
    {
      "cell_type": "code",
      "execution_count": 180,
      "metadata": {
        "id": "re9GCzsQdz-5"
      },
      "outputs": [],
      "source": [
        "# set X (training data) and y (target variable)\n",
        "cols = data.shape[1]\n",
        "X = data.iloc[:,0:cols-1]\n",
        "y = data.iloc[:,cols-1:cols]\n",
        "\n",
        "# The cost function is expecting numpy matrices so we need to convert X and y before we can use them\n",
        "X = np.matrix(X.values)\n",
        "y = np.matrix(y.values)"
      ]
    },
    {
      "cell_type": "markdown",
      "metadata": {
        "id": "vcsGDuPbdz-5"
      },
      "source": [
        "Function to plot binary data"
      ]
    },
    {
      "cell_type": "code",
      "execution_count": 4,
      "metadata": {
        "id": "pLrc8miLdz-6"
      },
      "outputs": [],
      "source": [
        "# Function for plotting our data\n",
        "def plot_data(X, y_prob):\n",
        "    \n",
        "    fig, ax = plt.subplots(figsize=(12,8))\n",
        "    ax.margins(0.05) # Optional, just adds 5% padding to the autoscaling\n",
        "\n",
        "    y_predict = y_prob > 0.5\n",
        "    indices_0 = [k for k in range(0, X.shape[0]) if not y_predict[k]]\n",
        "    indices_1 = [k for k in range(0, X.shape[0]) if y_predict[k]]\n",
        "\n",
        "    ax.plot(X[indices_0, 0], X[indices_0,1], marker='o', linestyle='', ms=5, label='0')\n",
        "    ax.plot(X[indices_1, 0], X[indices_1,1], marker='o', linestyle='', ms=5, label='1')\n",
        "\n",
        "    ax.legend()\n",
        "    ax.legend(loc=2)\n",
        "    ax.set_xlabel('x1')\n",
        "    ax.set_ylabel('x2')\n",
        "    ax.set_title('Noisy XOR')\n",
        "    plt.show()"
      ]
    },
    {
      "cell_type": "markdown",
      "metadata": {
        "id": "dV6h_Zv9dz-6"
      },
      "source": [
        "Plot of noisy XOR data"
      ]
    },
    {
      "cell_type": "code",
      "execution_count": 5,
      "metadata": {
        "colab": {
          "base_uri": "https://localhost:8080/",
          "height": 513
        },
        "id": "WaVc8iwHdz-7",
        "outputId": "dc66878c-43e2-41cf-babb-d8556349fd62"
      },
      "outputs": [
        {
          "data": {
            "image/png": "[encoded data removed]",
            "text/plain": [
              "<Figure size 864x576 with 1 Axes>"
            ]
          },
          "metadata": {
            "needs_background": "light"
          },
          "output_type": "display_data"
        }
      ],
      "source": [
        "plot_data(X, y)"
      ]
    },
    {
      "cell_type": "markdown",
      "metadata": {
        "id": "_Aca3LMWL4Ht"
      },
      "source": [
        "## Split Data"
      ]
    },
    {
      "cell_type": "code",
      "execution_count": 7,
      "metadata": {
        "id": "yvDoa6Addz_B"
      },
      "outputs": [],
      "source": [
        "from itertools import chain"
      ]
    },
    {
      "cell_type": "code",
      "execution_count": 8,
      "metadata": {
        "id": "1wQ-PXvrdz_B"
      },
      "outputs": [],
      "source": [
        "def _index(arr, indices):\n",
        "    \"\"\"\n",
        "    function to return sub-arry from array and indices\n",
        "    :param arr: array from which indices have to be obtained\n",
        "    :param indices: indices to be obtained\n",
        "    :return: sub-array from given array and indices\n",
        "    \"\"\"\n",
        "    \n",
        "    if hasattr(arr, 'shape'):\n",
        "        return arr[indices]\n",
        "    \n",
        "    return [arr[idx] for idx in indices]"
      ]
    },
    {
      "cell_type": "code",
      "execution_count": 9,
      "metadata": {
        "id": "ZvFmYU6ndz_C"
      },
      "outputs": [],
      "source": [
        "def train_test_split(*arrays, test_size=0.2, shuffle=True, random_seed=1):\n",
        "    \"\"\"\n",
        "    function to split inputted arrays into training and test sets\n",
        "    :param arrays: arrays to split into training and test sets\n",
        "    :param test_size: size of test set in range (0,1)\n",
        "    :param shuffle: shuffle arrays, yes or no\n",
        "    :param random_seed: random seed value\n",
        "    :return: return 2*len(arrays) divided into training and test sets\n",
        "    \"\"\"\n",
        "    \n",
        "    assert 0 < test_size < 1\n",
        "    assert len(arrays) > 0\n",
        "    length = len(arrays[0])\n",
        "    for i in arrays:\n",
        "        assert len(i) == length\n",
        "\n",
        "    test_count = int(np.ceil(length*test_size))\n",
        "    train_count = length - test_count\n",
        "\n",
        "    if shuffle:\n",
        "        perm = np.random.RandomState(random_seed).permutation(length)\n",
        "        train_indices = perm[test_count:]\n",
        "        test_indices = perm[:test_count]\n",
        "    else:\n",
        "        train_indices = np.arange(train_count)\n",
        "        test_indices = np.arange(train_count, length)\n",
        "\n",
        "    return list(chain.from_iterable((_index(arr, train_indices), \n",
        "                                     _index(arr, test_indices)) for arr in arrays))"
      ]
    },
    {
      "cell_type": "code",
      "execution_count": 10,
      "metadata": {
        "id": "Xj_HiSFBdz_C"
      },
      "outputs": [],
      "source": [
        "X_train, X_test, y_train, y_test = train_test_split(X, y, shuffle=False, random_seed=24)"
      ]
    },
    {
      "cell_type": "markdown",
      "metadata": {
        "id": "-4NhQAclMUtA"
      },
      "source": [
        "## Train and Test Network"
      ]
    },
    {
      "cell_type": "markdown",
      "metadata": {
        "id": "k4yAfHqsOX9s"
      },
      "source": [
        "### Attempt 1: Hidden Layer with 1 Hidden Unit"
      ]
    },
    {
      "cell_type": "markdown",
      "metadata": {
        "id": "-sTVG3gPO36i"
      },
      "source": [
        "#### Train Network"
      ]
    },
    {
      "cell_type": "code",
      "execution_count": 34,
      "metadata": {
        "colab": {
          "base_uri": "https://localhost:8080/",
          "height": 0
        },
        "id": "BrReGljEdz_D",
        "outputId": "7b1c5d96-aff2-49d4-adb2-2aa3133623a3"
      },
      "outputs": [
        {
          "name": "stdout",
          "output_type": "stream",
          "text": [
            "Network Training \n",
            "\n",
            "Number of Hidden Layers: 1\n",
            "Layer 1\n",
            "Number of Hidden Units:  1\n",
            "Activation Function: ReLU\n",
            "Output Layer\n",
            "Number of Outputs:  1\n",
            "Batch size:  32\n",
            "Loss Function: Softplus\n",
            "\n",
            "Fitting data... \n",
            "\n",
            "Starting Epoch 1...\n",
            "Finished Epochs 1-50.\n",
            "Loss for Epoch 50: 0.654559335545194\n",
            "Starting Epoch 51...\n",
            "Finished Epochs 51-100.\n",
            "Loss for Epoch 100: 0.49893977662758404\n",
            "Starting Epoch 101...\n",
            "Finished Epochs 101-150.\n",
            "Loss for Epoch 150: 0.4519471026306442\n",
            "Starting Epoch 151...\n",
            "Finished Epochs 151-200.\n",
            "Loss for Epoch 200: 0.3751066351628988\n",
            "Starting Epoch 201...\n",
            "Finished Epochs 201-250.\n",
            "Loss for Epoch 250: 0.4561311191930865\n",
            "Starting Epoch 251...\n",
            "Finished Epochs 251-300.\n",
            "Loss for Epoch 300: 0.48322452461076043\n",
            "Starting Epoch 301...\n",
            "Finished Epochs 301-350.\n",
            "Loss for Epoch 350: 0.4092586650977189\n",
            "Starting Epoch 351...\n",
            "Finished Epochs 351-400.\n",
            "Loss for Epoch 400: 0.46041380772877616\n",
            "Starting Epoch 401...\n",
            "Finished Epochs 401-450.\n",
            "Loss for Epoch 450: 0.3749493392885773\n",
            "Starting Epoch 451...\n",
            "Finished Epochs 451-500.\n",
            "Loss for Epoch 500: 0.3340762943865349\n",
            "Starting Epoch 501...\n",
            "Finished Epochs 501-550.\n",
            "Loss for Epoch 550: 0.45577023915437553\n",
            "Starting Epoch 551...\n",
            "Finished Epochs 551-600.\n",
            "Loss for Epoch 600: 0.40634958106937935\n",
            "Starting Epoch 601...\n",
            "Finished Epochs 601-650.\n",
            "Loss for Epoch 650: 0.3506626235057818\n",
            "Starting Epoch 651...\n",
            "Finished Epochs 651-700.\n",
            "Loss for Epoch 700: 0.5083414663789929\n",
            "Starting Epoch 701...\n",
            "Finished Epochs 701-750.\n",
            "Loss for Epoch 750: 0.3702638508019402\n",
            "Starting Epoch 751...\n",
            "Finished Epochs 751-800.\n",
            "Loss for Epoch 800: 0.42348746997067427\n",
            "Starting Epoch 801...\n",
            "Finished Epochs 801-850.\n",
            "Loss for Epoch 850: 0.4988391819863065\n",
            "Starting Epoch 851...\n",
            "Finished Epochs 851-900.\n",
            "Loss for Epoch 900: 0.4297519146929584\n",
            "Starting Epoch 901...\n",
            "Finished Epochs 901-950.\n",
            "Loss for Epoch 950: 0.4819902980827965\n",
            "Starting Epoch 951...\n",
            "Finished Epochs 951-1000.\n",
            "Loss for Epoch 1000: 0.5886087686883476\n",
            "Training Complete \n",
            "\n",
            "Predictions Complete \n",
            "\n",
            "Accuracy: 75.5%\n"
          ]
        }
      ],
      "source": [
        "num_epochs = 1000\n",
        "\n",
        "network1 = MLP(X_train, y_train, lr=0.01, n_iter=num_epochs, num_input=2, \n",
        "              num_hidden=1, num_output=1, loss_function='Softplus')\n",
        "\n",
        "network1.fit(batch_size=32)\n",
        "\n",
        "predictions1 = network1.predict(X_test)\n",
        "predictions1 = np.array(predictions1)\n",
        "print(\"Predictions Complete \\n\")\n",
        "\n",
        "accuracy1 = np.sum(predictions1 == np.squeeze(y_test)) / len(y_test)\n",
        "print(\"Accuracy: \" + str(accuracy1*100) + \"%\")"
      ]
    },
    {
      "cell_type": "markdown",
      "metadata": {
        "id": "5-vsxY52O9Oz"
      },
      "source": [
        "#### Plot Decision Regions"
      ]
    },
    {
      "cell_type": "code",
      "execution_count": 35,
      "metadata": {
        "colab": {
          "base_uri": "https://localhost:8080/",
          "height": 621
        },
        "id": "7u9mpGzmdz_D",
        "outputId": "d0921a63-4cf8-488f-946c-a4b85efdfedf"
      },
      "outputs": [
        {
          "data": {
            "image/png": "[encoded data removed]",
            "text/plain": [
              "<Figure size 720x720 with 1 Axes>"
            ]
          },
          "metadata": {},
          "output_type": "display_data"
        }
      ],
      "source": [
        "network1.plot(data='test')"
      ]
    },
    {
      "cell_type": "markdown",
      "metadata": {
        "id": "VeGduVfCPCo8"
      },
      "source": [
        "#### Plot Loss by Epoch"
      ]
    },
    {
      "cell_type": "code",
      "execution_count": 151,
      "metadata": {
        "colab": {
          "base_uri": "https://localhost:8080/",
          "height": 312
        },
        "id": "LY92Xj8GOsIw",
        "outputId": "1be48190-74ee-45fa-ee7e-8fa8b0252cab"
      },
      "outputs": [
        {
          "data": {
            "text/plain": [
              "Text(0.5, 1.0, 'Loss by Epoch')"
            ]
          },
          "execution_count": 151,
          "metadata": {},
          "output_type": "execute_result"
        },
        {
          "data": {
            "image/png": "[encoded data removed]",
            "text/plain": [
              "<Figure size 432x288 with 1 Axes>"
            ]
          },
          "metadata": {},
          "output_type": "display_data"
        }
      ],
      "source": [
        "loss_by_epoch1 = network1.get_loss_by_epoch()\n",
        "plot_losses1 = []\n",
        "\n",
        "plot_losses1.append((1, loss_by_epoch1[0]))\n",
        "\n",
        "for l in range(len(loss_by_epoch1)):\n",
        "  if l % (num_epochs/50) == num_epochs/50 - 1:\n",
        "    plot_losses1.append((l+1, loss_by_epoch1[l]))\n",
        "    \n",
        "\n",
        "plot_losses1 = np.array(plot_losses1)\n",
        "\n",
        "sns.set_style('darkgrid')\n",
        "\n",
        "plt.xlim(-100,1100)\n",
        "plt.ylim(0,1)\n",
        "\n",
        "colors = {\n",
        "    0: \"ro\",\n",
        "    1: \"go\"\n",
        "}\n",
        "\n",
        "for i in range(len(plot_losses1)):\n",
        "  plt.plot([plot_losses1[i][0]], [plot_losses1[i][1]], colors[0], markersize=2)\n",
        "\n",
        "plt.xlabel('Epoch')\n",
        "plt.ylabel('Loss')\n",
        "plt.title('Loss by Epoch')"
      ]
    },
    {
      "cell_type": "markdown",
      "metadata": {
        "id": "j5rXYUuRdWeI"
      },
      "source": [
        "### Attempt 2: Hidden Layer with 2 Hidden Units"
      ]
    },
    {
      "cell_type": "markdown",
      "metadata": {
        "id": "TerwsizxdczC"
      },
      "source": [
        "#### Train Network"
      ]
    },
    {
      "cell_type": "code",
      "execution_count": 38,
      "metadata": {
        "colab": {
          "base_uri": "https://localhost:8080/",
          "height": 0
        },
        "id": "b3kqfN0idzfg",
        "outputId": "177d2d3b-d6dd-46a9-bf4b-adea26d4c4e2"
      },
      "outputs": [
        {
          "name": "stdout",
          "output_type": "stream",
          "text": [
            "Network Training \n",
            "\n",
            "Number of Hidden Layers: 1\n",
            "Layer 1\n",
            "Number of Hidden Units:  2\n",
            "Activation Function: ReLU\n",
            "Output Layer\n",
            "Number of Outputs:  1\n",
            "Batch size:  32\n",
            "Loss Function: Softplus\n",
            "\n",
            "Fitting data... \n",
            "\n",
            "Starting Epoch 1...\n",
            "Finished Epochs 1-50.\n",
            "Loss for Epoch 50: 0.16218934537773524\n",
            "Starting Epoch 51...\n",
            "Finished Epochs 51-100.\n",
            "Loss for Epoch 100: 0.025223572538009713\n",
            "Starting Epoch 101...\n",
            "Finished Epochs 101-150.\n",
            "Loss for Epoch 150: 0.015186219986400993\n",
            "Starting Epoch 151...\n",
            "Finished Epochs 151-200.\n",
            "Loss for Epoch 200: 0.008737657056097789\n",
            "Starting Epoch 201...\n",
            "Finished Epochs 201-250.\n",
            "Loss for Epoch 250: 0.021229922469618655\n",
            "Starting Epoch 251...\n",
            "Finished Epochs 251-300.\n",
            "Loss for Epoch 300: 0.03511212458663765\n",
            "Starting Epoch 301...\n",
            "Finished Epochs 301-350.\n",
            "Loss for Epoch 350: 0.14328472695688205\n",
            "Starting Epoch 351...\n",
            "Finished Epochs 351-400.\n",
            "Loss for Epoch 400: 0.002817972089688598\n",
            "Starting Epoch 401...\n",
            "Finished Epochs 401-450.\n",
            "Loss for Epoch 450: 0.04362942705857703\n",
            "Starting Epoch 451...\n",
            "Finished Epochs 451-500.\n",
            "Loss for Epoch 500: 0.05821167752524266\n",
            "Starting Epoch 501...\n",
            "Finished Epochs 501-550.\n",
            "Loss for Epoch 550: 0.07538660642558577\n",
            "Starting Epoch 551...\n",
            "Finished Epochs 551-600.\n",
            "Loss for Epoch 600: 0.021919412143216827\n",
            "Starting Epoch 601...\n",
            "Finished Epochs 601-650.\n",
            "Loss for Epoch 650: 0.007995008473451746\n",
            "Starting Epoch 651...\n",
            "Finished Epochs 651-700.\n",
            "Loss for Epoch 700: 0.005490586283279312\n",
            "Starting Epoch 701...\n",
            "Finished Epochs 701-750.\n",
            "Loss for Epoch 750: 0.007665992071637856\n",
            "Starting Epoch 751...\n",
            "Finished Epochs 751-800.\n",
            "Loss for Epoch 800: 0.09804168731331421\n",
            "Starting Epoch 801...\n",
            "Finished Epochs 801-850.\n",
            "Loss for Epoch 850: 0.04406247970469149\n",
            "Starting Epoch 851...\n",
            "Finished Epochs 851-900.\n",
            "Loss for Epoch 900: 0.008108272508401166\n",
            "Starting Epoch 901...\n",
            "Finished Epochs 901-950.\n",
            "Loss for Epoch 950: 0.018776128897197056\n",
            "Starting Epoch 951...\n",
            "Finished Epochs 951-1000.\n",
            "Loss for Epoch 1000: 0.015688305925200898\n",
            "Training Complete \n",
            "\n",
            "Predictions Complete \n",
            "\n",
            "Accuracy: 98.4%\n"
          ]
        }
      ],
      "source": [
        "num_epochs = 1000\n",
        "\n",
        "network2 = MLP(X_train, y_train, lr=0.01, n_iter=num_epochs, num_input=2, \n",
        "              num_hidden=2, num_output=1, loss_function='Softplus')\n",
        "\n",
        "network2.fit(batch_size=32)\n",
        "\n",
        "predictions2 = network2.predict(X_test)\n",
        "predictions2 = np.array(predictions2)\n",
        "print(\"Predictions Complete \\n\")\n",
        "\n",
        "accuracy2 = np.sum(predictions2 == np.squeeze(y_test)) / len(y_test)\n",
        "print(\"Accuracy: \" + str(accuracy2*100) + \"%\")"
      ]
    },
    {
      "cell_type": "markdown",
      "metadata": {
        "id": "ErIOCmjpeajK"
      },
      "source": [
        "#### Plot Decision Regions"
      ]
    },
    {
      "cell_type": "code",
      "execution_count": 39,
      "metadata": {
        "colab": {
          "base_uri": "https://localhost:8080/",
          "height": 621
        },
        "id": "gp_nk8rkehVv",
        "outputId": "e091eab9-a2f8-43ec-a610-3b3130a48baf"
      },
      "outputs": [
        {
          "data": {
            "image/png": "[encoded data removed]",
            "text/plain": [
              "<Figure size 720x720 with 1 Axes>"
            ]
          },
          "metadata": {},
          "output_type": "display_data"
        }
      ],
      "source": [
        "network2.plot(data='test')"
      ]
    },
    {
      "cell_type": "markdown",
      "metadata": {
        "id": "kIV34ziQeikK"
      },
      "source": [
        "#### Plot Loss by Epoch"
      ]
    },
    {
      "cell_type": "code",
      "execution_count": 152,
      "metadata": {
        "colab": {
          "base_uri": "https://localhost:8080/",
          "height": 312
        },
        "id": "lup7I85PekBo",
        "outputId": "af51021c-1a58-4a9d-fc4f-ac5b18e301b4"
      },
      "outputs": [
        {
          "data": {
            "text/plain": [
              "Text(0.5, 1.0, 'Loss by Epoch')"
            ]
          },
          "execution_count": 152,
          "metadata": {},
          "output_type": "execute_result"
        },
        {
          "data": {
            "image/png": "[encoded data removed]",
            "text/plain": [
              "<Figure size 432x288 with 1 Axes>"
            ]
          },
          "metadata": {},
          "output_type": "display_data"
        }
      ],
      "source": [
        "loss_by_epoch2 = network2.get_loss_by_epoch()\n",
        "plot_losses2 = []\n",
        "\n",
        "plot_losses2.append((1, loss_by_epoch2[0]))\n",
        "\n",
        "for l in range(len(loss_by_epoch2)):\n",
        "  if l % (num_epochs/50) == num_epochs/50 - 1:\n",
        "    plot_losses2.append((l+1, loss_by_epoch2[l]))\n",
        "    \n",
        "\n",
        "plot_losses2 = np.array(plot_losses2)\n",
        "\n",
        "sns.set_style('darkgrid')\n",
        "\n",
        "plt.xlim(-100,1100)\n",
        "plt.ylim(0,1)\n",
        "\n",
        "colors = {\n",
        "    0: \"ro\",\n",
        "    1: \"go\"\n",
        "}\n",
        "\n",
        "for i in range(len(plot_losses2)):\n",
        "  plt.plot([plot_losses2[i][0]], [plot_losses2[i][1]], colors[0], markersize=2)\n",
        "\n",
        "plt.xlabel('Epoch')\n",
        "plt.ylabel('Loss')\n",
        "plt.title('Loss by Epoch')"
      ]
    },
    {
      "cell_type": "markdown",
      "metadata": {
        "id": "h7wARmLde2Ic"
      },
      "source": [
        "### Attempt 3: Hidden Layer with 3 Hidden Units"
      ]
    },
    {
      "cell_type": "markdown",
      "metadata": {
        "id": "s0AIZRq5fB7N"
      },
      "source": [
        "#### Train Network"
      ]
    },
    {
      "cell_type": "code",
      "execution_count": 26,
      "metadata": {
        "colab": {
          "base_uri": "https://localhost:8080/",
          "height": 0
        },
        "id": "MCS1AgpbffVm",
        "outputId": "b226dbce-d53e-4069-8d93-1de491ba2367"
      },
      "outputs": [
        {
          "name": "stdout",
          "output_type": "stream",
          "text": [
            "Network Training \n",
            "\n",
            "Number of Hidden Layers: 1\n",
            "Layer 1\n",
            "Number of Hidden Units:  3\n",
            "Activation Function: ReLU\n",
            "Output Layer\n",
            "Number of Outputs:  1\n",
            "Batch size:  32\n",
            "Loss Function: Softplus\n",
            "\n",
            "Fitting data... \n",
            "\n",
            "Starting Epoch 1...\n",
            "Finished Epochs 1-50.\n",
            "Loss for Epoch 50: 0.020351207065554267\n",
            "Starting Epoch 51...\n",
            "Finished Epochs 51-100.\n",
            "Loss for Epoch 100: 0.06146900134411331\n",
            "Starting Epoch 101...\n",
            "Finished Epochs 101-150.\n",
            "Loss for Epoch 150: 0.0032445310045116755\n",
            "Starting Epoch 151...\n",
            "Finished Epochs 151-200.\n",
            "Loss for Epoch 200: 0.06148358884155088\n",
            "Starting Epoch 201...\n",
            "Finished Epochs 201-250.\n",
            "Loss for Epoch 250: 0.06567198774839329\n",
            "Starting Epoch 251...\n",
            "Finished Epochs 251-300.\n",
            "Loss for Epoch 300: 0.002650329667949379\n",
            "Starting Epoch 301...\n",
            "Finished Epochs 301-350.\n",
            "Loss for Epoch 350: 0.060663777870775606\n",
            "Starting Epoch 351...\n",
            "Finished Epochs 351-400.\n",
            "Loss for Epoch 400: 0.022769404619971404\n",
            "Starting Epoch 401...\n",
            "Finished Epochs 401-450.\n",
            "Loss for Epoch 450: 0.01908275641329549\n",
            "Starting Epoch 451...\n",
            "Finished Epochs 451-500.\n",
            "Loss for Epoch 500: 0.07003538399177688\n",
            "Starting Epoch 501...\n",
            "Finished Epochs 501-550.\n",
            "Loss for Epoch 550: 0.0017523983921459267\n",
            "Starting Epoch 551...\n",
            "Finished Epochs 551-600.\n",
            "Loss for Epoch 600: 0.008700903866646344\n",
            "Starting Epoch 601...\n",
            "Finished Epochs 601-650.\n",
            "Loss for Epoch 650: 0.007427611409392018\n",
            "Starting Epoch 651...\n",
            "Finished Epochs 651-700.\n",
            "Loss for Epoch 700: 0.01184219879575733\n",
            "Starting Epoch 701...\n",
            "Finished Epochs 701-750.\n",
            "Loss for Epoch 750: 0.001140112220795822\n",
            "Starting Epoch 751...\n",
            "Finished Epochs 751-800.\n",
            "Loss for Epoch 800: 0.047407407317645034\n",
            "Starting Epoch 801...\n",
            "Finished Epochs 801-850.\n",
            "Loss for Epoch 850: 0.014877022322280106\n",
            "Starting Epoch 851...\n",
            "Finished Epochs 851-900.\n",
            "Loss for Epoch 900: 0.010918070467115844\n",
            "Starting Epoch 901...\n",
            "Finished Epochs 901-950.\n",
            "Loss for Epoch 950: 0.01161808323787176\n",
            "Starting Epoch 951...\n",
            "Finished Epochs 951-1000.\n",
            "Loss for Epoch 1000: 0.06494978214267885\n",
            "Training Complete \n",
            "\n",
            "Predictions Complete \n",
            "\n",
            "Accuracy: 98.4%\n"
          ]
        }
      ],
      "source": [
        "num_epochs = 1000\n",
        "\n",
        "network3 = MLP(X_train, y_train, lr=0.01, n_iter=num_epochs, num_input=2, \n",
        "              num_hidden=3, num_output=1, loss_function='Softplus')\n",
        "\n",
        "network3.fit(batch_size=32)\n",
        "\n",
        "predictions3 = network3.predict(X_test)\n",
        "predictions3 = np.array(predictions3)\n",
        "print(\"Predictions Complete \\n\")\n",
        "\n",
        "accuracy3 = np.sum(predictions3 == np.squeeze(y_test)) / len(y_test)\n",
        "print(\"Accuracy: \" + str(accuracy3*100) + \"%\")"
      ]
    },
    {
      "cell_type": "markdown",
      "metadata": {
        "id": "CylJjGFDfDrW"
      },
      "source": [
        "#### Plot Decision Regions"
      ]
    },
    {
      "cell_type": "code",
      "execution_count": 27,
      "metadata": {
        "colab": {
          "base_uri": "https://localhost:8080/",
          "height": 621
        },
        "id": "8UQl0xKRfn2g",
        "outputId": "b0dfb3a0-e40c-4e23-daae-de1dd8cf813d"
      },
      "outputs": [
        {
          "data": {
            "image/png": "[encoded data removed]",
            "text/plain": [
              "<Figure size 720x720 with 1 Axes>"
            ]
          },
          "metadata": {},
          "output_type": "display_data"
        }
      ],
      "source": [
        "network3.plot(data='test')"
      ]
    },
    {
      "cell_type": "markdown",
      "metadata": {
        "id": "-2_6a8MzfFhu"
      },
      "source": [
        "#### Plot Loss by Epoch"
      ]
    },
    {
      "cell_type": "code",
      "execution_count": 153,
      "metadata": {
        "colab": {
          "base_uri": "https://localhost:8080/",
          "height": 312
        },
        "id": "biOnALwMfrR6",
        "outputId": "5ad0f509-782c-4d76-82a9-4fbed0efdd9a"
      },
      "outputs": [
        {
          "data": {
            "text/plain": [
              "Text(0.5, 1.0, 'Loss by Epoch')"
            ]
          },
          "execution_count": 153,
          "metadata": {},
          "output_type": "execute_result"
        },
        {
          "data": {
            "image/png": "[encoded data removed]",
            "text/plain": [
              "<Figure size 432x288 with 1 Axes>"
            ]
          },
          "metadata": {},
          "output_type": "display_data"
        }
      ],
      "source": [
        "loss_by_epoch3 = network3.get_loss_by_epoch()\n",
        "plot_losses3 = []\n",
        "\n",
        "plot_losses3.append((1, loss_by_epoch3[0]))\n",
        "\n",
        "for l in range(len(loss_by_epoch3)):\n",
        "  if l % (num_epochs/50) == num_epochs/50 - 1:\n",
        "    plot_losses3.append((l+1, loss_by_epoch3[l]))\n",
        "    \n",
        "\n",
        "plot_losses3 = np.array(plot_losses3)\n",
        "\n",
        "sns.set_style('darkgrid')\n",
        "\n",
        "plt.xlim(-100,1100)\n",
        "plt.ylim(0,1)\n",
        "\n",
        "colors = {\n",
        "    0: \"ro\",\n",
        "    1: \"go\"\n",
        "}\n",
        "\n",
        "for i in range(len(plot_losses3)):\n",
        "  plt.plot([plot_losses3[i][0]], [plot_losses3[i][1]], colors[0], markersize=2)\n",
        "\n",
        "plt.xlabel('Epoch')\n",
        "plt.ylabel('Loss')\n",
        "plt.title('Loss by Epoch')"
      ]
    },
    {
      "cell_type": "markdown",
      "metadata": {
        "id": "G4W-pIlCfHlK"
      },
      "source": [
        "### Attempt 4: Hidden Layer with 16 Hidden Units"
      ]
    },
    {
      "cell_type": "markdown",
      "metadata": {
        "id": "WL2Ki8gmfOx1"
      },
      "source": [
        "#### Train Network"
      ]
    },
    {
      "cell_type": "code",
      "execution_count": 20,
      "metadata": {
        "colab": {
          "base_uri": "https://localhost:8080/",
          "height": 0
        },
        "id": "oNSECOKUf2LX",
        "outputId": "20d5faab-d7f4-472d-e78f-50776936f6e7"
      },
      "outputs": [
        {
          "name": "stdout",
          "output_type": "stream",
          "text": [
            "Network Training \n",
            "\n",
            "Number of Hidden Layers: 1\n",
            "Layer 1\n",
            "Number of Hidden Units:  16\n",
            "Activation Function: ReLU\n",
            "Output Layer\n",
            "Number of Outputs:  1\n",
            "Batch size:  32\n",
            "Loss Function: Softplus\n",
            "\n",
            "Fitting data... \n",
            "\n",
            "Starting Epoch 1...\n",
            "Finished Epochs 1-50.\n",
            "Loss for Epoch 50: 0.0011708502922597893\n",
            "Starting Epoch 51...\n",
            "Finished Epochs 51-100.\n",
            "Loss for Epoch 100: 0.001312961604143277\n",
            "Starting Epoch 101...\n",
            "Finished Epochs 101-150.\n",
            "Loss for Epoch 150: 4.073468621164203e-05\n",
            "Starting Epoch 151...\n",
            "Finished Epochs 151-200.\n",
            "Loss for Epoch 200: 1.3608761560437656e-05\n",
            "Starting Epoch 201...\n",
            "Finished Epochs 201-250.\n",
            "Loss for Epoch 250: 0.000986490160163329\n",
            "Starting Epoch 251...\n",
            "Finished Epochs 251-300.\n",
            "Loss for Epoch 300: 0.0016637710795888495\n",
            "Starting Epoch 301...\n",
            "Finished Epochs 301-350.\n",
            "Loss for Epoch 350: 4.263667482633945e-05\n",
            "Starting Epoch 351...\n",
            "Finished Epochs 351-400.\n",
            "Loss for Epoch 400: 6.209123805155084e-05\n",
            "Starting Epoch 401...\n",
            "Finished Epochs 401-450.\n",
            "Loss for Epoch 450: 0.0010043915060626157\n",
            "Starting Epoch 451...\n",
            "Finished Epochs 451-500.\n",
            "Loss for Epoch 500: 6.699508754584482e-05\n",
            "Starting Epoch 501...\n",
            "Finished Epochs 501-550.\n",
            "Loss for Epoch 550: 0.0002835674634182003\n",
            "Starting Epoch 551...\n",
            "Finished Epochs 551-600.\n",
            "Loss for Epoch 600: 0.0006023104609425643\n",
            "Starting Epoch 601...\n",
            "Finished Epochs 601-650.\n",
            "Loss for Epoch 650: 5.928905240119193e-05\n",
            "Starting Epoch 651...\n",
            "Finished Epochs 651-700.\n",
            "Loss for Epoch 700: 5.9417939302140234e-06\n",
            "Starting Epoch 701...\n",
            "Finished Epochs 701-750.\n",
            "Loss for Epoch 750: 3.749141067926568e-06\n",
            "Starting Epoch 751...\n",
            "Finished Epochs 751-800.\n",
            "Loss for Epoch 800: 1.4847415214807138e-06\n",
            "Starting Epoch 801...\n",
            "Finished Epochs 801-850.\n",
            "Loss for Epoch 850: 2.4037180728992854e-05\n",
            "Starting Epoch 851...\n",
            "Finished Epochs 851-900.\n",
            "Loss for Epoch 900: 0.0001258236341967477\n",
            "Starting Epoch 901...\n",
            "Finished Epochs 901-950.\n",
            "Loss for Epoch 950: 1.1258978547083613e-05\n",
            "Starting Epoch 951...\n",
            "Finished Epochs 951-1000.\n",
            "Loss for Epoch 1000: 0.00019090167752914517\n",
            "Training Complete \n",
            "\n",
            "Predictions Complete \n",
            "\n",
            "Accuracy: 99.9%\n"
          ]
        }
      ],
      "source": [
        "num_epochs = 1000\n",
        "\n",
        "network4 = MLP(X_train, y_train, lr=0.01, n_iter=num_epochs, num_input=2, \n",
        "              num_hidden=16, num_output=1, loss_function='Softplus')\n",
        "\n",
        "network4.fit(batch_size=32)\n",
        "\n",
        "predictions4 = network4.predict(X_test)\n",
        "predictions4 = np.array(predictions4)\n",
        "print(\"Predictions Complete \\n\")\n",
        "\n",
        "accuracy4 = np.sum(predictions4 == np.squeeze(y_test)) / len(y_test)\n",
        "print(\"Accuracy: \" + str(accuracy4*100) + \"%\")"
      ]
    },
    {
      "cell_type": "markdown",
      "metadata": {
        "id": "oKhnxeTGfQVP"
      },
      "source": [
        "#### Plot Decision Regions"
      ]
    },
    {
      "cell_type": "code",
      "execution_count": 21,
      "metadata": {
        "colab": {
          "base_uri": "https://localhost:8080/",
          "height": 621
        },
        "id": "BHxpGoqff8x4",
        "outputId": "a6203975-e9d0-4f79-c353-12e58fbffac5"
      },
      "outputs": [
        {
          "data": {
            "image/png": "[encoded data removed]",
            "text/plain": [
              "<Figure size 720x720 with 1 Axes>"
            ]
          },
          "metadata": {},
          "output_type": "display_data"
        }
      ],
      "source": [
        "network4.plot(data='test')"
      ]
    },
    {
      "cell_type": "markdown",
      "metadata": {
        "id": "qJMrxE5WfR9s"
      },
      "source": [
        "#### Plot Loss by Epoch"
      ]
    },
    {
      "cell_type": "code",
      "execution_count": 154,
      "metadata": {
        "colab": {
          "base_uri": "https://localhost:8080/",
          "height": 312
        },
        "id": "wX76qE6lgDM3",
        "outputId": "5f2c4625-ec5c-44ee-f2e5-477b23a35cf8"
      },
      "outputs": [
        {
          "data": {
            "text/plain": [
              "Text(0.5, 1.0, 'Loss by Epoch')"
            ]
          },
          "execution_count": 154,
          "metadata": {},
          "output_type": "execute_result"
        },
        {
          "data": {
            "image/png": "[encoded data removed]",
            "text/plain": [
              "<Figure size 432x288 with 1 Axes>"
            ]
          },
          "metadata": {},
          "output_type": "display_data"
        }
      ],
      "source": [
        "loss_by_epoch4 = network4.get_loss_by_epoch()\n",
        "plot_losses4 = []\n",
        "\n",
        "plot_losses4.append((1, loss_by_epoch4[0]))\n",
        "\n",
        "for l in range(len(loss_by_epoch4)):\n",
        "  if l % (num_epochs/50) == num_epochs/50 - 1:\n",
        "    plot_losses4.append((l+1, loss_by_epoch4[l]))\n",
        "    \n",
        "\n",
        "plot_losses4 = np.array(plot_losses4)\n",
        "\n",
        "sns.set_style('darkgrid')\n",
        "\n",
        "plt.xlim(-100,1100)\n",
        "plt.ylim(0,1)\n",
        "\n",
        "colors = {\n",
        "    0: \"ro\",\n",
        "    1: \"go\"\n",
        "}\n",
        "\n",
        "for i in range(len(plot_losses4)):\n",
        "  plt.plot([plot_losses4[i][0]], [plot_losses4[i][1]], colors[0], markersize=2)\n",
        "\n",
        "plt.xlabel('Epoch')\n",
        "plt.ylabel('Loss')\n",
        "plt.title('Loss by Epoch')"
      ]
    },
    {
      "cell_type": "markdown",
      "metadata": {
        "id": "5soGeGnEfU1p"
      },
      "source": [
        "### Attempt 5: Hidden Layer with 512 Hidden Units"
      ]
    },
    {
      "cell_type": "markdown",
      "metadata": {
        "id": "Xv-nDj3afYX_"
      },
      "source": [
        "#### Train Network"
      ]
    },
    {
      "cell_type": "code",
      "execution_count": 23,
      "metadata": {
        "colab": {
          "base_uri": "https://localhost:8080/",
          "height": 0
        },
        "id": "ioGwyCgggbGY",
        "outputId": "0057b333-3fa7-4493-cf77-9698655b5eea"
      },
      "outputs": [
        {
          "name": "stdout",
          "output_type": "stream",
          "text": [
            "Network Training \n",
            "\n",
            "Number of Hidden Layers: 1\n",
            "Layer 1\n",
            "Number of Hidden Units:  512\n",
            "Activation Function: ReLU\n",
            "Output Layer\n",
            "Number of Outputs:  1\n",
            "Batch size:  32\n",
            "Loss Function: Softplus\n",
            "\n",
            "Fitting data... \n",
            "\n",
            "Starting Epoch 1...\n",
            "Finished Epochs 1-50.\n",
            "Loss for Epoch 50: 0.0008835064451001692\n",
            "Starting Epoch 51...\n",
            "Finished Epochs 51-100.\n",
            "Loss for Epoch 100: 0.00032987277421195224\n",
            "Starting Epoch 101...\n",
            "Finished Epochs 101-150.\n",
            "Loss for Epoch 150: 0.0007574477185321409\n",
            "Starting Epoch 151...\n",
            "Finished Epochs 151-200.\n",
            "Loss for Epoch 200: 5.405831786040422e-05\n",
            "Starting Epoch 201...\n",
            "Finished Epochs 201-250.\n",
            "Loss for Epoch 250: 0.005523293378772507\n",
            "Starting Epoch 251...\n",
            "Finished Epochs 251-300.\n",
            "Loss for Epoch 300: 4.4374420979134554e-05\n",
            "Starting Epoch 301...\n",
            "Finished Epochs 301-350.\n",
            "Loss for Epoch 350: 0.0011310755303109443\n",
            "Starting Epoch 351...\n",
            "Finished Epochs 351-400.\n",
            "Loss for Epoch 400: 0.003919990986420307\n",
            "Starting Epoch 401...\n",
            "Finished Epochs 401-450.\n",
            "Loss for Epoch 450: 0.00010221166597733718\n",
            "Starting Epoch 451...\n",
            "Finished Epochs 451-500.\n",
            "Loss for Epoch 500: 0.0005064654074190551\n",
            "Starting Epoch 501...\n",
            "Finished Epochs 501-550.\n",
            "Loss for Epoch 550: 0.0011237357438799844\n",
            "Starting Epoch 551...\n",
            "Finished Epochs 551-600.\n",
            "Loss for Epoch 600: 7.204210312053793e-05\n",
            "Starting Epoch 601...\n",
            "Finished Epochs 601-650.\n",
            "Loss for Epoch 650: 0.000792066186933065\n",
            "Starting Epoch 651...\n",
            "Finished Epochs 651-700.\n",
            "Loss for Epoch 700: 0.0016535736195810037\n",
            "Starting Epoch 701...\n",
            "Finished Epochs 701-750.\n",
            "Loss for Epoch 750: 0.00014840369806336145\n",
            "Starting Epoch 751...\n",
            "Finished Epochs 751-800.\n",
            "Loss for Epoch 800: 0.00017084146792572508\n",
            "Starting Epoch 801...\n",
            "Finished Epochs 801-850.\n",
            "Loss for Epoch 850: 1.541246097226726e-05\n",
            "Starting Epoch 851...\n",
            "Finished Epochs 851-900.\n",
            "Loss for Epoch 900: 0.0007661968609695103\n",
            "Starting Epoch 901...\n",
            "Finished Epochs 901-950.\n",
            "Loss for Epoch 950: 3.900106495938493e-06\n",
            "Starting Epoch 951...\n",
            "Finished Epochs 951-1000.\n",
            "Loss for Epoch 1000: 1.6849881205057035e-06\n",
            "Training Complete \n",
            "\n",
            "Predictions Complete \n",
            "\n",
            "Accuracy: 100.0%\n"
          ]
        }
      ],
      "source": [
        "num_epochs = 1000\n",
        "\n",
        "network5 = MLP(X_train, y_train, lr=0.01, n_iter=num_epochs, num_input=2, \n",
        "              num_hidden=512, num_output=1, loss_function='Softplus')\n",
        "\n",
        "network5.fit(batch_size=32)\n",
        "\n",
        "predictions5 = network5.predict(X_test)\n",
        "predictions5 = np.array(predictions5)\n",
        "print(\"Predictions Complete \\n\")\n",
        "\n",
        "accuracy5 = np.sum(predictions5 == np.squeeze(y_test)) / len(y_test)\n",
        "print(\"Accuracy: \" + str(accuracy5*100) + \"%\")"
      ]
    },
    {
      "cell_type": "markdown",
      "metadata": {
        "id": "mgXiiOO2faGz"
      },
      "source": [
        "#### Plot Decision Regions"
      ]
    },
    {
      "cell_type": "code",
      "execution_count": 24,
      "metadata": {
        "colab": {
          "base_uri": "https://localhost:8080/",
          "height": 621
        },
        "id": "VzjqSZq8gYDk",
        "outputId": "f371baab-917b-4d0f-fbf5-006ba3d7d7ff"
      },
      "outputs": [
        {
          "data": {
            "image/png": "[encoded data removed]",
            "text/plain": [
              "<Figure size 720x720 with 1 Axes>"
            ]
          },
          "metadata": {},
          "output_type": "display_data"
        }
      ],
      "source": [
        "network5.plot(data='test')"
      ]
    },
    {
      "cell_type": "markdown",
      "metadata": {
        "id": "LkYzbjx1fbRq"
      },
      "source": [
        "#### Plot Loss by Epoch"
      ]
    },
    {
      "cell_type": "code",
      "execution_count": 155,
      "metadata": {
        "colab": {
          "base_uri": "https://localhost:8080/",
          "height": 312
        },
        "id": "rWeD-PK3gMtW",
        "outputId": "69d0ca6e-0696-44cc-ee5d-782c1c758550"
      },
      "outputs": [
        {
          "data": {
            "text/plain": [
              "Text(0.5, 1.0, 'Loss by Epoch')"
            ]
          },
          "execution_count": 155,
          "metadata": {},
          "output_type": "execute_result"
        },
        {
          "data": {
            "image/png": "[encoded data removed]",
            "text/plain": [
              "<Figure size 432x288 with 1 Axes>"
            ]
          },
          "metadata": {},
          "output_type": "display_data"
        }
      ],
      "source": [
        "loss_by_epoch5 = network5.get_loss_by_epoch()\n",
        "plot_losses5 = []\n",
        "\n",
        "plot_losses5.append((1, loss_by_epoch5[0]))\n",
        "\n",
        "for l in range(len(loss_by_epoch5)):\n",
        "  if l % (num_epochs/50) == num_epochs/50 - 1:\n",
        "    plot_losses5.append((l+1, loss_by_epoch5[l]))\n",
        "    \n",
        "\n",
        "plot_losses5 = np.array(plot_losses5)\n",
        "\n",
        "sns.set_style('darkgrid')\n",
        "\n",
        "plt.xlim(-100,1100)\n",
        "plt.ylim(0,1)\n",
        "\n",
        "colors = {\n",
        "    0: \"ro\",\n",
        "    1: \"go\"\n",
        "}\n",
        "\n",
        "for i in range(len(plot_losses5)):\n",
        "  plt.plot([plot_losses5[i][0]], [plot_losses5[i][1]], colors[0], markersize=2)\n",
        "\n",
        "plt.xlabel('Epoch')\n",
        "plt.ylabel('Loss')\n",
        "plt.title('Loss by Epoch')"
      ]
    },
    {
      "cell_type": "markdown",
      "metadata": {
        "id": "DObwjkFBmfg7"
      },
      "source": [
        "### Discussion: How the number of hidden units affects the solution"
      ]
    },
    {
      "cell_type": "markdown",
      "metadata": {
        "id": "s3s0jNiYmkkg"
      },
      "source": [
        "As the number of hidden units increases, the network converges towards a better approximation of the XOR solution. With just one hidden unit, the network is not able to adequately learn the XOR function and discern the features. As the number of hidden units increases, it is able to learn the function better and discern the distinct features, as in the case of two and three hidden units. The accuracy of the network increases on the test data with more hidden units and the loss function decreases more rapidly, as the network is able to more quickly converge on the solution with more hidden units. However, with too many hidden units, the network overfits the data and lacks generalizability, as with 16 and 512 units. Thus, there is an optimal number of hidden units for each network that adequately learns the desired function and is generalizable."
      ]
    },
    {
      "cell_type": "markdown",
      "metadata": {
        "id": "Z5wSvcGoqBc6"
      },
      "source": [
        "## Train and Test Network with Mean Square Error Loss"
      ]
    },
    {
      "cell_type": "markdown",
      "metadata": {
        "id": "O1a9Ze74qy92"
      },
      "source": [
        "### Attempt 1: Hidden Layer with 1 Hidden Unit"
      ]
    },
    {
      "cell_type": "markdown",
      "metadata": {
        "id": "88K5aDuwu_Si"
      },
      "source": [
        "#### Train Network"
      ]
    },
    {
      "cell_type": "code",
      "execution_count": 157,
      "metadata": {
        "colab": {
          "base_uri": "https://localhost:8080/",
          "height": 0
        },
        "id": "i_KUNphlvGpV",
        "outputId": "e97ede0a-7b8a-4e33-87a8-7ea28a43c6bf"
      },
      "outputs": [
        {
          "name": "stdout",
          "output_type": "stream",
          "text": [
            "Network Training \n",
            "\n",
            "Number of Hidden Layers: 1\n",
            "Layer 1\n",
            "Number of Hidden Units:  1\n",
            "Activation Function: ReLU\n",
            "Output Layer\n",
            "Number of Outputs:  1\n",
            "Batch size:  32\n",
            "Loss Function: MSE\n",
            "\n",
            "Fitting data... \n",
            "\n",
            "Starting Epoch 1...\n",
            "Finished Epochs 1-50.\n",
            "Loss for Epoch 50: 0.10896136426920798\n",
            "Starting Epoch 51...\n",
            "Finished Epochs 51-100.\n",
            "Loss for Epoch 100: 0.09925180432791106\n",
            "Starting Epoch 101...\n",
            "Finished Epochs 101-150.\n",
            "Loss for Epoch 150: 0.08964216479608302\n",
            "Starting Epoch 151...\n",
            "Finished Epochs 151-200.\n",
            "Loss for Epoch 200: 0.07822627062511103\n",
            "Starting Epoch 201...\n",
            "Finished Epochs 201-250.\n",
            "Loss for Epoch 250: 0.09963901532706733\n",
            "Starting Epoch 251...\n",
            "Finished Epochs 251-300.\n",
            "Loss for Epoch 300: 0.08909137827176426\n",
            "Starting Epoch 301...\n",
            "Finished Epochs 301-350.\n",
            "Loss for Epoch 350: 0.10271489134095754\n",
            "Starting Epoch 351...\n",
            "Finished Epochs 351-400.\n",
            "Loss for Epoch 400: 0.09674935318931138\n",
            "Starting Epoch 401...\n",
            "Finished Epochs 401-450.\n",
            "Loss for Epoch 450: 0.09043838026442055\n",
            "Starting Epoch 451...\n",
            "Finished Epochs 451-500.\n",
            "Loss for Epoch 500: 0.1091510750080426\n",
            "Starting Epoch 501...\n",
            "Finished Epochs 501-550.\n",
            "Loss for Epoch 550: 0.10017332783161247\n",
            "Starting Epoch 551...\n",
            "Finished Epochs 551-600.\n",
            "Loss for Epoch 600: 0.07997756858525523\n",
            "Starting Epoch 601...\n",
            "Finished Epochs 601-650.\n",
            "Loss for Epoch 650: 0.0844005115859994\n",
            "Starting Epoch 651...\n",
            "Finished Epochs 651-700.\n",
            "Loss for Epoch 700: 0.09569933570495867\n",
            "Starting Epoch 701...\n",
            "Finished Epochs 701-750.\n",
            "Loss for Epoch 750: 0.10357548344500948\n",
            "Starting Epoch 751...\n",
            "Finished Epochs 751-800.\n",
            "Loss for Epoch 800: 0.08164260853133237\n",
            "Starting Epoch 801...\n",
            "Finished Epochs 801-850.\n",
            "Loss for Epoch 850: 0.08955731556656668\n",
            "Starting Epoch 851...\n",
            "Finished Epochs 851-900.\n",
            "Loss for Epoch 900: 0.07466233447099896\n",
            "Starting Epoch 901...\n",
            "Finished Epochs 901-950.\n",
            "Loss for Epoch 950: 0.07083289645705637\n",
            "Starting Epoch 951...\n",
            "Finished Epochs 951-1000.\n",
            "Loss for Epoch 1000: 0.08577464026177498\n",
            "Training Complete \n",
            "\n",
            "Predictions Complete \n",
            "\n",
            "Accuracy: 47.699999999999996%\n"
          ]
        }
      ],
      "source": [
        "num_epochs = 1000\n",
        "\n",
        "network1b = MLP(X_train, y_train, lr=0.01, n_iter=num_epochs, num_input=2, \n",
        "              num_hidden=1, num_output=1, loss_function='MSE')\n",
        "\n",
        "network1b.fit(batch_size=32)\n",
        "\n",
        "predictions1b = network1b.predict(X_test)\n",
        "predictions1b = np.array(predictions1b)\n",
        "print(\"Predictions Complete \\n\")\n",
        "\n",
        "accuracy1b = np.sum(predictions1b == np.squeeze(y_test)) / len(y_test)\n",
        "print(\"Accuracy: \" + str(accuracy1b*100) + \"%\")"
      ]
    },
    {
      "cell_type": "markdown",
      "metadata": {
        "id": "P8SMfdoTvBoY"
      },
      "source": [
        "#### Plot Decision Regions"
      ]
    },
    {
      "cell_type": "code",
      "execution_count": 158,
      "metadata": {
        "colab": {
          "base_uri": "https://localhost:8080/",
          "height": 621
        },
        "id": "kZxAi-eexZ0j",
        "outputId": "0ac0fd2e-85d3-4e19-992a-c4a2bc74f60b"
      },
      "outputs": [
        {
          "data": {
            "image/png": "[encoded data removed]",
            "text/plain": [
              "<Figure size 720x720 with 1 Axes>"
            ]
          },
          "metadata": {},
          "output_type": "display_data"
        }
      ],
      "source": [
        "network1b.plot(data='test')"
      ]
    },
    {
      "cell_type": "markdown",
      "metadata": {
        "id": "r7LarRCCvEsI"
      },
      "source": [
        "#### Plot Loss by Epoch"
      ]
    },
    {
      "cell_type": "code",
      "execution_count": 159,
      "metadata": {
        "colab": {
          "base_uri": "https://localhost:8080/",
          "height": 312
        },
        "id": "OhuP_GozxeC3",
        "outputId": "5f8fe41c-5be5-4846-c691-5e40e448590f"
      },
      "outputs": [
        {
          "data": {
            "text/plain": [
              "Text(0.5, 1.0, 'Loss by Epoch')"
            ]
          },
          "execution_count": 159,
          "metadata": {},
          "output_type": "execute_result"
        },
        {
          "data": {
            "image/png": "[encoded data removed]",
            "text/plain": [
              "<Figure size 432x288 with 1 Axes>"
            ]
          },
          "metadata": {},
          "output_type": "display_data"
        }
      ],
      "source": [
        "loss_by_epoch1b = network1b.get_loss_by_epoch()\n",
        "plot_losses1b = []\n",
        "\n",
        "plot_losses1b.append((1, loss_by_epoch1b[0]))\n",
        "\n",
        "for l in range(len(loss_by_epoch1b)):\n",
        "  if l % (num_epochs/50) == num_epochs/50 - 1:\n",
        "    plot_losses1b.append((l+1, loss_by_epoch1b[l]))\n",
        "    \n",
        "\n",
        "plot_losses1b = np.array(plot_losses1b)\n",
        "\n",
        "sns.set_style('darkgrid')\n",
        "\n",
        "plt.xlim(-100,1100)\n",
        "plt.ylim(0,1)\n",
        "\n",
        "colors = {\n",
        "    0: \"ro\",\n",
        "    1: \"go\"\n",
        "}\n",
        "\n",
        "for i in range(len(plot_losses1b)):\n",
        "  plt.plot([plot_losses1b[i][0]], [plot_losses1b[i][1]], colors[0], markersize=2)\n",
        "\n",
        "plt.xlabel('Epoch')\n",
        "plt.ylabel('Loss')\n",
        "plt.title('Loss by Epoch')"
      ]
    },
    {
      "cell_type": "markdown",
      "metadata": {
        "id": "5fcJVewMx2uT"
      },
      "source": [
        "### Attempt 2: Hidden Layer with 2 Hidden Units"
      ]
    },
    {
      "cell_type": "markdown",
      "metadata": {
        "id": "LE-CZeBcx8Rw"
      },
      "source": [
        "#### Train Network"
      ]
    },
    {
      "cell_type": "code",
      "execution_count": 160,
      "metadata": {
        "colab": {
          "base_uri": "https://localhost:8080/",
          "height": 0
        },
        "id": "VOvmKtpqx-Iu",
        "outputId": "f45a43e0-f5a6-4a55-f422-a07075306f42"
      },
      "outputs": [
        {
          "name": "stdout",
          "output_type": "stream",
          "text": [
            "Network Training \n",
            "\n",
            "Number of Hidden Layers: 1\n",
            "Layer 1\n",
            "Number of Hidden Units:  2\n",
            "Activation Function: ReLU\n",
            "Output Layer\n",
            "Number of Outputs:  1\n",
            "Batch size:  32\n",
            "Loss Function: MSE\n",
            "\n",
            "Fitting data... \n",
            "\n",
            "Starting Epoch 1...\n",
            "Finished Epochs 1-50.\n",
            "Loss for Epoch 50: 0.010571020188944956\n",
            "Starting Epoch 51...\n",
            "Finished Epochs 51-100.\n",
            "Loss for Epoch 100: 0.009124231676913676\n",
            "Starting Epoch 101...\n",
            "Finished Epochs 101-150.\n",
            "Loss for Epoch 150: 0.015945054983722336\n",
            "Starting Epoch 151...\n",
            "Finished Epochs 151-200.\n",
            "Loss for Epoch 200: 0.015416203852020104\n",
            "Starting Epoch 201...\n",
            "Finished Epochs 201-250.\n",
            "Loss for Epoch 250: 0.04306664533692811\n",
            "Starting Epoch 251...\n",
            "Finished Epochs 251-300.\n",
            "Loss for Epoch 300: 0.019720238015619014\n",
            "Starting Epoch 301...\n",
            "Finished Epochs 301-350.\n",
            "Loss for Epoch 350: 0.012541676479868796\n",
            "Starting Epoch 351...\n",
            "Finished Epochs 351-400.\n",
            "Loss for Epoch 400: 0.012612398771706375\n",
            "Starting Epoch 401...\n",
            "Finished Epochs 401-450.\n",
            "Loss for Epoch 450: 0.022718394395341377\n",
            "Starting Epoch 451...\n",
            "Finished Epochs 451-500.\n",
            "Loss for Epoch 500: 0.018552489168276433\n",
            "Starting Epoch 501...\n",
            "Finished Epochs 501-550.\n",
            "Loss for Epoch 550: 0.012046658113606933\n",
            "Starting Epoch 551...\n",
            "Finished Epochs 551-600.\n",
            "Loss for Epoch 600: 0.020773121837417682\n",
            "Starting Epoch 601...\n",
            "Finished Epochs 601-650.\n",
            "Loss for Epoch 650: 0.011133183621196235\n",
            "Starting Epoch 651...\n",
            "Finished Epochs 651-700.\n",
            "Loss for Epoch 700: 0.02249280953043663\n",
            "Starting Epoch 701...\n",
            "Finished Epochs 701-750.\n",
            "Loss for Epoch 750: 0.008858326604460658\n",
            "Starting Epoch 751...\n",
            "Finished Epochs 751-800.\n",
            "Loss for Epoch 800: 0.033077130762373806\n",
            "Starting Epoch 801...\n",
            "Finished Epochs 801-850.\n",
            "Loss for Epoch 850: 0.010338049373345877\n",
            "Starting Epoch 851...\n",
            "Finished Epochs 851-900.\n",
            "Loss for Epoch 900: 0.009052580404652273\n",
            "Starting Epoch 901...\n",
            "Finished Epochs 901-950.\n",
            "Loss for Epoch 950: 0.01582607271246346\n",
            "Starting Epoch 951...\n",
            "Finished Epochs 951-1000.\n",
            "Loss for Epoch 1000: 0.02858600855379294\n",
            "Training Complete \n",
            "\n",
            "Predictions Complete \n",
            "\n",
            "Accuracy: 78.8%\n"
          ]
        }
      ],
      "source": [
        "num_epochs = 1000\n",
        "\n",
        "network2b = MLP(X_train, y_train, lr=0.01, n_iter=num_epochs, num_input=2, \n",
        "              num_hidden=2, num_output=1, loss_function='MSE')\n",
        "\n",
        "network2b.fit(batch_size=32)\n",
        "\n",
        "predictions2b = network2b.predict(X_test)\n",
        "predictions2b = np.array(predictions2b)\n",
        "print(\"Predictions Complete \\n\")\n",
        "\n",
        "accuracy2b = np.sum(predictions2b == np.squeeze(y_test)) / len(y_test)\n",
        "print(\"Accuracy: \" + str(accuracy2b*100) + \"%\")"
      ]
    },
    {
      "cell_type": "markdown",
      "metadata": {
        "id": "TZxyFaQKy0tR"
      },
      "source": [
        "#### Plot Decision Regions"
      ]
    },
    {
      "cell_type": "code",
      "execution_count": 161,
      "metadata": {
        "colab": {
          "base_uri": "https://localhost:8080/",
          "height": 621
        },
        "id": "Mo0bJV7uy0ML",
        "outputId": "27c8021a-b62b-4f03-9ca2-11a19f0a47f7"
      },
      "outputs": [
        {
          "data": {
            "image/png": "[encoded data removed]",
            "text/plain": [
              "<Figure size 720x720 with 1 Axes>"
            ]
          },
          "metadata": {},
          "output_type": "display_data"
        }
      ],
      "source": [
        "network2b.plot(data='test')"
      ]
    },
    {
      "cell_type": "markdown",
      "metadata": {
        "id": "syLuy2S3zGCb"
      },
      "source": [
        "#### Plot Loss by Epoch"
      ]
    },
    {
      "cell_type": "code",
      "execution_count": 162,
      "metadata": {
        "colab": {
          "base_uri": "https://localhost:8080/",
          "height": 312
        },
        "id": "6mU8CVCpzHld",
        "outputId": "a5f09f2b-8faf-4dd8-adbc-c8cc558fdb1e"
      },
      "outputs": [
        {
          "data": {
            "text/plain": [
              "Text(0.5, 1.0, 'Loss by Epoch')"
            ]
          },
          "execution_count": 162,
          "metadata": {},
          "output_type": "execute_result"
        },
        {
          "data": {
            "image/png": "[encoded data removed]",
            "text/plain": [
              "<Figure size 432x288 with 1 Axes>"
            ]
          },
          "metadata": {},
          "output_type": "display_data"
        }
      ],
      "source": [
        "loss_by_epoch2b = network2b.get_loss_by_epoch()\n",
        "plot_losses2b = []\n",
        "\n",
        "plot_losses2b.append((1, loss_by_epoch2b[0]))\n",
        "\n",
        "for l in range(len(loss_by_epoch2b)):\n",
        "  if l % (num_epochs/50) == num_epochs/50 - 1:\n",
        "    plot_losses2b.append((l+1, loss_by_epoch2b[l]))\n",
        "    \n",
        "\n",
        "plot_losses2b = np.array(plot_losses2b)\n",
        "\n",
        "sns.set_style('darkgrid')\n",
        "\n",
        "plt.xlim(-100,1100)\n",
        "plt.ylim(0,1)\n",
        "\n",
        "colors = {\n",
        "    0: \"ro\",\n",
        "    1: \"go\"\n",
        "}\n",
        "\n",
        "for i in range(len(plot_losses2b)):\n",
        "  plt.plot([plot_losses2b[i][0]], [plot_losses2b[i][1]], colors[0], markersize=2)\n",
        "\n",
        "plt.xlabel('x1')\n",
        "plt.ylabel('x2')\n",
        "plt.title('Loss by Epoch')"
      ]
    },
    {
      "cell_type": "markdown",
      "metadata": {
        "id": "C-f9bxq4yKxB"
      },
      "source": [
        "### Attempt 3: Hidden Layer with 3 Hidden Units"
      ]
    },
    {
      "cell_type": "markdown",
      "metadata": {
        "id": "eTFZfjJKyOrl"
      },
      "source": [
        "#### Train Network"
      ]
    },
    {
      "cell_type": "code",
      "execution_count": 163,
      "metadata": {
        "colab": {
          "base_uri": "https://localhost:8080/",
          "height": 0
        },
        "id": "u9Kw6p42yNoG",
        "outputId": "01a5a29b-78a6-4feb-bc85-f56d411e65df"
      },
      "outputs": [
        {
          "name": "stdout",
          "output_type": "stream",
          "text": [
            "Network Training \n",
            "\n",
            "Number of Hidden Layers: 1\n",
            "Layer 1\n",
            "Number of Hidden Units:  3\n",
            "Activation Function: ReLU\n",
            "Output Layer\n",
            "Number of Outputs:  1\n",
            "Batch size:  32\n",
            "Loss Function: MSE\n",
            "\n",
            "Fitting data... \n",
            "\n",
            "Starting Epoch 1...\n",
            "Finished Epochs 1-50.\n",
            "Loss for Epoch 50: 0.0793772234000847\n",
            "Starting Epoch 51...\n",
            "Finished Epochs 51-100.\n",
            "Loss for Epoch 100: 0.06100168901965713\n",
            "Starting Epoch 101...\n",
            "Finished Epochs 101-150.\n",
            "Loss for Epoch 150: 0.05532242745002587\n",
            "Starting Epoch 151...\n",
            "Finished Epochs 151-200.\n",
            "Loss for Epoch 200: 0.017281935955508976\n",
            "Starting Epoch 201...\n",
            "Finished Epochs 201-250.\n",
            "Loss for Epoch 250: 0.014491497054852705\n",
            "Starting Epoch 251...\n",
            "Finished Epochs 251-300.\n",
            "Loss for Epoch 300: 0.014919181735332894\n",
            "Starting Epoch 301...\n",
            "Finished Epochs 301-350.\n",
            "Loss for Epoch 350: 0.01933814459953515\n",
            "Starting Epoch 351...\n",
            "Finished Epochs 351-400.\n",
            "Loss for Epoch 400: 0.013256330669702582\n",
            "Starting Epoch 401...\n",
            "Finished Epochs 401-450.\n",
            "Loss for Epoch 450: 0.010491703571393559\n",
            "Starting Epoch 451...\n",
            "Finished Epochs 451-500.\n",
            "Loss for Epoch 500: 0.015826308500262423\n",
            "Starting Epoch 501...\n",
            "Finished Epochs 501-550.\n",
            "Loss for Epoch 550: 0.012937326732377286\n",
            "Starting Epoch 551...\n",
            "Finished Epochs 551-600.\n",
            "Loss for Epoch 600: 0.007499817891811406\n",
            "Starting Epoch 601...\n",
            "Finished Epochs 601-650.\n",
            "Loss for Epoch 650: 0.004423101290273993\n",
            "Starting Epoch 651...\n",
            "Finished Epochs 651-700.\n",
            "Loss for Epoch 700: 0.006580877374338989\n",
            "Starting Epoch 701...\n",
            "Finished Epochs 701-750.\n",
            "Loss for Epoch 750: 0.00683877690639067\n",
            "Starting Epoch 751...\n",
            "Finished Epochs 751-800.\n",
            "Loss for Epoch 800: 0.019139357607753243\n",
            "Starting Epoch 801...\n",
            "Finished Epochs 801-850.\n",
            "Loss for Epoch 850: 0.012494334102727201\n",
            "Starting Epoch 851...\n",
            "Finished Epochs 851-900.\n",
            "Loss for Epoch 900: 0.01443468548934276\n",
            "Starting Epoch 901...\n",
            "Finished Epochs 901-950.\n",
            "Loss for Epoch 950: 0.009224620196093018\n",
            "Starting Epoch 951...\n",
            "Finished Epochs 951-1000.\n",
            "Loss for Epoch 1000: 0.00936681615793527\n",
            "Training Complete \n",
            "\n",
            "Predictions Complete \n",
            "\n",
            "Accuracy: 70.89999999999999%\n"
          ]
        }
      ],
      "source": [
        "num_epochs = 1000\n",
        "\n",
        "network3b = MLP(X_train, y_train, lr=0.01, n_iter=num_epochs, num_input=2, \n",
        "              num_hidden=3, num_output=1, loss_function='MSE')\n",
        "\n",
        "network3b.fit(batch_size=32)\n",
        "\n",
        "predictions3b = network3b.predict(X_test)\n",
        "predictions3b = np.array(predictions3b)\n",
        "print(\"Predictions Complete \\n\")\n",
        "\n",
        "accuracy3b = np.sum(predictions3b == np.squeeze(y_test)) / len(y_test)\n",
        "print(\"Accuracy: \" + str(accuracy3b*100) + \"%\")"
      ]
    },
    {
      "cell_type": "markdown",
      "metadata": {
        "id": "cx7mA_14y4HS"
      },
      "source": [
        "#### Plot Decision Regions"
      ]
    },
    {
      "cell_type": "code",
      "execution_count": 164,
      "metadata": {
        "colab": {
          "base_uri": "https://localhost:8080/",
          "height": 621
        },
        "id": "dpU1ScPKy50s",
        "outputId": "2ba35baa-ba21-45c2-d074-d48cf1d3e248"
      },
      "outputs": [
        {
          "data": {
            "image/png": "[encoded data removed]",
            "text/plain": [
              "<Figure size 720x720 with 1 Axes>"
            ]
          },
          "metadata": {},
          "output_type": "display_data"
        }
      ],
      "source": [
        "network3b.plot(data='test')"
      ]
    },
    {
      "cell_type": "markdown",
      "metadata": {
        "id": "p3LbN3RvzUfc"
      },
      "source": [
        "#### Plot Loss by Epoch"
      ]
    },
    {
      "cell_type": "code",
      "execution_count": 165,
      "metadata": {
        "colab": {
          "base_uri": "https://localhost:8080/",
          "height": 312
        },
        "id": "cIJSz2-wzWWX",
        "outputId": "3079c4f0-31fc-485f-f9d2-8ee0299b2f76"
      },
      "outputs": [
        {
          "data": {
            "text/plain": [
              "Text(0.5, 1.0, 'Loss by Epoch')"
            ]
          },
          "execution_count": 165,
          "metadata": {},
          "output_type": "execute_result"
        },
        {
          "data": {
            "image/png": "[encoded data removed]",
            "text/plain": [
              "<Figure size 432x288 with 1 Axes>"
            ]
          },
          "metadata": {},
          "output_type": "display_data"
        }
      ],
      "source": [
        "loss_by_epoch3b = network3b.get_loss_by_epoch()\n",
        "plot_losses3b = []\n",
        "\n",
        "plot_losses3b.append((1, loss_by_epoch3b[0]))\n",
        "\n",
        "for l in range(len(loss_by_epoch3b)):\n",
        "  if l % (num_epochs/50) == num_epochs/50 - 1:\n",
        "    plot_losses3b.append((l+1, loss_by_epoch3b[l]))\n",
        "    \n",
        "\n",
        "plot_losses3b = np.array(plot_losses3b)\n",
        "\n",
        "sns.set_style('darkgrid')\n",
        "\n",
        "plt.xlim(-100,1100)\n",
        "plt.ylim(0,1)\n",
        "\n",
        "colors = {\n",
        "    0: \"ro\",\n",
        "    1: \"go\"\n",
        "}\n",
        "\n",
        "for i in range(len(plot_losses3b)):\n",
        "  plt.plot([plot_losses3b[i][0]], [plot_losses3b[i][1]], colors[0], markersize=2)\n",
        "\n",
        "plt.xlabel('x1')\n",
        "plt.ylabel('x2')\n",
        "plt.title('Loss by Epoch')"
      ]
    },
    {
      "cell_type": "markdown",
      "metadata": {
        "id": "7HWDzuqJyX5Q"
      },
      "source": [
        "### Attempt 4: Hidden Layer with 16 Hidden Units"
      ]
    },
    {
      "cell_type": "markdown",
      "metadata": {
        "id": "sc5ks7_Dya3D"
      },
      "source": [
        "#### Train Network"
      ]
    },
    {
      "cell_type": "code",
      "execution_count": 166,
      "metadata": {
        "colab": {
          "base_uri": "https://localhost:8080/",
          "height": 0
        },
        "id": "DsIwUhEzydcM",
        "outputId": "da59d915-2828-4596-81f9-9a3456a87be7"
      },
      "outputs": [
        {
          "name": "stdout",
          "output_type": "stream",
          "text": [
            "Network Training \n",
            "\n",
            "Number of Hidden Layers: 1\n",
            "Layer 1\n",
            "Number of Hidden Units:  16\n",
            "Activation Function: ReLU\n",
            "Output Layer\n",
            "Number of Outputs:  1\n",
            "Batch size:  32\n",
            "Loss Function: MSE\n",
            "\n",
            "Fitting data... \n",
            "\n",
            "Starting Epoch 1...\n",
            "Finished Epochs 1-50.\n",
            "Loss for Epoch 50: 0.0013996429049349627\n",
            "Starting Epoch 51...\n",
            "Finished Epochs 51-100.\n",
            "Loss for Epoch 100: 0.0025881190577311075\n",
            "Starting Epoch 101...\n",
            "Finished Epochs 101-150.\n",
            "Loss for Epoch 150: 0.00039548996372496025\n",
            "Starting Epoch 151...\n",
            "Finished Epochs 151-200.\n",
            "Loss for Epoch 200: 0.0002667262966269054\n",
            "Starting Epoch 201...\n",
            "Finished Epochs 201-250.\n",
            "Loss for Epoch 250: 0.0013694974584202617\n",
            "Starting Epoch 251...\n",
            "Finished Epochs 251-300.\n",
            "Loss for Epoch 300: 0.004238205317324853\n",
            "Starting Epoch 301...\n",
            "Finished Epochs 301-350.\n",
            "Loss for Epoch 350: 0.0015281177050996814\n",
            "Starting Epoch 351...\n",
            "Finished Epochs 351-400.\n",
            "Loss for Epoch 400: 0.0005473904194576714\n",
            "Starting Epoch 401...\n",
            "Finished Epochs 401-450.\n",
            "Loss for Epoch 450: 0.001733150308002374\n",
            "Starting Epoch 451...\n",
            "Finished Epochs 451-500.\n",
            "Loss for Epoch 500: 0.0028365939520915533\n",
            "Starting Epoch 501...\n",
            "Finished Epochs 501-550.\n",
            "Loss for Epoch 550: 0.0009340469964959908\n",
            "Starting Epoch 551...\n",
            "Finished Epochs 551-600.\n",
            "Loss for Epoch 600: 9.014128958676768e-05\n",
            "Starting Epoch 601...\n",
            "Finished Epochs 601-650.\n",
            "Loss for Epoch 650: 0.00017666028300182166\n",
            "Starting Epoch 651...\n",
            "Finished Epochs 651-700.\n",
            "Loss for Epoch 700: 8.790527803799549e-05\n",
            "Starting Epoch 701...\n",
            "Finished Epochs 701-750.\n",
            "Loss for Epoch 750: 0.0012625058250426066\n",
            "Starting Epoch 751...\n",
            "Finished Epochs 751-800.\n",
            "Loss for Epoch 800: 8.209467145057212e-05\n",
            "Starting Epoch 801...\n",
            "Finished Epochs 801-850.\n",
            "Loss for Epoch 850: 0.0008230489250109987\n",
            "Starting Epoch 851...\n",
            "Finished Epochs 851-900.\n",
            "Loss for Epoch 900: 0.0042366299469371056\n",
            "Starting Epoch 901...\n",
            "Finished Epochs 901-950.\n",
            "Loss for Epoch 950: 4.236480504903158e-05\n",
            "Starting Epoch 951...\n",
            "Finished Epochs 951-1000.\n",
            "Loss for Epoch 1000: 0.001350715874730487\n",
            "Training Complete \n",
            "\n",
            "Predictions Complete \n",
            "\n",
            "Accuracy: 59.699999999999996%\n"
          ]
        }
      ],
      "source": [
        "num_epochs = 1000\n",
        "\n",
        "network4b = MLP(X_train, y_train, lr=0.01, n_iter=num_epochs, num_input=2, \n",
        "              num_hidden=16, num_output=1, loss_function='MSE')\n",
        "\n",
        "network4b.fit(batch_size=32)\n",
        "\n",
        "predictions4b = network4b.predict(X_test)\n",
        "predictions4b = np.array(predictions4b)\n",
        "print(\"Predictions Complete \\n\")\n",
        "\n",
        "accuracy4b = np.sum(predictions4b == np.squeeze(y_test)) / len(y_test)\n",
        "print(\"Accuracy: \" + str(accuracy4b*100) + \"%\")"
      ]
    },
    {
      "cell_type": "markdown",
      "metadata": {
        "id": "wabdk2l-y7oa"
      },
      "source": [
        "#### Plot Decision Regions"
      ]
    },
    {
      "cell_type": "code",
      "execution_count": 167,
      "metadata": {
        "colab": {
          "base_uri": "https://localhost:8080/",
          "height": 621
        },
        "id": "Zlc7cNDDy9ZX",
        "outputId": "f6e0207c-8cf1-4288-ad1a-c52315c8edaa"
      },
      "outputs": [
        {
          "data": {
            "image/png": "[encoded data removed]",
            "text/plain": [
              "<Figure size 720x720 with 1 Axes>"
            ]
          },
          "metadata": {},
          "output_type": "display_data"
        }
      ],
      "source": [
        "network4b.plot(data='test')"
      ]
    },
    {
      "cell_type": "markdown",
      "metadata": {
        "id": "96Bg7xBhzhvX"
      },
      "source": [
        "#### Plot Loss by Epoch"
      ]
    },
    {
      "cell_type": "code",
      "execution_count": 168,
      "metadata": {
        "colab": {
          "base_uri": "https://localhost:8080/",
          "height": 312
        },
        "id": "WIRcprT9zjkj",
        "outputId": "c5712df2-8b7d-4506-e6b5-568b000774ac"
      },
      "outputs": [
        {
          "data": {
            "text/plain": [
              "Text(0.5, 1.0, 'Loss by Epoch')"
            ]
          },
          "execution_count": 168,
          "metadata": {},
          "output_type": "execute_result"
        },
        {
          "data": {
            "image/png": "[encoded data removed]",
            "text/plain": [
              "<Figure size 432x288 with 1 Axes>"
            ]
          },
          "metadata": {},
          "output_type": "display_data"
        }
      ],
      "source": [
        "loss_by_epoch4b = network4b.get_loss_by_epoch()\n",
        "plot_losses4b = []\n",
        "\n",
        "plot_losses4b.append((1, loss_by_epoch4b[0]))\n",
        "\n",
        "for l in range(len(loss_by_epoch4b)):\n",
        "  if l % (num_epochs/50) == num_epochs/50 - 1:\n",
        "    plot_losses4b.append((l+1, loss_by_epoch4b[l]))\n",
        "    \n",
        "\n",
        "plot_losses4b = np.array(plot_losses4b)\n",
        "\n",
        "sns.set_style('darkgrid')\n",
        "\n",
        "plt.xlim(-100,1100)\n",
        "plt.ylim(0,1)\n",
        "\n",
        "colors = {\n",
        "    0: \"ro\",\n",
        "    1: \"go\"\n",
        "}\n",
        "\n",
        "for i in range(len(plot_losses4b)):\n",
        "  plt.plot([plot_losses4b[i][0]], [plot_losses4b[i][1]], colors[0], markersize=2)\n",
        "\n",
        "plt.xlabel('x1')\n",
        "plt.ylabel('x2')\n",
        "plt.title('Loss by Epoch')"
      ]
    },
    {
      "cell_type": "markdown",
      "metadata": {
        "id": "1jD6YiBSykwv"
      },
      "source": [
        "### Attempt 5: Hidden Layer with 512 Hidden Units"
      ]
    },
    {
      "cell_type": "markdown",
      "metadata": {
        "id": "211YmKCkyn6E"
      },
      "source": [
        "#### Train Network"
      ]
    },
    {
      "cell_type": "code",
      "execution_count": 169,
      "metadata": {
        "colab": {
          "base_uri": "https://localhost:8080/",
          "height": 0
        },
        "id": "Zh9xUSFtyo5u",
        "outputId": "70a97fa9-9a70-4100-c910-9581eedc3ed1"
      },
      "outputs": [
        {
          "name": "stdout",
          "output_type": "stream",
          "text": [
            "Network Training \n",
            "\n",
            "Number of Hidden Layers: 1\n",
            "Layer 1\n",
            "Number of Hidden Units:  512\n",
            "Activation Function: ReLU\n",
            "Output Layer\n",
            "Number of Outputs:  1\n",
            "Batch size:  32\n",
            "Loss Function: MSE\n",
            "\n",
            "Fitting data... \n",
            "\n",
            "Starting Epoch 1...\n",
            "Finished Epochs 1-50.\n",
            "Loss for Epoch 50: 0.0065152564416259455\n",
            "Starting Epoch 51...\n",
            "Finished Epochs 51-100.\n",
            "Loss for Epoch 100: 0.004709631190354385\n",
            "Starting Epoch 101...\n",
            "Finished Epochs 101-150.\n",
            "Loss for Epoch 150: 0.0015307281804955017\n",
            "Starting Epoch 151...\n",
            "Finished Epochs 151-200.\n",
            "Loss for Epoch 200: 0.0064609705131697046\n",
            "Starting Epoch 201...\n",
            "Finished Epochs 201-250.\n",
            "Loss for Epoch 250: 0.0018113072740169917\n",
            "Starting Epoch 251...\n",
            "Finished Epochs 251-300.\n",
            "Loss for Epoch 300: 0.00028083485134545826\n",
            "Starting Epoch 301...\n",
            "Finished Epochs 301-350.\n",
            "Loss for Epoch 350: 0.00029028626168105406\n",
            "Starting Epoch 351...\n",
            "Finished Epochs 351-400.\n",
            "Loss for Epoch 400: 0.00016042762066105991\n",
            "Starting Epoch 401...\n",
            "Finished Epochs 401-450.\n",
            "Loss for Epoch 450: 0.00020168292030084889\n",
            "Starting Epoch 451...\n",
            "Finished Epochs 451-500.\n",
            "Loss for Epoch 500: 0.0005837515747975511\n",
            "Starting Epoch 501...\n",
            "Finished Epochs 501-550.\n",
            "Loss for Epoch 550: 7.655386059510693e-05\n",
            "Starting Epoch 551...\n",
            "Finished Epochs 551-600.\n",
            "Loss for Epoch 600: 0.0009642675543208301\n",
            "Starting Epoch 601...\n",
            "Finished Epochs 601-650.\n",
            "Loss for Epoch 650: 0.004932039627907406\n",
            "Starting Epoch 651...\n",
            "Finished Epochs 651-700.\n",
            "Loss for Epoch 700: 0.001407358566540462\n",
            "Starting Epoch 701...\n",
            "Finished Epochs 701-750.\n",
            "Loss for Epoch 750: 0.000761574996771619\n",
            "Starting Epoch 751...\n",
            "Finished Epochs 751-800.\n",
            "Loss for Epoch 800: 0.00026443582949619985\n",
            "Starting Epoch 801...\n",
            "Finished Epochs 801-850.\n",
            "Loss for Epoch 850: 3.215153899883692e-05\n",
            "Starting Epoch 851...\n",
            "Finished Epochs 851-900.\n",
            "Loss for Epoch 900: 0.00010987297716906868\n",
            "Starting Epoch 901...\n",
            "Finished Epochs 901-950.\n",
            "Loss for Epoch 950: 0.0006709058448601126\n",
            "Starting Epoch 951...\n",
            "Finished Epochs 951-1000.\n",
            "Loss for Epoch 1000: 0.0005674921547334564\n",
            "Training Complete \n",
            "\n",
            "Predictions Complete \n",
            "\n",
            "Accuracy: 64.1%\n"
          ]
        }
      ],
      "source": [
        "num_epochs = 1000\n",
        "\n",
        "network5b = MLP(X_train, y_train, lr=0.01, n_iter=num_epochs, num_input=2, \n",
        "              num_hidden=512, num_output=1, loss_function='MSE')\n",
        "\n",
        "network5b.fit(batch_size=32)\n",
        "\n",
        "predictions5b = network5b.predict(X_test)\n",
        "predictions5b = np.array(predictions5b)\n",
        "print(\"Predictions Complete \\n\")\n",
        "\n",
        "accuracy5b = np.sum(predictions5b == np.squeeze(y_test)) / len(y_test)\n",
        "print(\"Accuracy: \" + str(accuracy5b*100) + \"%\")"
      ]
    },
    {
      "cell_type": "markdown",
      "metadata": {
        "id": "NpIKsZ-Cy_Pe"
      },
      "source": [
        "#### Plot Decision Regions"
      ]
    },
    {
      "cell_type": "code",
      "execution_count": 170,
      "metadata": {
        "colab": {
          "base_uri": "https://localhost:8080/",
          "height": 621
        },
        "id": "ELJqGpFEzAzO",
        "outputId": "8e86d97b-7fd7-43bf-a608-4780a8f3f259"
      },
      "outputs": [
        {
          "data": {
            "image/png": "[encoded data removed]",
            "text/plain": [
              "<Figure size 720x720 with 1 Axes>"
            ]
          },
          "metadata": {},
          "output_type": "display_data"
        }
      ],
      "source": [
        "network5b.plot(data='test')"
      ]
    },
    {
      "cell_type": "markdown",
      "metadata": {
        "id": "aGpmYKBazrlK"
      },
      "source": [
        "#### Plot Loss by Epoch"
      ]
    },
    {
      "cell_type": "code",
      "execution_count": 171,
      "metadata": {
        "colab": {
          "base_uri": "https://localhost:8080/",
          "height": 312
        },
        "id": "M-uzOmsozuG0",
        "outputId": "7e2a3d78-b77e-40e6-a45d-126ecf4a2498"
      },
      "outputs": [
        {
          "data": {
            "text/plain": [
              "Text(0.5, 1.0, 'Loss by Epoch')"
            ]
          },
          "execution_count": 171,
          "metadata": {},
          "output_type": "execute_result"
        },
        {
          "data": {
            "image/png": "[encoded data removed]",
            "text/plain": [
              "<Figure size 432x288 with 1 Axes>"
            ]
          },
          "metadata": {},
          "output_type": "display_data"
        }
      ],
      "source": [
        "loss_by_epoch5b = network5b.get_loss_by_epoch()\n",
        "plot_losses5b = []\n",
        "\n",
        "plot_losses5b.append((1, loss_by_epoch5b[0]))\n",
        "\n",
        "for l in range(len(loss_by_epoch5b)):\n",
        "  if l % (num_epochs/50) == num_epochs/50 - 1:\n",
        "    plot_losses5b.append((l+1, loss_by_epoch5b[l]))\n",
        "    \n",
        "\n",
        "plot_losses5b = np.array(plot_losses5b)\n",
        "\n",
        "sns.set_style('darkgrid')\n",
        "\n",
        "plt.xlim(-100,1100)\n",
        "plt.ylim(0,1)\n",
        "\n",
        "colors = {\n",
        "    0: \"ro\",\n",
        "    1: \"go\"\n",
        "}\n",
        "\n",
        "for i in range(len(plot_losses5b)):\n",
        "  plt.plot([plot_losses5b[i][0]], [plot_losses5b[i][1]], colors[0], markersize=2)\n",
        "\n",
        "plt.xlabel('x1')\n",
        "plt.ylabel('x2')\n",
        "plt.title('Loss by Epoch')"
      ]
    },
    {
      "cell_type": "markdown",
      "metadata": {
        "id": "Q9lmIA6qM48E"
      },
      "source": [
        "### Discussion"
      ]
    },
    {
      "cell_type": "markdown",
      "metadata": {
        "id": "CmQbT6piM6ra"
      },
      "source": [
        "I chose to evaluate the network with a Mean Square Error loss function. Compared to when using the Softplus loss, the network is less accurate and struggles to learn the desired function using MSE loss. The network performs best with MSE loss when using 2 hidden units, which is explained by the 2 units in the input layer and 1 unit in the output layer. It underfits and is unable to classify with 1 hidden unit, but begins to overfit the data with 3 units and fully overfits it with 16 and 512 units. While the loss decreases more rapidly with increasing number of hidden units, the highest accuracy is achieved with 2 hidden units, which is the best setting for the network to learn the function and generalize it when using MSE loss."
      ]
    },
    {
      "cell_type": "markdown",
      "metadata": {
        "id": "UMOj6EJaO4Jr"
      },
      "source": [
        "## 3 Inputs"
      ]
    },
    {
      "cell_type": "markdown",
      "metadata": {
        "id": "Qw2BiQSWO5sq"
      },
      "source": [
        "### Data"
      ]
    },
    {
      "cell_type": "code",
      "execution_count": 175,
      "metadata": {
        "colab": {
          "base_uri": "https://localhost:8080/",
          "height": 204
        },
        "id": "Tp5nCM1lPHVa",
        "outputId": "7503fae7-2806-4a9c-e493-1f11b7248458"
      },
      "outputs": [
        {
          "data": {
            "text/html": [
              "<div>\n",
              "<style scoped>\n",
              "    .dataframe tbody tr th:only-of-type {\n",
              "        vertical-align: middle;\n",
              "    }\n",
              "\n",
              "    .dataframe tbody tr th {\n",
              "        vertical-align: top;\n",
              "    }\n",
              "\n",
              "    .dataframe thead th {\n",
              "        text-align: right;\n",
              "    }\n",
              "</style>\n",
              "<table border=\"1\" class=\"dataframe\">\n",
              "  <thead>\n",
              "    <tr style=\"text-align: right;\">\n",
              "      <th></th>\n",
              "      <th>x1</th>\n",
              "      <th>x2</th>\n",
              "      <th>x3</th>\n",
              "      <th>y</th>\n",
              "    </tr>\n",
              "  </thead>\n",
              "  <tbody>\n",
              "    <tr>\n",
              "      <th>0</th>\n",
              "      <td>-0.246777</td>\n",
              "      <td>0.029640</td>\n",
              "      <td>1.089722</td>\n",
              "      <td>1.0</td>\n",
              "    </tr>\n",
              "    <tr>\n",
              "      <th>1</th>\n",
              "      <td>0.887756</td>\n",
              "      <td>1.073954</td>\n",
              "      <td>-0.288386</td>\n",
              "      <td>0.0</td>\n",
              "    </tr>\n",
              "    <tr>\n",
              "      <th>2</th>\n",
              "      <td>0.739514</td>\n",
              "      <td>1.012641</td>\n",
              "      <td>1.153135</td>\n",
              "      <td>0.0</td>\n",
              "    </tr>\n",
              "    <tr>\n",
              "      <th>3</th>\n",
              "      <td>-0.180778</td>\n",
              "      <td>0.869151</td>\n",
              "      <td>0.939720</td>\n",
              "      <td>0.0</td>\n",
              "    </tr>\n",
              "    <tr>\n",
              "      <th>4</th>\n",
              "      <td>0.103640</td>\n",
              "      <td>0.777440</td>\n",
              "      <td>0.977614</td>\n",
              "      <td>0.0</td>\n",
              "    </tr>\n",
              "  </tbody>\n",
              "</table>\n",
              "</div>"
            ],
            "text/plain": [
              "         x1        x2        x3    y\n",
              "0 -0.246777  0.029640  1.089722  1.0\n",
              "1  0.887756  1.073954 -0.288386  0.0\n",
              "2  0.739514  1.012641  1.153135  0.0\n",
              "3 -0.180778  0.869151  0.939720  0.0\n",
              "4  0.103640  0.777440  0.977614  0.0"
            ]
          },
          "execution_count": 175,
          "metadata": {},
          "output_type": "execute_result"
        }
      ],
      "source": [
        "data3d = pd.DataFrame(np.zeros((5000, 4)), columns=['x1', 'x2', 'x3', 'y'])\n",
        "\n",
        "# Make up some noisy XOR data to use to build our binary classifier\n",
        "for i in range(len(data3d.index)):\n",
        "    x1 = 1.0 * random.randint(0,1)\n",
        "    x2 = 1.0 * random.randint(0,1)\n",
        "    x3 = 1.0 * random.randint(0,1)\n",
        "    y = 1.0 * ((x1 + x2 + x3)==1)\n",
        "    x1 = x1 + 0.15 * np.random.normal()\n",
        "    x2 = x2 + 0.15 * np.random.normal()\n",
        "    x3 = x3 + 0.15 * np.random.normal()\n",
        "    data3d.iloc[i,0] = x1\n",
        "    data3d.iloc[i,1] = x2\n",
        "    data3d.iloc[i,2] = x3\n",
        "    data3d.iloc[i,3] = y\n",
        "        \n",
        "data3d.head()"
      ]
    },
    {
      "cell_type": "code",
      "execution_count": 217,
      "metadata": {
        "id": "8xkDOc_KRa3E"
      },
      "outputs": [],
      "source": [
        "# set X (training data) and y (target variable)\n",
        "cols3d = data3d.shape[1]\n",
        "X3d = data3d.iloc[:,0:cols3d-1]\n",
        "y3d = data3d.iloc[:,cols3d-1:cols3d]\n",
        "\n",
        "# The cost function is expecting numpy matrices so we need to convert X and y before we can use them  \n",
        "X3d = np.matrix(X3d.values)\n",
        "y3d = np.matrix(y3d.values)"
      ]
    },
    {
      "cell_type": "code",
      "execution_count": 182,
      "metadata": {
        "id": "lw50X5ArSmJF"
      },
      "outputs": [],
      "source": [
        "X3d_train, X3d_test, y3d_train, y3d_test = train_test_split(X3d, y3d, shuffle=False, random_seed=24)"
      ]
    },
    {
      "cell_type": "markdown",
      "metadata": {
        "id": "RmkonR5hSumy"
      },
      "source": [
        "### Attempt 1: Hidden Layer with 1 Hidden Unit"
      ]
    },
    {
      "cell_type": "markdown",
      "metadata": {
        "id": "3SXA5fF_SxGI"
      },
      "source": [
        "#### Train Network"
      ]
    },
    {
      "cell_type": "code",
      "execution_count": 186,
      "metadata": {
        "colab": {
          "base_uri": "https://localhost:8080/",
          "height": 0
        },
        "id": "FkellUfQS5FI",
        "outputId": "38be3485-fd92-402f-8a35-1e68e8e88baf"
      },
      "outputs": [
        {
          "name": "stdout",
          "output_type": "stream",
          "text": [
            "Network Training \n",
            "\n",
            "Number of Hidden Layers: 1\n",
            "Layer 1\n",
            "Number of Hidden Units:  1\n",
            "Activation Function: ReLU\n",
            "Output Layer\n",
            "Number of Outputs:  1\n",
            "Batch size:  32\n",
            "Loss Function: Softplus\n",
            "\n",
            "Fitting data... \n",
            "\n",
            "Starting Epoch 1...\n",
            "Finished Epochs 1-50.\n",
            "Loss for Epoch 50: 0.5067889197375792\n",
            "Starting Epoch 51...\n",
            "Finished Epochs 51-100.\n",
            "Loss for Epoch 100: 0.5450967115202667\n",
            "Starting Epoch 101...\n",
            "Finished Epochs 101-150.\n",
            "Loss for Epoch 150: 0.6315618085277608\n",
            "Starting Epoch 151...\n",
            "Finished Epochs 151-200.\n",
            "Loss for Epoch 200: 0.47154739441782945\n",
            "Starting Epoch 201...\n",
            "Finished Epochs 201-250.\n",
            "Loss for Epoch 250: 0.531313496097131\n",
            "Starting Epoch 251...\n",
            "Finished Epochs 251-300.\n",
            "Loss for Epoch 300: 0.5167463693770131\n",
            "Starting Epoch 301...\n",
            "Finished Epochs 301-350.\n",
            "Loss for Epoch 350: 0.5902866343714922\n",
            "Starting Epoch 351...\n",
            "Finished Epochs 351-400.\n",
            "Loss for Epoch 400: 0.4718710446528188\n",
            "Starting Epoch 401...\n",
            "Finished Epochs 401-450.\n",
            "Loss for Epoch 450: 0.4567326737297587\n",
            "Starting Epoch 451...\n",
            "Finished Epochs 451-500.\n",
            "Loss for Epoch 500: 0.6801608019579131\n",
            "Starting Epoch 501...\n",
            "Finished Epochs 501-550.\n",
            "Loss for Epoch 550: 0.48771754379790194\n",
            "Starting Epoch 551...\n",
            "Finished Epochs 551-600.\n",
            "Loss for Epoch 600: 0.4599914803232557\n",
            "Starting Epoch 601...\n",
            "Finished Epochs 601-650.\n",
            "Loss for Epoch 650: 0.5172880849800227\n",
            "Starting Epoch 651...\n",
            "Finished Epochs 651-700.\n",
            "Loss for Epoch 700: 0.6461107806322529\n",
            "Starting Epoch 701...\n",
            "Finished Epochs 701-750.\n",
            "Loss for Epoch 750: 0.548629178710377\n",
            "Starting Epoch 751...\n",
            "Finished Epochs 751-800.\n",
            "Loss for Epoch 800: 0.5540759089604665\n",
            "Starting Epoch 801...\n",
            "Finished Epochs 801-850.\n",
            "Loss for Epoch 850: 0.5067803598535437\n",
            "Starting Epoch 851...\n",
            "Finished Epochs 851-900.\n",
            "Loss for Epoch 900: 0.5624486501789424\n",
            "Starting Epoch 901...\n",
            "Finished Epochs 901-950.\n",
            "Loss for Epoch 950: 0.5068025213799661\n",
            "Starting Epoch 951...\n",
            "Finished Epochs 951-1000.\n",
            "Loss for Epoch 1000: 0.5501126709168861\n",
            "Training Complete \n",
            "\n",
            "Predictions Complete \n",
            "\n",
            "Accuracy: 74.0%\n"
          ]
        }
      ],
      "source": [
        "num_epochs = 1000\n",
        "\n",
        "network13d = MLP(X3d_train, y3d_train, lr=0.01, n_iter=num_epochs, num_input=3, \n",
        "              num_hidden=1, num_output=1, loss_function='Softplus')\n",
        "\n",
        "network13d.fit(batch_size=32)\n",
        "\n",
        "predictions13d = network13d.predict(X3d_test)\n",
        "predictions13d = np.array(predictions13d)\n",
        "print(\"Predictions Complete \\n\")\n",
        "\n",
        "accuracy13d = np.sum(predictions13d == np.squeeze(y3d_test)) / len(y3d_test)\n",
        "print(\"Accuracy: \" + str(accuracy13d*100) + \"%\")"
      ]
    },
    {
      "cell_type": "markdown",
      "metadata": {
        "id": "2V05HV7RSy8t"
      },
      "source": [
        "#### Plot Loss by Epoch"
      ]
    },
    {
      "cell_type": "code",
      "execution_count": 187,
      "metadata": {
        "colab": {
          "base_uri": "https://localhost:8080/",
          "height": 312
        },
        "id": "WU_OPwCtTVLy",
        "outputId": "415f7ab3-5c07-48e0-b724-185f9224c5a6"
      },
      "outputs": [
        {
          "data": {
            "text/plain": [
              "Text(0.5, 1.0, 'Loss by Epoch')"
            ]
          },
          "execution_count": 187,
          "metadata": {},
          "output_type": "execute_result"
        },
        {
          "data": {
            "image/png": "[encoded data removed]",
            "text/plain": [
              "<Figure size 432x288 with 1 Axes>"
            ]
          },
          "metadata": {},
          "output_type": "display_data"
        }
      ],
      "source": [
        "loss_by_epoch13d = network13d.get_loss_by_epoch()\n",
        "plot_losses13d = []\n",
        "\n",
        "plot_losses13d.append((1, loss_by_epoch13d[0]))\n",
        "\n",
        "for l in range(len(loss_by_epoch13d)):\n",
        "  if l % (num_epochs/50) == num_epochs/50 - 1:\n",
        "    plot_losses13d.append((l+1, loss_by_epoch13d[l]))\n",
        "    \n",
        "\n",
        "plot_losses13d = np.array(plot_losses13d)\n",
        "\n",
        "sns.set_style('darkgrid')\n",
        "\n",
        "plt.xlim(-100,1100)\n",
        "plt.ylim(0,1)\n",
        "\n",
        "colors = {\n",
        "    0: \"ro\",\n",
        "    1: \"go\"\n",
        "}\n",
        "\n",
        "for i in range(len(plot_losses13d)):\n",
        "  plt.plot([plot_losses13d[i][0]], [plot_losses13d[i][1]], colors[0], markersize=2)\n",
        "\n",
        "plt.xlabel('Epoch')\n",
        "plt.ylabel('Loss')\n",
        "plt.title('Loss by Epoch')"
      ]
    },
    {
      "cell_type": "markdown",
      "metadata": {
        "id": "3Qqz8xiaT978"
      },
      "source": [
        "### Attempt 2: Hidden Layer with 2 Hidden Units"
      ]
    },
    {
      "cell_type": "markdown",
      "metadata": {
        "id": "9_EjCpeKUAus"
      },
      "source": [
        "#### Train Network"
      ]
    },
    {
      "cell_type": "code",
      "execution_count": 188,
      "metadata": {
        "colab": {
          "base_uri": "https://localhost:8080/",
          "height": 0
        },
        "id": "c7UpCic4UCW4",
        "outputId": "3713c983-8e21-4d40-c70c-57c24723f21f"
      },
      "outputs": [
        {
          "name": "stdout",
          "output_type": "stream",
          "text": [
            "Network Training \n",
            "\n",
            "Number of Hidden Layers: 1\n",
            "Layer 1\n",
            "Number of Hidden Units:  2\n",
            "Activation Function: ReLU\n",
            "Output Layer\n",
            "Number of Outputs:  1\n",
            "Batch size:  32\n",
            "Loss Function: Softplus\n",
            "\n",
            "Fitting data... \n",
            "\n",
            "Starting Epoch 1...\n",
            "Finished Epochs 1-50.\n",
            "Loss for Epoch 50: 0.20165606169205885\n",
            "Starting Epoch 51...\n",
            "Finished Epochs 51-100.\n",
            "Loss for Epoch 100: 0.49283047085825493\n",
            "Starting Epoch 101...\n",
            "Finished Epochs 101-150.\n",
            "Loss for Epoch 150: 0.26954312392012936\n",
            "Starting Epoch 151...\n",
            "Finished Epochs 151-200.\n",
            "Loss for Epoch 200: 0.3389581232365895\n",
            "Starting Epoch 201...\n",
            "Finished Epochs 201-250.\n",
            "Loss for Epoch 250: 0.22842226345628144\n",
            "Starting Epoch 251...\n",
            "Finished Epochs 251-300.\n",
            "Loss for Epoch 300: 0.27966144117402914\n",
            "Starting Epoch 301...\n",
            "Finished Epochs 301-350.\n",
            "Loss for Epoch 350: 0.29590102169292964\n",
            "Starting Epoch 351...\n",
            "Finished Epochs 351-400.\n",
            "Loss for Epoch 400: 0.3259939830426485\n",
            "Starting Epoch 401...\n",
            "Finished Epochs 401-450.\n",
            "Loss for Epoch 450: 0.28894896198669945\n",
            "Starting Epoch 451...\n",
            "Finished Epochs 451-500.\n",
            "Loss for Epoch 500: 0.49877302685571556\n",
            "Starting Epoch 501...\n",
            "Finished Epochs 501-550.\n",
            "Loss for Epoch 550: 0.2933118682882867\n",
            "Starting Epoch 551...\n",
            "Finished Epochs 551-600.\n",
            "Loss for Epoch 600: 0.24044413401241532\n",
            "Starting Epoch 601...\n",
            "Finished Epochs 601-650.\n",
            "Loss for Epoch 650: 0.23930208426910113\n",
            "Starting Epoch 651...\n",
            "Finished Epochs 651-700.\n",
            "Loss for Epoch 700: 0.3003951761766153\n",
            "Starting Epoch 701...\n",
            "Finished Epochs 701-750.\n",
            "Loss for Epoch 750: 0.18099608891106547\n",
            "Starting Epoch 751...\n",
            "Finished Epochs 751-800.\n",
            "Loss for Epoch 800: 0.2269117541056101\n",
            "Starting Epoch 801...\n",
            "Finished Epochs 801-850.\n",
            "Loss for Epoch 850: 0.2377624251585982\n",
            "Starting Epoch 851...\n",
            "Finished Epochs 851-900.\n",
            "Loss for Epoch 900: 0.3384090016546685\n",
            "Starting Epoch 901...\n",
            "Finished Epochs 901-950.\n",
            "Loss for Epoch 950: 0.14952326102567814\n",
            "Starting Epoch 951...\n",
            "Finished Epochs 951-1000.\n",
            "Loss for Epoch 1000: 0.27365979040535804\n",
            "Training Complete \n",
            "\n",
            "Predictions Complete \n",
            "\n",
            "Accuracy: 86.8%\n"
          ]
        }
      ],
      "source": [
        "num_epochs = 1000\n",
        "\n",
        "network23d = MLP(X3d_train, y3d_train, lr=0.01, n_iter=num_epochs, num_input=3, \n",
        "              num_hidden=2, num_output=1, loss_function='Softplus')\n",
        "\n",
        "network23d.fit(batch_size=32)\n",
        "\n",
        "predictions23d = network23d.predict(X3d_test)\n",
        "predictions23d = np.array(predictions23d)\n",
        "print(\"Predictions Complete \\n\")\n",
        "\n",
        "accuracy23d = np.sum(predictions23d == np.squeeze(y3d_test)) / len(y3d_test)\n",
        "print(\"Accuracy: \" + str(accuracy23d*100) + \"%\")"
      ]
    },
    {
      "cell_type": "markdown",
      "metadata": {
        "id": "A3_5D-niUwuA"
      },
      "source": [
        "#### Plot Loss by Epoch"
      ]
    },
    {
      "cell_type": "code",
      "execution_count": 189,
      "metadata": {
        "colab": {
          "base_uri": "https://localhost:8080/",
          "height": 312
        },
        "id": "3--_uTKJUyNu",
        "outputId": "c997719f-600f-415e-b829-c5e6db2b2583"
      },
      "outputs": [
        {
          "data": {
            "text/plain": [
              "Text(0.5, 1.0, 'Loss by Epoch')"
            ]
          },
          "execution_count": 189,
          "metadata": {},
          "output_type": "execute_result"
        },
        {
          "data": {
            "image/png": "[encoded data removed]",
            "text/plain": [
              "<Figure size 432x288 with 1 Axes>"
            ]
          },
          "metadata": {},
          "output_type": "display_data"
        }
      ],
      "source": [
        "loss_by_epoch23d = network23d.get_loss_by_epoch()\n",
        "plot_losses23d = []\n",
        "\n",
        "plot_losses23d.append((1, loss_by_epoch23d[0]))\n",
        "\n",
        "for l in range(len(loss_by_epoch23d)):\n",
        "  if l % (num_epochs/50) == num_epochs/50 - 1:\n",
        "    plot_losses23d.append((l+1, loss_by_epoch23d[l]))\n",
        "    \n",
        "\n",
        "plot_losses23d = np.array(plot_losses23d)\n",
        "\n",
        "sns.set_style('darkgrid')\n",
        "\n",
        "plt.xlim(-100,1100)\n",
        "plt.ylim(0,1)\n",
        "\n",
        "colors = {\n",
        "    0: \"ro\",\n",
        "    1: \"go\"\n",
        "}\n",
        "\n",
        "for i in range(len(plot_losses23d)):\n",
        "  plt.plot([plot_losses23d[i][0]], [plot_losses23d[i][1]], colors[0], markersize=2)\n",
        "\n",
        "plt.xlabel('Epoch')\n",
        "plt.ylabel('Loss')\n",
        "plt.title('Loss by Epoch')"
      ]
    },
    {
      "cell_type": "markdown",
      "metadata": {
        "id": "99Pl7tc_UJ5C"
      },
      "source": [
        "### Attempt 3: Hidden Layer with 3 Hidden Units"
      ]
    },
    {
      "cell_type": "markdown",
      "metadata": {
        "id": "fMvGH7WFUMn8"
      },
      "source": [
        "#### Train Network"
      ]
    },
    {
      "cell_type": "code",
      "execution_count": 190,
      "metadata": {
        "colab": {
          "base_uri": "https://localhost:8080/",
          "height": 0
        },
        "id": "ry63J6DzUNxt",
        "outputId": "9c265e42-a622-47e7-c00a-6a27005b8933"
      },
      "outputs": [
        {
          "name": "stdout",
          "output_type": "stream",
          "text": [
            "Network Training \n",
            "\n",
            "Number of Hidden Layers: 1\n",
            "Layer 1\n",
            "Number of Hidden Units:  3\n",
            "Activation Function: ReLU\n",
            "Output Layer\n",
            "Number of Outputs:  1\n",
            "Batch size:  32\n",
            "Loss Function: Softplus\n",
            "\n",
            "Fitting data... \n",
            "\n",
            "Starting Epoch 1...\n",
            "Finished Epochs 1-50.\n",
            "Loss for Epoch 50: 0.3727988950363391\n",
            "Starting Epoch 51...\n",
            "Finished Epochs 51-100.\n",
            "Loss for Epoch 100: 0.30913695666548757\n",
            "Starting Epoch 101...\n",
            "Finished Epochs 101-150.\n",
            "Loss for Epoch 150: 0.37690850992429586\n",
            "Starting Epoch 151...\n",
            "Finished Epochs 151-200.\n",
            "Loss for Epoch 200: 0.2759296207197323\n",
            "Starting Epoch 201...\n",
            "Finished Epochs 201-250.\n",
            "Loss for Epoch 250: 0.1851802958389514\n",
            "Starting Epoch 251...\n",
            "Finished Epochs 251-300.\n",
            "Loss for Epoch 300: 0.4453617396066599\n",
            "Starting Epoch 301...\n",
            "Finished Epochs 301-350.\n",
            "Loss for Epoch 350: 0.33448100194128694\n",
            "Starting Epoch 351...\n",
            "Finished Epochs 351-400.\n",
            "Loss for Epoch 400: 0.22965549217874912\n",
            "Starting Epoch 401...\n",
            "Finished Epochs 401-450.\n",
            "Loss for Epoch 450: 0.3771760070489517\n",
            "Starting Epoch 451...\n",
            "Finished Epochs 451-500.\n",
            "Loss for Epoch 500: 0.47548051880422726\n",
            "Starting Epoch 501...\n",
            "Finished Epochs 501-550.\n",
            "Loss for Epoch 550: 0.24305654114929556\n",
            "Starting Epoch 551...\n",
            "Finished Epochs 551-600.\n",
            "Loss for Epoch 600: 0.46612523925841876\n",
            "Starting Epoch 601...\n",
            "Finished Epochs 601-650.\n",
            "Loss for Epoch 650: 0.32955994812819756\n",
            "Starting Epoch 651...\n",
            "Finished Epochs 651-700.\n",
            "Loss for Epoch 700: 0.30253548531740804\n",
            "Starting Epoch 701...\n",
            "Finished Epochs 701-750.\n",
            "Loss for Epoch 750: 0.42199538159195904\n",
            "Starting Epoch 751...\n",
            "Finished Epochs 751-800.\n",
            "Loss for Epoch 800: 0.25582358503257124\n",
            "Starting Epoch 801...\n",
            "Finished Epochs 801-850.\n",
            "Loss for Epoch 850: 0.3294504804772588\n",
            "Starting Epoch 851...\n",
            "Finished Epochs 851-900.\n",
            "Loss for Epoch 900: 0.3501618566072155\n",
            "Starting Epoch 901...\n",
            "Finished Epochs 901-950.\n",
            "Loss for Epoch 950: 0.2552370523443412\n",
            "Starting Epoch 951...\n",
            "Finished Epochs 951-1000.\n",
            "Loss for Epoch 1000: 0.3566269156894624\n",
            "Training Complete \n",
            "\n",
            "Predictions Complete \n",
            "\n",
            "Accuracy: 87.6%\n"
          ]
        }
      ],
      "source": [
        "num_epochs = 1000\n",
        "\n",
        "network33d = MLP(X3d_train, y3d_train, lr=0.01, n_iter=num_epochs, num_input=3, \n",
        "              num_hidden=3, num_output=1, loss_function='Softplus')\n",
        "\n",
        "network33d.fit(batch_size=32)\n",
        "\n",
        "predictions33d = network33d.predict(X3d_test)\n",
        "predictions33d = np.array(predictions33d)\n",
        "print(\"Predictions Complete \\n\")\n",
        "\n",
        "accuracy33d = np.sum(predictions33d == np.squeeze(y3d_test)) / len(y3d_test)\n",
        "print(\"Accuracy: \" + str(accuracy33d*100) + \"%\")"
      ]
    },
    {
      "cell_type": "markdown",
      "metadata": {
        "id": "vLPuSu04U5AW"
      },
      "source": [
        "#### Plot Loss by Epoch"
      ]
    },
    {
      "cell_type": "code",
      "execution_count": 191,
      "metadata": {
        "colab": {
          "base_uri": "https://localhost:8080/",
          "height": 312
        },
        "id": "5FRjqWnGU6iF",
        "outputId": "7b6a0d68-114d-4c0c-85d9-e4de594336fa"
      },
      "outputs": [
        {
          "data": {
            "text/plain": [
              "Text(0.5, 1.0, 'Loss by Epoch')"
            ]
          },
          "execution_count": 191,
          "metadata": {},
          "output_type": "execute_result"
        },
        {
          "data": {
            "image/png": "[encoded data removed]",
            "text/plain": [
              "<Figure size 432x288 with 1 Axes>"
            ]
          },
          "metadata": {},
          "output_type": "display_data"
        }
      ],
      "source": [
        "loss_by_epoch33d = network33d.get_loss_by_epoch()\n",
        "plot_losses33d = []\n",
        "\n",
        "plot_losses33d.append((1, loss_by_epoch33d[0]))\n",
        "\n",
        "for l in range(len(loss_by_epoch33d)):\n",
        "  if l % (num_epochs/50) == num_epochs/50 - 1:\n",
        "    plot_losses33d.append((l+1, loss_by_epoch33d[l]))\n",
        "    \n",
        "\n",
        "plot_losses33d = np.array(plot_losses33d)\n",
        "\n",
        "sns.set_style('darkgrid')\n",
        "\n",
        "plt.xlim(-100,1100)\n",
        "plt.ylim(0,1)\n",
        "\n",
        "colors = {\n",
        "    0: \"ro\",\n",
        "    1: \"go\"\n",
        "}\n",
        "\n",
        "for i in range(len(plot_losses33d)):\n",
        "  plt.plot([plot_losses33d[i][0]], [plot_losses33d[i][1]], colors[0], markersize=2)\n",
        "\n",
        "plt.xlabel('Epoch')\n",
        "plt.ylabel('Loss')\n",
        "plt.title('Loss by Epoch')"
      ]
    },
    {
      "cell_type": "markdown",
      "metadata": {
        "id": "2Pm4c_SPUWnn"
      },
      "source": [
        "### Attempt 4: Hidden Layer with 16 Hidden Units"
      ]
    },
    {
      "cell_type": "markdown",
      "metadata": {
        "id": "srjhLTdRUafu"
      },
      "source": [
        "#### Train Network"
      ]
    },
    {
      "cell_type": "code",
      "execution_count": 192,
      "metadata": {
        "colab": {
          "base_uri": "https://localhost:8080/",
          "height": 0
        },
        "id": "2f0Do8WsUb7S",
        "outputId": "3518f360-699f-47ce-c861-a82a74413672"
      },
      "outputs": [
        {
          "name": "stdout",
          "output_type": "stream",
          "text": [
            "Network Training \n",
            "\n",
            "Number of Hidden Layers: 1\n",
            "Layer 1\n",
            "Number of Hidden Units:  16\n",
            "Activation Function: ReLU\n",
            "Output Layer\n",
            "Number of Outputs:  1\n",
            "Batch size:  32\n",
            "Loss Function: Softplus\n",
            "\n",
            "Fitting data... \n",
            "\n",
            "Starting Epoch 1...\n",
            "Finished Epochs 1-50.\n",
            "Loss for Epoch 50: 0.05657007603994658\n",
            "Starting Epoch 51...\n",
            "Finished Epochs 51-100.\n",
            "Loss for Epoch 100: 0.019229562271918774\n",
            "Starting Epoch 101...\n",
            "Finished Epochs 101-150.\n",
            "Loss for Epoch 150: 0.0037567492999694167\n",
            "Starting Epoch 151...\n",
            "Finished Epochs 151-200.\n",
            "Loss for Epoch 200: 0.00019458890914458594\n",
            "Starting Epoch 201...\n",
            "Finished Epochs 201-250.\n",
            "Loss for Epoch 250: 0.002203141118550565\n",
            "Starting Epoch 251...\n",
            "Finished Epochs 251-300.\n",
            "Loss for Epoch 300: 0.0010502248658272144\n",
            "Starting Epoch 301...\n",
            "Finished Epochs 301-350.\n",
            "Loss for Epoch 350: 0.000281383029720496\n",
            "Starting Epoch 351...\n",
            "Finished Epochs 351-400.\n",
            "Loss for Epoch 400: 0.00013847785461719973\n",
            "Starting Epoch 401...\n",
            "Finished Epochs 401-450.\n",
            "Loss for Epoch 450: 0.00021656535429029155\n",
            "Starting Epoch 451...\n",
            "Finished Epochs 451-500.\n",
            "Loss for Epoch 500: 5.103277508080171e-05\n",
            "Starting Epoch 501...\n",
            "Finished Epochs 501-550.\n",
            "Loss for Epoch 550: 0.00012468712237210787\n",
            "Starting Epoch 551...\n",
            "Finished Epochs 551-600.\n",
            "Loss for Epoch 600: 0.009010064137866779\n",
            "Starting Epoch 601...\n",
            "Finished Epochs 601-650.\n",
            "Loss for Epoch 650: 0.0024357486507407414\n",
            "Starting Epoch 651...\n",
            "Finished Epochs 651-700.\n",
            "Loss for Epoch 700: 4.2877311221279504e-05\n",
            "Starting Epoch 701...\n",
            "Finished Epochs 701-750.\n",
            "Loss for Epoch 750: 0.00011917811535904719\n",
            "Starting Epoch 751...\n",
            "Finished Epochs 751-800.\n",
            "Loss for Epoch 800: 1.1675748657086702e-05\n",
            "Starting Epoch 801...\n",
            "Finished Epochs 801-850.\n",
            "Loss for Epoch 850: 0.005691824058905321\n",
            "Starting Epoch 851...\n",
            "Finished Epochs 851-900.\n",
            "Loss for Epoch 900: 0.00018622159686597565\n",
            "Starting Epoch 901...\n",
            "Finished Epochs 901-950.\n",
            "Loss for Epoch 950: 8.905975251422967e-05\n",
            "Starting Epoch 951...\n",
            "Finished Epochs 951-1000.\n",
            "Loss for Epoch 1000: 7.872604628061722e-05\n",
            "Training Complete \n",
            "\n",
            "Predictions Complete \n",
            "\n",
            "Accuracy: 99.9%\n"
          ]
        }
      ],
      "source": [
        "num_epochs = 1000\n",
        "\n",
        "network43d = MLP(X3d_train, y3d_train, lr=0.01, n_iter=num_epochs, num_input=3, \n",
        "              num_hidden=16, num_output=1, loss_function='Softplus')\n",
        "\n",
        "network43d.fit(batch_size=32)\n",
        "\n",
        "predictions43d = network43d.predict(X3d_test)\n",
        "predictions43d = np.array(predictions43d)\n",
        "print(\"Predictions Complete \\n\")\n",
        "\n",
        "accuracy43d = np.sum(predictions43d == np.squeeze(y3d_test)) / len(y3d_test)\n",
        "print(\"Accuracy: \" + str(accuracy43d*100) + \"%\")"
      ]
    },
    {
      "cell_type": "markdown",
      "metadata": {
        "id": "IXmIgp3NVD5C"
      },
      "source": [
        "#### Plot Loss by Epoch"
      ]
    },
    {
      "cell_type": "code",
      "execution_count": 193,
      "metadata": {
        "colab": {
          "base_uri": "https://localhost:8080/",
          "height": 312
        },
        "id": "h5CcUwIdVFvT",
        "outputId": "b6bc31e4-7169-4f8e-8b62-2769fe0b4b8a"
      },
      "outputs": [
        {
          "data": {
            "text/plain": [
              "Text(0.5, 1.0, 'Loss by Epoch')"
            ]
          },
          "execution_count": 193,
          "metadata": {},
          "output_type": "execute_result"
        },
        {
          "data": {
            "image/png": "[encoded data removed]",
            "text/plain": [
              "<Figure size 432x288 with 1 Axes>"
            ]
          },
          "metadata": {},
          "output_type": "display_data"
        }
      ],
      "source": [
        "loss_by_epoch43d = network43d.get_loss_by_epoch()\n",
        "plot_losses43d = []\n",
        "\n",
        "plot_losses43d.append((1, loss_by_epoch43d[0]))\n",
        "\n",
        "for l in range(len(loss_by_epoch43d)):\n",
        "  if l % (num_epochs/50) == num_epochs/50 - 1:\n",
        "    plot_losses43d.append((l+1, loss_by_epoch43d[l]))\n",
        "    \n",
        "\n",
        "plot_losses43d = np.array(plot_losses43d)\n",
        "\n",
        "sns.set_style('darkgrid')\n",
        "\n",
        "plt.xlim(-100,1100)\n",
        "plt.ylim(0,1)\n",
        "\n",
        "colors = {\n",
        "    0: \"ro\",\n",
        "    1: \"go\"\n",
        "}\n",
        "\n",
        "for i in range(len(plot_losses43d)):\n",
        "  plt.plot([plot_losses43d[i][0]], [plot_losses43d[i][1]], colors[0], markersize=2)\n",
        "\n",
        "plt.xlabel('Epoch')\n",
        "plt.ylabel('Loss')\n",
        "plt.title('Loss by Epoch')"
      ]
    },
    {
      "cell_type": "markdown",
      "metadata": {
        "id": "BbURCK9wUjlL"
      },
      "source": [
        "### Attempt 5: Hidden Layer with 512 Hidden Units"
      ]
    },
    {
      "cell_type": "markdown",
      "metadata": {
        "id": "VHX3TV1zVXy4"
      },
      "source": [
        "#### Train Network"
      ]
    },
    {
      "cell_type": "code",
      "execution_count": 194,
      "metadata": {
        "colab": {
          "base_uri": "https://localhost:8080/",
          "height": 0
        },
        "id": "N8iWOa4eUmbt",
        "outputId": "b038b45b-4bfb-491c-b494-0b992b2af2dd"
      },
      "outputs": [
        {
          "name": "stdout",
          "output_type": "stream",
          "text": [
            "Network Training \n",
            "\n",
            "Number of Hidden Layers: 1\n",
            "Layer 1\n",
            "Number of Hidden Units:  512\n",
            "Activation Function: ReLU\n",
            "Output Layer\n",
            "Number of Outputs:  1\n",
            "Batch size:  32\n",
            "Loss Function: Softplus\n",
            "\n",
            "Fitting data... \n",
            "\n",
            "Starting Epoch 1...\n",
            "Finished Epochs 1-50.\n",
            "Loss for Epoch 50: 0.007644880344845277\n",
            "Starting Epoch 51...\n",
            "Finished Epochs 51-100.\n",
            "Loss for Epoch 100: 0.0033370707804444076\n",
            "Starting Epoch 101...\n",
            "Finished Epochs 101-150.\n",
            "Loss for Epoch 150: 0.0010547577685932757\n",
            "Starting Epoch 151...\n",
            "Finished Epochs 151-200.\n",
            "Loss for Epoch 200: 0.0007697590461046139\n",
            "Starting Epoch 201...\n",
            "Finished Epochs 201-250.\n",
            "Loss for Epoch 250: 0.00022625692211856918\n",
            "Starting Epoch 251...\n",
            "Finished Epochs 251-300.\n",
            "Loss for Epoch 300: 0.0007825953319058024\n",
            "Starting Epoch 301...\n",
            "Finished Epochs 301-350.\n",
            "Loss for Epoch 350: 7.571444101693601e-05\n",
            "Starting Epoch 351...\n",
            "Finished Epochs 351-400.\n",
            "Loss for Epoch 400: 0.00021850051546357964\n",
            "Starting Epoch 401...\n",
            "Finished Epochs 401-450.\n",
            "Loss for Epoch 450: 0.000630070872640717\n",
            "Starting Epoch 451...\n",
            "Finished Epochs 451-500.\n",
            "Loss for Epoch 500: 0.014431611035899822\n",
            "Starting Epoch 501...\n",
            "Finished Epochs 501-550.\n",
            "Loss for Epoch 550: 0.0002804267795639299\n",
            "Starting Epoch 551...\n",
            "Finished Epochs 551-600.\n",
            "Loss for Epoch 600: 0.001122905243284671\n",
            "Starting Epoch 601...\n",
            "Finished Epochs 601-650.\n",
            "Loss for Epoch 650: 0.0001489447113577379\n",
            "Starting Epoch 651...\n",
            "Finished Epochs 651-700.\n",
            "Loss for Epoch 700: 2.478258288214759e-05\n",
            "Starting Epoch 701...\n",
            "Finished Epochs 701-750.\n",
            "Loss for Epoch 750: 0.0013317552183953719\n",
            "Starting Epoch 751...\n",
            "Finished Epochs 751-800.\n",
            "Loss for Epoch 800: 0.0004896247219006188\n",
            "Starting Epoch 801...\n",
            "Finished Epochs 801-850.\n",
            "Loss for Epoch 850: 0.00036615060675489647\n",
            "Starting Epoch 851...\n",
            "Finished Epochs 851-900.\n",
            "Loss for Epoch 900: 0.0003485383546278882\n",
            "Starting Epoch 901...\n",
            "Finished Epochs 901-950.\n",
            "Loss for Epoch 950: 1.741450854810531e-05\n",
            "Starting Epoch 951...\n",
            "Finished Epochs 951-1000.\n",
            "Loss for Epoch 1000: 0.010824626937380498\n",
            "Training Complete \n",
            "\n",
            "Predictions Complete \n",
            "\n",
            "Accuracy: 99.9%\n"
          ]
        }
      ],
      "source": [
        "num_epochs = 1000\n",
        "\n",
        "network53d = MLP(X3d_train, y3d_train, lr=0.01, n_iter=num_epochs, num_input=3, \n",
        "              num_hidden=512, num_output=1, loss_function='Softplus')\n",
        "\n",
        "network53d.fit(batch_size=32)\n",
        "\n",
        "predictions53d = network53d.predict(X3d_test)\n",
        "predictions53d = np.array(predictions53d)\n",
        "print(\"Predictions Complete \\n\")\n",
        "\n",
        "accuracy53d = np.sum(predictions53d == np.squeeze(y3d_test)) / len(y3d_test)\n",
        "print(\"Accuracy: \" + str(accuracy53d*100) + \"%\")"
      ]
    },
    {
      "cell_type": "markdown",
      "metadata": {
        "id": "5Ons-4wPVZih"
      },
      "source": [
        "#### Plot Loss by Epoch"
      ]
    },
    {
      "cell_type": "code",
      "execution_count": 195,
      "metadata": {
        "colab": {
          "base_uri": "https://localhost:8080/",
          "height": 312
        },
        "id": "ECqQpFnrVbJr",
        "outputId": "58df2ff7-784a-4786-c16b-c9b98e20c7e0"
      },
      "outputs": [
        {
          "data": {
            "text/plain": [
              "Text(0.5, 1.0, 'Loss by Epoch')"
            ]
          },
          "execution_count": 195,
          "metadata": {},
          "output_type": "execute_result"
        },
        {
          "data": {
            "image/png": "[encoded data removed]",
            "text/plain": [
              "<Figure size 432x288 with 1 Axes>"
            ]
          },
          "metadata": {},
          "output_type": "display_data"
        }
      ],
      "source": [
        "loss_by_epoch53d = network53d.get_loss_by_epoch()\n",
        "plot_losses53d = []\n",
        "\n",
        "plot_losses53d.append((1, loss_by_epoch53d[0]))\n",
        "\n",
        "for l in range(len(loss_by_epoch53d)):\n",
        "  if l % (num_epochs/50) == num_epochs/50 - 1:\n",
        "    plot_losses53d.append((l+1, loss_by_epoch53d[l]))\n",
        "    \n",
        "\n",
        "plot_losses53d = np.array(plot_losses53d)\n",
        "\n",
        "sns.set_style('darkgrid')\n",
        "\n",
        "plt.xlim(-100,1100)\n",
        "plt.ylim(0,1)\n",
        "\n",
        "colors = {\n",
        "    0: \"ro\",\n",
        "    1: \"go\"\n",
        "}\n",
        "\n",
        "for i in range(len(plot_losses53d)):\n",
        "  plt.plot([plot_losses53d[i][0]], [plot_losses53d[i][1]], colors[0], markersize=2)\n",
        "\n",
        "plt.xlabel('Epoch')\n",
        "plt.ylabel('Loss')\n",
        "plt.title('Loss by Epoch')"
      ]
    },
    {
      "cell_type": "markdown",
      "metadata": {
        "id": "nvVsrTsrWvKe"
      },
      "source": [
        "### Discussion"
      ]
    },
    {
      "cell_type": "markdown",
      "metadata": {
        "id": "LCvWzauJWxgv"
      },
      "source": [
        "With three inputs, the network needs more hidden units to learn the features and accurately classify the data. This can be seen as the accuracy with 3 units is not as high as it is with 16, whereas 3 units were sufficient for two inputs. The losses follow the same pattern as before, decreasing more rapidly with increasing number of hidden units. It is evident that the classification accuracy and effeectiveness of a network is related to the careful selection of the number of hidden units in the hidden layer with regard to the number of inputs."
      ]
    },
    {
      "cell_type": "markdown",
      "metadata": {
        "id": "d1ERubU4XYZx"
      },
      "source": [
        "## Train Network on Car Sales Data for Car Model Prediction"
      ]
    },
    {
      "cell_type": "markdown",
      "metadata": {
        "id": "sKMUjMKOY0iD"
      },
      "source": [
        "### Data"
      ]
    },
    {
      "cell_type": "markdown",
      "metadata": {
        "id": "ULucZDBFqBdu"
      },
      "source": [
        "##### Google Drive URL for Data"
      ]
    },
    {
      "cell_type": "markdown",
      "metadata": {
        "id": "QZVt0s98qEMo"
      },
      "source": [
        "https://drive.google.com/drive/folders/1yZecWYSobFP2Vc08zQPlDXr3lNsjf1gO?usp=sharing"
      ]
    },
    {
      "cell_type": "markdown",
      "metadata": {
        "id": "bOVRS7CcqWMD"
      },
      "source": [
        "##### Read Data"
      ]
    },
    {
      "cell_type": "code",
      "execution_count": 225,
      "metadata": {
        "colab": {
          "base_uri": "https://localhost:8080/",
          "height": 453
        },
        "id": "B89EG15TXbI4",
        "outputId": "7951909b-dfa6-4f6f-f500-2d039618551a"
      },
      "outputs": [
        {
          "data": {
            "text/html": [
              "<div>\n",
              "<style scoped>\n",
              "    .dataframe tbody tr th:only-of-type {\n",
              "        vertical-align: middle;\n",
              "    }\n",
              "\n",
              "    .dataframe tbody tr th {\n",
              "        vertical-align: top;\n",
              "    }\n",
              "\n",
              "    .dataframe thead th {\n",
              "        text-align: right;\n",
              "    }\n",
              "</style>\n",
              "<table border=\"1\" class=\"dataframe\">\n",
              "  <thead>\n",
              "    <tr style=\"text-align: right;\">\n",
              "      <th></th>\n",
              "      <th>Model</th>\n",
              "      <th>2019 Dec</th>\n",
              "      <th>2018 Dec</th>\n",
              "      <th>Change (%)</th>\n",
              "      <th>YTD 2019</th>\n",
              "      <th>YTD 2018</th>\n",
              "      <th>YTD Change (%)</th>\n",
              "      <th>Price</th>\n",
              "      <th>MPG</th>\n",
              "      <th>Type of Gas</th>\n",
              "      <th>Type of Vehicle</th>\n",
              "    </tr>\n",
              "  </thead>\n",
              "  <tbody>\n",
              "    <tr>\n",
              "      <th>0</th>\n",
              "      <td>Ford F-Series</td>\n",
              "      <td>77033</td>\n",
              "      <td>87772</td>\n",
              "      <td>-12.24</td>\n",
              "      <td>896526</td>\n",
              "      <td>909330</td>\n",
              "      <td>-1.41</td>\n",
              "      <td>39895.0</td>\n",
              "      <td>21</td>\n",
              "      <td>Diesel</td>\n",
              "      <td>Truck</td>\n",
              "    </tr>\n",
              "    <tr>\n",
              "      <th>1</th>\n",
              "      <td>Ram Pickup</td>\n",
              "      <td>56825</td>\n",
              "      <td>60155</td>\n",
              "      <td>-5.54</td>\n",
              "      <td>633694</td>\n",
              "      <td>536980</td>\n",
              "      <td>18.01</td>\n",
              "      <td>34795.0</td>\n",
              "      <td>23</td>\n",
              "      <td>Diesel</td>\n",
              "      <td>Truck</td>\n",
              "    </tr>\n",
              "    <tr>\n",
              "      <th>2</th>\n",
              "      <td>Chevrolet Silverado</td>\n",
              "      <td>53785</td>\n",
              "      <td>54424</td>\n",
              "      <td>-1.17</td>\n",
              "      <td>575569</td>\n",
              "      <td>585582</td>\n",
              "      <td>-1.71</td>\n",
              "      <td>29300.0</td>\n",
              "      <td>21</td>\n",
              "      <td>Diesel</td>\n",
              "      <td>Truck</td>\n",
              "    </tr>\n",
              "    <tr>\n",
              "      <th>3</th>\n",
              "      <td>Toyota RAV4</td>\n",
              "      <td>41282</td>\n",
              "      <td>38669</td>\n",
              "      <td>6.76</td>\n",
              "      <td>448068</td>\n",
              "      <td>427168</td>\n",
              "      <td>4.89</td>\n",
              "      <td>26350.0</td>\n",
              "      <td>30</td>\n",
              "      <td>Regular</td>\n",
              "      <td>SUV</td>\n",
              "    </tr>\n",
              "    <tr>\n",
              "      <th>4</th>\n",
              "      <td>Honda CR-V</td>\n",
              "      <td>36098</td>\n",
              "      <td>42079</td>\n",
              "      <td>-14.21</td>\n",
              "      <td>384168</td>\n",
              "      <td>379021</td>\n",
              "      <td>1.36</td>\n",
              "      <td>25750.0</td>\n",
              "      <td>30</td>\n",
              "      <td>Regular</td>\n",
              "      <td>SUV</td>\n",
              "    </tr>\n",
              "    <tr>\n",
              "      <th>...</th>\n",
              "      <td>...</td>\n",
              "      <td>...</td>\n",
              "      <td>...</td>\n",
              "      <td>...</td>\n",
              "      <td>...</td>\n",
              "      <td>...</td>\n",
              "      <td>...</td>\n",
              "      <td>...</td>\n",
              "      <td>...</td>\n",
              "      <td>...</td>\n",
              "      <td>...</td>\n",
              "    </tr>\n",
              "    <tr>\n",
              "      <th>267</th>\n",
              "      <td>Porsche Taycan</td>\n",
              "      <td>130</td>\n",
              "      <td>0</td>\n",
              "      <td>0.00</td>\n",
              "      <td>130</td>\n",
              "      <td>0</td>\n",
              "      <td>0.00</td>\n",
              "      <td>82700.0</td>\n",
              "      <td>79</td>\n",
              "      <td>Electricity</td>\n",
              "      <td>Car</td>\n",
              "    </tr>\n",
              "    <tr>\n",
              "      <th>268</th>\n",
              "      <td>Chrysler 200</td>\n",
              "      <td>1</td>\n",
              "      <td>6</td>\n",
              "      <td>-83.33</td>\n",
              "      <td>48</td>\n",
              "      <td>1043</td>\n",
              "      <td>-95.40</td>\n",
              "      <td>24000.0</td>\n",
              "      <td>27</td>\n",
              "      <td>Regular</td>\n",
              "      <td>Car</td>\n",
              "    </tr>\n",
              "    <tr>\n",
              "      <th>269</th>\n",
              "      <td>Cadillac CT5</td>\n",
              "      <td>43</td>\n",
              "      <td>0</td>\n",
              "      <td>0.00</td>\n",
              "      <td>43</td>\n",
              "      <td>0</td>\n",
              "      <td>0.00</td>\n",
              "      <td>36995.0</td>\n",
              "      <td>25</td>\n",
              "      <td>Premium</td>\n",
              "      <td>Car</td>\n",
              "    </tr>\n",
              "    <tr>\n",
              "      <th>270</th>\n",
              "      <td>Jeep Patriot</td>\n",
              "      <td>2</td>\n",
              "      <td>9</td>\n",
              "      <td>-77.78</td>\n",
              "      <td>27</td>\n",
              "      <td>621</td>\n",
              "      <td>-95.65</td>\n",
              "      <td>19000.0</td>\n",
              "      <td>26</td>\n",
              "      <td>Regular</td>\n",
              "      <td>SUV</td>\n",
              "    </tr>\n",
              "    <tr>\n",
              "      <th>271</th>\n",
              "      <td>Dodge Dart</td>\n",
              "      <td>1</td>\n",
              "      <td>2</td>\n",
              "      <td>-50.00</td>\n",
              "      <td>16</td>\n",
              "      <td>389</td>\n",
              "      <td>-95.89</td>\n",
              "      <td>32962.0</td>\n",
              "      <td>29</td>\n",
              "      <td>Regular</td>\n",
              "      <td>Car</td>\n",
              "    </tr>\n",
              "  </tbody>\n",
              "</table>\n",
              "<p>272 rows × 11 columns</p>\n",
              "</div>"
            ],
            "text/plain": [
              "                   Model  2019 Dec  2018 Dec  ...  MPG  Type of Gas  Type of Vehicle\n",
              "0          Ford F-Series     77033     87772  ...   21       Diesel            Truck\n",
              "1             Ram Pickup     56825     60155  ...   23       Diesel            Truck\n",
              "2    Chevrolet Silverado     53785     54424  ...   21       Diesel            Truck\n",
              "3            Toyota RAV4     41282     38669  ...   30      Regular              SUV\n",
              "4             Honda CR-V     36098     42079  ...   30      Regular              SUV\n",
              "..                   ...       ...       ...  ...  ...          ...              ...\n",
              "267       Porsche Taycan       130         0  ...   79  Electricity              Car\n",
              "268         Chrysler 200         1         6  ...   27      Regular              Car\n",
              "269         Cadillac CT5        43         0  ...   25      Premium              Car\n",
              "270         Jeep Patriot         2         9  ...   26      Regular              SUV\n",
              "271           Dodge Dart         1         2  ...   29      Regular              Car\n",
              "\n",
              "[272 rows x 11 columns]"
            ]
          },
          "execution_count": 225,
          "metadata": {},
          "output_type": "execute_result"
        }
      ],
      "source": [
        "# remove percent sign from data\n",
        "def percent_to_float(x):\n",
        "    return float(x.strip('%'))\n",
        "\n",
        "# read data into DataFrame\n",
        "df = pd.read_csv(\n",
        "    \"Car Sales By Model.csv\", \n",
        "                 converters={'Change':percent_to_float, \n",
        "                             'YTD Change':percent_to_float})\n",
        "df.rename(columns={'Change':'Change (%)', 'YTD Change':'YTD Change (%)'}, \n",
        "          inplace=True)\n",
        "df.style.set_caption(\"Vehicle Sales By Model in U.S. 2019\")\n",
        "\n",
        "df"
      ]
    },
    {
      "cell_type": "markdown",
      "metadata": {
        "id": "qXClnBbFZcrK"
      },
      "source": [
        "#### Pre-processing"
      ]
    },
    {
      "cell_type": "code",
      "execution_count": 226,
      "metadata": {
        "colab": {
          "base_uri": "https://localhost:8080/",
          "height": 453
        },
        "id": "56tfmMyBZaU4",
        "outputId": "692067c9-44c6-44e2-9c6e-58cf4d1d33c0"
      },
      "outputs": [
        {
          "data": {
            "text/html": [
              "<div>\n",
              "<style scoped>\n",
              "    .dataframe tbody tr th:only-of-type {\n",
              "        vertical-align: middle;\n",
              "    }\n",
              "\n",
              "    .dataframe tbody tr th {\n",
              "        vertical-align: top;\n",
              "    }\n",
              "\n",
              "    .dataframe thead th {\n",
              "        text-align: right;\n",
              "    }\n",
              "</style>\n",
              "<table border=\"1\" class=\"dataframe\">\n",
              "  <thead>\n",
              "    <tr style=\"text-align: right;\">\n",
              "      <th></th>\n",
              "      <th>Model</th>\n",
              "      <th>2019 Dec</th>\n",
              "      <th>2018 Dec</th>\n",
              "      <th>Change (%)</th>\n",
              "      <th>YTD 2019</th>\n",
              "      <th>YTD 2018</th>\n",
              "      <th>YTD Change (%)</th>\n",
              "      <th>Price</th>\n",
              "      <th>MPG</th>\n",
              "      <th>Type of Gas</th>\n",
              "      <th>Type of Vehicle</th>\n",
              "    </tr>\n",
              "  </thead>\n",
              "  <tbody>\n",
              "    <tr>\n",
              "      <th>0</th>\n",
              "      <td>Ford F-Series</td>\n",
              "      <td>77033</td>\n",
              "      <td>87772</td>\n",
              "      <td>-12.24</td>\n",
              "      <td>896526</td>\n",
              "      <td>909330</td>\n",
              "      <td>-1.41</td>\n",
              "      <td>39895.0</td>\n",
              "      <td>21</td>\n",
              "      <td>Diesel</td>\n",
              "      <td>SUVTM</td>\n",
              "    </tr>\n",
              "    <tr>\n",
              "      <th>1</th>\n",
              "      <td>Ram Pickup</td>\n",
              "      <td>56825</td>\n",
              "      <td>60155</td>\n",
              "      <td>-5.54</td>\n",
              "      <td>633694</td>\n",
              "      <td>536980</td>\n",
              "      <td>18.01</td>\n",
              "      <td>34795.0</td>\n",
              "      <td>23</td>\n",
              "      <td>Diesel</td>\n",
              "      <td>SUVTM</td>\n",
              "    </tr>\n",
              "    <tr>\n",
              "      <th>2</th>\n",
              "      <td>Chevrolet Silverado</td>\n",
              "      <td>53785</td>\n",
              "      <td>54424</td>\n",
              "      <td>-1.17</td>\n",
              "      <td>575569</td>\n",
              "      <td>585582</td>\n",
              "      <td>-1.71</td>\n",
              "      <td>29300.0</td>\n",
              "      <td>21</td>\n",
              "      <td>Diesel</td>\n",
              "      <td>SUVTM</td>\n",
              "    </tr>\n",
              "    <tr>\n",
              "      <th>3</th>\n",
              "      <td>Toyota RAV4</td>\n",
              "      <td>41282</td>\n",
              "      <td>38669</td>\n",
              "      <td>6.76</td>\n",
              "      <td>448068</td>\n",
              "      <td>427168</td>\n",
              "      <td>4.89</td>\n",
              "      <td>26350.0</td>\n",
              "      <td>30</td>\n",
              "      <td>Regular</td>\n",
              "      <td>SUVTM</td>\n",
              "    </tr>\n",
              "    <tr>\n",
              "      <th>4</th>\n",
              "      <td>Honda CR-V</td>\n",
              "      <td>36098</td>\n",
              "      <td>42079</td>\n",
              "      <td>-14.21</td>\n",
              "      <td>384168</td>\n",
              "      <td>379021</td>\n",
              "      <td>1.36</td>\n",
              "      <td>25750.0</td>\n",
              "      <td>30</td>\n",
              "      <td>Regular</td>\n",
              "      <td>SUVTM</td>\n",
              "    </tr>\n",
              "    <tr>\n",
              "      <th>...</th>\n",
              "      <td>...</td>\n",
              "      <td>...</td>\n",
              "      <td>...</td>\n",
              "      <td>...</td>\n",
              "      <td>...</td>\n",
              "      <td>...</td>\n",
              "      <td>...</td>\n",
              "      <td>...</td>\n",
              "      <td>...</td>\n",
              "      <td>...</td>\n",
              "      <td>...</td>\n",
              "    </tr>\n",
              "    <tr>\n",
              "      <th>267</th>\n",
              "      <td>Porsche Taycan</td>\n",
              "      <td>130</td>\n",
              "      <td>0</td>\n",
              "      <td>0.00</td>\n",
              "      <td>130</td>\n",
              "      <td>0</td>\n",
              "      <td>0.00</td>\n",
              "      <td>82700.0</td>\n",
              "      <td>79</td>\n",
              "      <td>Electricity</td>\n",
              "      <td>Car</td>\n",
              "    </tr>\n",
              "    <tr>\n",
              "      <th>268</th>\n",
              "      <td>Chrysler 200</td>\n",
              "      <td>1</td>\n",
              "      <td>6</td>\n",
              "      <td>-83.33</td>\n",
              "      <td>48</td>\n",
              "      <td>1043</td>\n",
              "      <td>-95.40</td>\n",
              "      <td>24000.0</td>\n",
              "      <td>27</td>\n",
              "      <td>Regular</td>\n",
              "      <td>Car</td>\n",
              "    </tr>\n",
              "    <tr>\n",
              "      <th>269</th>\n",
              "      <td>Cadillac CT5</td>\n",
              "      <td>43</td>\n",
              "      <td>0</td>\n",
              "      <td>0.00</td>\n",
              "      <td>43</td>\n",
              "      <td>0</td>\n",
              "      <td>0.00</td>\n",
              "      <td>36995.0</td>\n",
              "      <td>25</td>\n",
              "      <td>Premium</td>\n",
              "      <td>Car</td>\n",
              "    </tr>\n",
              "    <tr>\n",
              "      <th>270</th>\n",
              "      <td>Jeep Patriot</td>\n",
              "      <td>2</td>\n",
              "      <td>9</td>\n",
              "      <td>-77.78</td>\n",
              "      <td>27</td>\n",
              "      <td>621</td>\n",
              "      <td>-95.65</td>\n",
              "      <td>19000.0</td>\n",
              "      <td>26</td>\n",
              "      <td>Regular</td>\n",
              "      <td>SUVTM</td>\n",
              "    </tr>\n",
              "    <tr>\n",
              "      <th>271</th>\n",
              "      <td>Dodge Dart</td>\n",
              "      <td>1</td>\n",
              "      <td>2</td>\n",
              "      <td>-50.00</td>\n",
              "      <td>16</td>\n",
              "      <td>389</td>\n",
              "      <td>-95.89</td>\n",
              "      <td>32962.0</td>\n",
              "      <td>29</td>\n",
              "      <td>Regular</td>\n",
              "      <td>Car</td>\n",
              "    </tr>\n",
              "  </tbody>\n",
              "</table>\n",
              "<p>272 rows × 11 columns</p>\n",
              "</div>"
            ],
            "text/plain": [
              "                   Model  2019 Dec  2018 Dec  ...  MPG  Type of Gas  Type of Vehicle\n",
              "0          Ford F-Series     77033     87772  ...   21       Diesel            SUVTM\n",
              "1             Ram Pickup     56825     60155  ...   23       Diesel            SUVTM\n",
              "2    Chevrolet Silverado     53785     54424  ...   21       Diesel            SUVTM\n",
              "3            Toyota RAV4     41282     38669  ...   30      Regular            SUVTM\n",
              "4             Honda CR-V     36098     42079  ...   30      Regular            SUVTM\n",
              "..                   ...       ...       ...  ...  ...          ...              ...\n",
              "267       Porsche Taycan       130         0  ...   79  Electricity              Car\n",
              "268         Chrysler 200         1         6  ...   27      Regular              Car\n",
              "269         Cadillac CT5        43         0  ...   25      Premium              Car\n",
              "270         Jeep Patriot         2         9  ...   26      Regular            SUVTM\n",
              "271           Dodge Dart         1         2  ...   29      Regular              Car\n",
              "\n",
              "[272 rows x 11 columns]"
            ]
          },
          "execution_count": 226,
          "metadata": {},
          "output_type": "execute_result"
        }
      ],
      "source": [
        "# combine vehicle labels to form two classes\n",
        "df.loc[df['Type of Vehicle'] == \"SUV\", 'Type of Vehicle'] = \"SUVTM\"\n",
        "df.loc[df['Type of Vehicle'] == \"Truck\", 'Type of Vehicle'] = \"SUVTM\"\n",
        "df.loc[df['Type of Vehicle'] == \"Minivan\", 'Type of Vehicle'] = \"SUVTM\"\n",
        "df.loc[df['Type of Vehicle'] == \"Van\", 'Type of Vehicle'] = \"SUVTM\"\n",
        "\n",
        "df"
      ]
    },
    {
      "cell_type": "markdown",
      "metadata": {
        "id": "B-A5tZWGfl6X"
      },
      "source": [
        "#### Encode Labels and Scale Data"
      ]
    },
    {
      "cell_type": "code",
      "execution_count": 333,
      "metadata": {
        "id": "JLYdC2BSflJH"
      },
      "outputs": [],
      "source": [
        "# encode vehicle labels with integers\n",
        "df[\"Type of Vehicle\"] = df[\"Type of Vehicle\"].astype('category')\n",
        "df[\"Label\"] = df[\"Type of Vehicle\"].cat.codes\n",
        "# scaling data to avoid overflow issues\n",
        "df[\"YTD 2019\"] = df[\"YTD 2019\"].div(1000000)\n",
        "df[\"YTD Change (%)\"] = df[\"YTD Change (%)\"].div(100)"
      ]
    },
    {
      "cell_type": "markdown",
      "metadata": {
        "id": "6KBOdi9iZnx8"
      },
      "source": [
        "#### Feature Selection"
      ]
    },
    {
      "cell_type": "code",
      "execution_count": 334,
      "metadata": {
        "id": "8fe0n6BjZpw9"
      },
      "outputs": [],
      "source": [
        "# select features\n",
        "df_f = df[[\"YTD Change (%)\", \"YTD 2019\", \"Label\"]]"
      ]
    },
    {
      "cell_type": "markdown",
      "metadata": {
        "id": "R2dq-yyicCD0"
      },
      "source": [
        "#### Convert Data into Matrices"
      ]
    },
    {
      "cell_type": "code",
      "execution_count": 335,
      "metadata": {
        "id": "7vHy-1-YadW0"
      },
      "outputs": [],
      "source": [
        "# set X (training data) and y (target variable)\n",
        "car_cols = df_f.shape[1]\n",
        "car_X = df_f.iloc[:,0:car_cols-1]\n",
        "car_y = df_f.iloc[:,car_cols-1:car_cols]\n",
        "\n",
        "# convert data for classification into matrices \n",
        "car_X = np.matrix(car_X.values)\n",
        "car_y = np.matrix(car_y.values)"
      ]
    },
    {
      "cell_type": "markdown",
      "metadata": {
        "id": "Tl6fL1pzcQCZ"
      },
      "source": [
        "### Split Data"
      ]
    },
    {
      "cell_type": "code",
      "execution_count": 336,
      "metadata": {
        "id": "S7tbNkQecRiy"
      },
      "outputs": [],
      "source": [
        "car_X_train, car_X_test, car_y_train, car_y_test = train_test_split(car_X, car_y, shuffle=False, random_seed=24)"
      ]
    },
    {
      "cell_type": "markdown",
      "metadata": {
        "id": "mwGYyKYScfep"
      },
      "source": [
        "### Train Network (Hidden Layer with 3 Hidden Units)\n"
      ]
    },
    {
      "cell_type": "code",
      "execution_count": 361,
      "metadata": {
        "colab": {
          "base_uri": "https://localhost:8080/",
          "height": 0
        },
        "id": "PWUoAq4lcxqU",
        "outputId": "e5d189b0-b4aa-4810-8af6-99574e4ce04b"
      },
      "outputs": [
        {
          "name": "stdout",
          "output_type": "stream",
          "text": [
            "Network Training \n",
            "\n",
            "Number of Hidden Layers: 1\n",
            "Layer 1\n",
            "Number of Hidden Units:  3\n",
            "Activation Function: ReLU\n",
            "Output Layer\n",
            "Number of Outputs:  1\n",
            "Batch size:  5\n",
            "Loss Function: Softplus\n",
            "\n",
            "Fitting data... \n",
            "\n",
            "Starting Epoch 1...\n",
            "Finished Epochs 1-50.\n",
            "Loss for Epoch 50: 0.3415583479855561\n",
            "Starting Epoch 51...\n",
            "Finished Epochs 51-100.\n",
            "Loss for Epoch 100: 0.34273076373097233\n",
            "Starting Epoch 101...\n",
            "Finished Epochs 101-150.\n",
            "Loss for Epoch 150: 0.8587206627211984\n",
            "Starting Epoch 151...\n",
            "Finished Epochs 151-200.\n",
            "Loss for Epoch 200: 1.1442741051357248\n",
            "Starting Epoch 201...\n",
            "Finished Epochs 201-250.\n",
            "Loss for Epoch 250: 0.3164080334952004\n",
            "Starting Epoch 251...\n",
            "Finished Epochs 251-300.\n",
            "Loss for Epoch 300: 0.4179672846556175\n",
            "Starting Epoch 301...\n",
            "Finished Epochs 301-350.\n",
            "Loss for Epoch 350: 0.28224824389652736\n",
            "Starting Epoch 351...\n",
            "Finished Epochs 351-400.\n",
            "Loss for Epoch 400: 0.6882896000665976\n",
            "Starting Epoch 401...\n",
            "Finished Epochs 401-450.\n",
            "Loss for Epoch 450: 0.9532017271682148\n",
            "Starting Epoch 451...\n",
            "Finished Epochs 451-500.\n",
            "Loss for Epoch 500: 0.36032886765233263\n",
            "Starting Epoch 501...\n",
            "Finished Epochs 501-550.\n",
            "Loss for Epoch 550: 0.261326659529945\n",
            "Starting Epoch 551...\n",
            "Finished Epochs 551-600.\n",
            "Loss for Epoch 600: 0.32042774812781105\n",
            "Starting Epoch 601...\n",
            "Finished Epochs 601-650.\n",
            "Loss for Epoch 650: 0.4557371478742983\n",
            "Starting Epoch 651...\n",
            "Finished Epochs 651-700.\n",
            "Loss for Epoch 700: 0.869336888680538\n",
            "Starting Epoch 701...\n",
            "Finished Epochs 701-750.\n",
            "Loss for Epoch 750: 0.7735060330207426\n",
            "Starting Epoch 751...\n",
            "Finished Epochs 751-800.\n",
            "Loss for Epoch 800: 0.9993189485453748\n",
            "Starting Epoch 801...\n",
            "Finished Epochs 801-850.\n",
            "Loss for Epoch 850: 0.6565766679552641\n",
            "Starting Epoch 851...\n",
            "Finished Epochs 851-900.\n",
            "Loss for Epoch 900: 0.15299609674280473\n",
            "Starting Epoch 901...\n",
            "Finished Epochs 901-950.\n",
            "Loss for Epoch 950: 0.37467746298274385\n",
            "Starting Epoch 951...\n",
            "Finished Epochs 951-1000.\n",
            "Loss for Epoch 1000: 0.6657843691661602\n",
            "Training Complete \n",
            "\n",
            "Predictions Complete \n",
            "\n",
            "Accuracy: 58.18181818181818%\n",
            "Error rate: 41.81818181818182%\n"
          ]
        }
      ],
      "source": [
        "num_epochs = 1000\n",
        "\n",
        "car_network = MLP(car_X_train, car_y_train, lr=0.01, n_iter=num_epochs, num_input=2, \n",
        "              num_hidden=3, num_output=1, loss_function='Softplus')\n",
        "\n",
        "car_network.fit(batch_size=5)\n",
        "\n",
        "car_predictions = car_network.predict(car_X_test)\n",
        "car_predictions = np.array(car_predictions)\n",
        "print(\"Predictions Complete \\n\")\n",
        "\n",
        "car_accuracy = np.sum(car_predictions == np.squeeze(car_y_test)) / len(car_y_test)\n",
        "print(\"Accuracy: \" + str(car_accuracy*100) + \"%\")\n",
        "print(\"Error rate: \" + str((1-car_accuracy)*100) + \"%\")"
      ]
    },
    {
      "cell_type": "markdown",
      "metadata": {
        "id": "Jk6rZX8_pJys"
      },
      "source": [
        "### Discussion"
      ]
    },
    {
      "cell_type": "markdown",
      "metadata": {
        "id": "oyqVFA4TpLrg"
      },
      "source": [
        "As can be seen, the network struggles to learn this model as the data is not linearly separable and is imperfect, much like other data in the real world. While there was a possible boundary for this data using Naive Bayes, it would misclassify some points because of the nature of the data. For a network to better learn this model, we would need more hidden layers and variables that better define the data labels. "
      ]
    }
  ],
  "metadata": {
    "colab": {
      "collapsed_sections": [],
      "name": "W4995 DLCV - ve2170 - HW2 - Final.ipynb",
      "provenance": []
    },
    "kernelspec": {
      "display_name": "Python 3",
      "language": "python",
      "name": "python3"
    },
    "language_info": {
      "codemirror_mode": {
        "name": "ipython",
        "version": 3
      },
      "file_extension": ".py",
      "mimetype": "text/x-python",
      "name": "python",
      "nbconvert_exporter": "python",
      "pygments_lexer": "ipython3",
      "version": "3.9.8"
    }
  },
  "nbformat": 4,
  "nbformat_minor": 0
}
