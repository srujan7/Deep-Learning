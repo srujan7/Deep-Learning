{
  "cells": [
    {
      "cell_type": "markdown",
      "metadata": {
        "id": "_9K9ByNIboyP"
      },
      "source": [
        "# MNIST Handwritten Digits Classification - TensorFlow"
      ]
    },
    {
      "cell_type": "markdown",
      "metadata": {
        "id": "qACtF_DecvEW"
      },
      "source": [
        "## Courtesy of Peter Belhumeur"
      ]
    },
    {
      "cell_type": "markdown",
      "metadata": {
        "id": "jbo1LoVxboyY"
      },
      "source": [
        "### November 9, 2021"
      ]
    },
    {
      "cell_type": "markdown",
      "metadata": {},
      "source": [
        "# Dependencies"
      ]
    },
    {
      "cell_type": "code",
      "execution_count": null,
      "metadata": {},
      "outputs": [],
      "source": [
        "!pip install tensorflow\n",
        "!pip install numpy\n",
        "!pip install matplotlib"
      ]
    },
    {
      "cell_type": "markdown",
      "metadata": {
        "id": "qHcbIO_cboye"
      },
      "source": [
        "# Data"
      ]
    },
    {
      "cell_type": "markdown",
      "metadata": {
        "id": "DuTl52dFboyf"
      },
      "source": [
        "Load in the MNIST digit dataset directly from tensorflow examples"
      ]
    },
    {
      "cell_type": "code",
      "execution_count": null,
      "metadata": {
        "id": "6pBajrlJboyf",
        "outputId": "ed8c20ad-885e-46e9-d7cd-569c70feaea7"
      },
      "outputs": [
        {
          "name": "stdout",
          "output_type": "stream",
          "text": [
            "Extracting MNIST_data/train-images-idx3-ubyte.gz\n",
            "Extracting MNIST_data/train-labels-idx1-ubyte.gz\n",
            "Extracting MNIST_data/t10k-images-idx3-ubyte.gz\n",
            "Extracting MNIST_data/t10k-labels-idx1-ubyte.gz\n"
          ]
        }
      ],
      "source": [
        "from tensorflow.examples.tutorials.mnist import input_data\n",
        "mnist = input_data.read_data_sets('MNIST_data', one_hot=True)"
      ]
    },
    {
      "cell_type": "markdown",
      "metadata": {
        "id": "WU0LUIlOboyl"
      },
      "source": [
        "The MNIST data is split into three parts: 55,000 data points of training data (mnist.train), 10,000 points of test data (mnist.test), and 5,000 points of validation data (mnist.validation)."
      ]
    },
    {
      "cell_type": "markdown",
      "metadata": {
        "id": "9PC7oFqKboym"
      },
      "source": [
        "Let's import tensorflow and begin an interactive session."
      ]
    },
    {
      "cell_type": "code",
      "execution_count": null,
      "metadata": {
        "collapsed": true,
        "id": "bIXAAz2fboym"
      },
      "outputs": [],
      "source": [
        "import tensorflow as tf\n",
        "sess = tf.InteractiveSession()"
      ]
    },
    {
      "cell_type": "markdown",
      "metadata": {
        "id": "etqcGPr8boyn"
      },
      "source": [
        "## Softmax Regression Model on the MNIST Digits Data"
      ]
    },
    {
      "cell_type": "markdown",
      "metadata": {
        "id": "2As0bsKyboyn"
      },
      "source": [
        "We need to create placeholders for the data. Data will be dumped here when it is batched from the MNIST dataset."
      ]
    },
    {
      "cell_type": "code",
      "execution_count": null,
      "metadata": {
        "collapsed": true,
        "id": "bg5ZJWFBboyn"
      },
      "outputs": [],
      "source": [
        "x = tf.placeholder(tf.float32, shape=[None, 784])\n",
        "y_ = tf.placeholder(tf.float32, shape=[None, 10])"
      ]
    },
    {
      "cell_type": "markdown",
      "metadata": {
        "id": "4R3V6AjEboyo"
      },
      "source": [
        "Now let's see what this data looks like."
      ]
    },
    {
      "cell_type": "code",
      "execution_count": null,
      "metadata": {
        "id": "gEZiWeiKboyo",
        "outputId": "1841c997-802c-4d12-cdab-8de2745cab5b"
      },
      "outputs": [
        {
          "data": {
            "image/png": "[encoded data removed]",
            "text/plain": [
              "<matplotlib.figure.Figure at 0x11d624050>"
            ]
          },
          "metadata": {},
          "output_type": "display_data"
        },
        {
          "data": {
            "image/png": "[encoded data removed]",
            "text/plain": [
              "<matplotlib.figure.Figure at 0x11df2afd0>"
            ]
          },
          "metadata": {},
          "output_type": "display_data"
        },
        {
          "data": {
            "image/png": "[encoded data removed]",
            "text/plain": [
              "<matplotlib.figure.Figure at 0x11dff6e90>"
            ]
          },
          "metadata": {},
          "output_type": "display_data"
        },
        {
          "data": {
            "image/png": "[encoded data removed]",
            "text/plain": [
              "<matplotlib.figure.Figure at 0x11e030410>"
            ]
          },
          "metadata": {},
          "output_type": "display_data"
        }
      ],
      "source": [
        "import matplotlib.pyplot as plt\n",
        "import numpy as np\n",
        "\n",
        "for i in range(4):\n",
        "    batch = mnist.test.next_batch(1)\n",
        "    image = np.asarray(batch[0]).reshape((28, 28))\n",
        "    label = batch[1]\n",
        "    \n",
        "    plt.imshow(image)\n",
        "    plt.axis(\"off\")\n",
        "    plt.show()"
      ]
    },
    {
      "cell_type": "markdown",
      "metadata": {
        "id": "tm_8eLh0boyp"
      },
      "source": [
        "We are first going to do softmax logistic regression. This is a linear layer followed by softmax. Note there are NO hidden layers here. Also note that the digit images (28x28 grayscale images) are reshaped into a 784 element vector. "
      ]
    },
    {
      "cell_type": "markdown",
      "metadata": {
        "id": "JmQYbHzUboyq"
      },
      "source": [
        "Below we create the parameters (weights) for our linear layer."
      ]
    },
    {
      "cell_type": "code",
      "execution_count": null,
      "metadata": {
        "collapsed": true,
        "id": "0ogT-oybboyq"
      },
      "outputs": [],
      "source": [
        "W = tf.Variable(tf.zeros([784,10]))\n",
        "b = tf.Variable(tf.zeros([10]))"
      ]
    },
    {
      "cell_type": "markdown",
      "metadata": {
        "id": "Lkbkpkxtboyq"
      },
      "source": [
        "We then use tensorflows initializer to initialize these weights."
      ]
    },
    {
      "cell_type": "code",
      "execution_count": null,
      "metadata": {
        "collapsed": true,
        "id": "hsAsBdKtboyr"
      },
      "outputs": [],
      "source": [
        "sess.run(tf.global_variables_initializer())"
      ]
    },
    {
      "cell_type": "markdown",
      "metadata": {
        "id": "g3IwuJHcboyr"
      },
      "source": [
        "We create our linear layer as a function of the input and the weights."
      ]
    },
    {
      "cell_type": "code",
      "execution_count": null,
      "metadata": {
        "collapsed": true,
        "id": "FWvUm38zboys"
      },
      "outputs": [],
      "source": [
        "y_regressor = tf.matmul(x,W) + b"
      ]
    },
    {
      "cell_type": "markdown",
      "metadata": {
        "id": "QxLZLP6kboys"
      },
      "source": [
        "Below we create our loss function. Note that the cross entropy is $ H_{\\hat{y}}(y) = -\\sum_i \\hat{y}_{i} \\, \\log(y_{i})$ where $\\hat{y}$ is the true probability distribution and is expressed as a one-hot vector, $y$ is the estimated probability distribution, and $i$ indexes elements of these two vectors. Also note that this reduces to $ H_{\\hat{y}}(y) = -\\, \\log(y_{i^*})$ where $i^*$ is the correct label. And if we sum this over all of our samples indexed by $j$, then $H_{\\hat{y}}(y) = -\\sum_j  \\log(y^{(j)}_{i^*})$. This is precisely the same loss function as we used before, but we called the MLE loss. They are one and the same."
      ]
    },
    {
      "cell_type": "code",
      "execution_count": null,
      "metadata": {
        "collapsed": true,
        "id": "kwQ79k32boyt"
      },
      "outputs": [],
      "source": [
        "cross_entropy = tf.reduce_mean(\n",
        "    tf.nn.softmax_cross_entropy_with_logits(labels=y_, logits=y_regressor))"
      ]
    },
    {
      "cell_type": "markdown",
      "metadata": {
        "id": "qCmDgDxcboyt"
      },
      "source": [
        "Now we tell tf to use gradient descent with a step size of 0.5 and to minimize the cross entropy."
      ]
    },
    {
      "cell_type": "code",
      "execution_count": null,
      "metadata": {
        "collapsed": true,
        "id": "8i8_VFZrboyt"
      },
      "outputs": [],
      "source": [
        "train_step = tf.train.GradientDescentOptimizer(0.5).minimize(cross_entropy)"
      ]
    },
    {
      "cell_type": "markdown",
      "metadata": {
        "id": "TrCE-obTboyt"
      },
      "source": [
        "We train by grabbing mini-batches with 100 samples each and pushing these through the network to update our weights (W and b)."
      ]
    },
    {
      "cell_type": "code",
      "execution_count": null,
      "metadata": {
        "collapsed": true,
        "id": "j_m37Milboyu"
      },
      "outputs": [],
      "source": [
        "for _ in range(1000):\n",
        "  batch = mnist.train.next_batch(100)\n",
        "  train_step.run(feed_dict={x: batch[0], y_: batch[1]})"
      ]
    },
    {
      "cell_type": "markdown",
      "metadata": {
        "id": "6-UsAsawboyu"
      },
      "source": [
        "We define how to compute correct predicitions."
      ]
    },
    {
      "cell_type": "code",
      "execution_count": null,
      "metadata": {
        "collapsed": true,
        "id": "lJ8QgfX1boyu"
      },
      "outputs": [],
      "source": [
        "correct_prediction = tf.equal(tf.argmax(y_regressor,1), tf.argmax(y_,1))"
      ]
    },
    {
      "cell_type": "markdown",
      "metadata": {
        "id": "fU60fihwboyv"
      },
      "source": [
        "And from these correct predictions how to compute the accuracy."
      ]
    },
    {
      "cell_type": "code",
      "execution_count": null,
      "metadata": {
        "collapsed": true,
        "id": "VX-bvVZ-boyv"
      },
      "outputs": [],
      "source": [
        "accuracy = tf.reduce_mean(tf.cast(correct_prediction, tf.float32))"
      ]
    },
    {
      "cell_type": "code",
      "execution_count": null,
      "metadata": {
        "id": "Vmq8qxnRboyx",
        "outputId": "359bcb8d-0e81-4d89-e11b-5736a870f547"
      },
      "outputs": [
        {
          "name": "stdout",
          "output_type": "stream",
          "text": [
            "0.919\n"
          ]
        }
      ],
      "source": [
        "print(accuracy.eval(feed_dict={x: mnist.test.images, y_: mnist.test.labels}))"
      ]
    },
    {
      "cell_type": "markdown",
      "metadata": {
        "id": "DWGPHCNFboyy"
      },
      "source": [
        "Let's print out some test images and the corresponsing predictions made by the network. But first, let's add an output to the computation graph that computes the softmax probabilities."
      ]
    },
    {
      "cell_type": "code",
      "execution_count": null,
      "metadata": {
        "id": "1pQ5Ul04boyz"
      },
      "outputs": [],
      "source": [
        "y_probs_regressor = tf.nn.softmax(logits=y_regressor, name=None)"
      ]
    },
    {
      "cell_type": "code",
      "execution_count": null,
      "metadata": {
        "id": "MIgTUKVqboyz",
        "outputId": "87d1c06d-08cc-432d-8e2b-10ec1976db41",
        "scrolled": false
      },
      "outputs": [
        {
          "data": {
            "image/png": "[encoded data removed]",
            "text/plain": [
              "<matplotlib.figure.Figure at 0x11e261f90>"
            ]
          },
          "metadata": {},
          "output_type": "display_data"
        },
        {
          "name": "stdout",
          "output_type": "stream",
          "text": [
            "Label =  [[ 0.  0.  0.  0.  0.  0.  0.  0.  0.  1.]]\n",
            "Class probabilities =  [[  9.29443468e-06   7.47387749e-05   1.38089963e-05   1.14219487e-01\n",
            "    3.84134240e-02   6.48420528e-02   1.38886957e-04   1.47537813e-02\n",
            "    1.18470658e-02   7.55687416e-01]]\n"
          ]
        },
        {
          "data": {
            "image/png": "[encoded data removed]",
            "text/plain": [
              "<matplotlib.figure.Figure at 0x11e0a1850>"
            ]
          },
          "metadata": {},
          "output_type": "display_data"
        },
        {
          "name": "stdout",
          "output_type": "stream",
          "text": [
            "Label =  [[ 0.  0.  0.  0.  0.  0.  0.  0.  0.  1.]]\n",
            "Class probabilities =  [[  8.50503985e-03   4.94107439e-07   4.09405155e-04   6.29698661e-06\n",
            "    7.67807290e-02   2.39031506e-04   2.94614192e-02   1.68453693e-01\n",
            "    8.35071690e-03   7.07793236e-01]]\n"
          ]
        },
        {
          "data": {
            "image/png": "[encoded data removed]",
            "text/plain": [
              "<matplotlib.figure.Figure at 0x11e157cd0>"
            ]
          },
          "metadata": {},
          "output_type": "display_data"
        },
        {
          "name": "stdout",
          "output_type": "stream",
          "text": [
            "Label =  [[ 0.  0.  0.  0.  0.  0.  0.  1.  0.  0.]]\n",
            "Class probabilities =  [[  1.15769981e-05   2.45307339e-04   1.97686313e-05   6.34711876e-04\n",
            "    5.48726879e-04   2.86388420e-03   1.54315749e-05   9.59967077e-01\n",
            "    4.33111069e-04   3.52605022e-02]]\n"
          ]
        },
        {
          "data": {
            "image/png": "[encoded data removed]",
            "text/plain": [
              "<matplotlib.figure.Figure at 0x11e0cf0d0>"
            ]
          },
          "metadata": {},
          "output_type": "display_data"
        },
        {
          "name": "stdout",
          "output_type": "stream",
          "text": [
            "Label =  [[ 0.  0.  0.  0.  0.  0.  1.  0.  0.  0.]]\n",
            "Class probabilities =  [[  3.59805243e-04   6.58656973e-06   5.26350783e-03   8.48718992e-05\n",
            "    9.36258510e-02   1.88619215e-05   8.44072938e-01   2.85940617e-02\n",
            "    5.35306940e-03   2.26204991e-02]]\n"
          ]
        },
        {
          "data": {
            "image/png": "[encoded data removed]",
            "text/plain": [
              "<matplotlib.figure.Figure at 0x11df2a2d0>"
            ]
          },
          "metadata": {},
          "output_type": "display_data"
        },
        {
          "name": "stdout",
          "output_type": "stream",
          "text": [
            "Label =  [[ 0.  0.  0.  0.  0.  0.  0.  0.  1.  0.]]\n",
            "Class probabilities =  [[  1.30033266e-04   3.87917506e-03   1.01224063e-02   2.52482090e-02\n",
            "    1.44047150e-02   4.26409282e-02   1.45911865e-04   1.89911807e-03\n",
            "    8.69454384e-01   3.20750922e-02]]\n"
          ]
        }
      ],
      "source": [
        "for i in range(5):\n",
        "    batch = mnist.test.next_batch(1)\n",
        "    image = np.asarray(batch[0]).reshape((28, 28))\n",
        "    label = batch[1]\n",
        "    \n",
        "    plt.imshow(image)\n",
        "    plt.axis(\"off\")\n",
        "    plt.show()\n",
        "    print \"Label = \", label\n",
        "    print \"Class probabilities = \", y_probs_regressor.eval(feed_dict={\n",
        "        x: batch[0], y_: batch[1]})"
      ]
    },
    {
      "cell_type": "markdown",
      "metadata": {
        "id": "uMr_1-eiboy0"
      },
      "source": [
        "## Softmax Multi-Layer Perceptron on the MNIST Digits Data"
      ]
    },
    {
      "cell_type": "markdown",
      "metadata": {
        "id": "nxetUyffboy1"
      },
      "source": [
        "Here we define both weight and bias variables and how they are to be initialized. Note that the weights are are distributed according to a standard normal distribution (mean = 0, std = 0.1). This random initialization helps avoid hidden units get stuck together, as units that start with the same value will be updated identically in the non-convolutional layers. In contrast, the bias variables are set to a small positive number--this is help prevent hidden units from starting out and getting stuck in the zero part of the ReLU. "
      ]
    },
    {
      "cell_type": "code",
      "execution_count": null,
      "metadata": {
        "collapsed": true,
        "id": "sM8z4MWeboy1"
      },
      "outputs": [],
      "source": [
        "def weight_variable(shape):\n",
        "  initial = tf.truncated_normal(shape, stddev=0.1)\n",
        "  return tf.Variable(initial)\n",
        "\n",
        "def bias_variable(shape):\n",
        "  initial = tf.constant(0.1, shape=shape)\n",
        "  return tf.Variable(initial)"
      ]
    },
    {
      "cell_type": "markdown",
      "metadata": {
        "id": "LP2_SWySboy1"
      },
      "source": [
        "Next we create placeholders for the training data."
      ]
    },
    {
      "cell_type": "code",
      "execution_count": null,
      "metadata": {
        "collapsed": true,
        "id": "JA8zmU4dboy2"
      },
      "outputs": [],
      "source": [
        "x = tf.placeholder(tf.float32, shape=[None, 784])\n",
        "y_ = tf.placeholder(tf.float32, shape=[None, 10])"
      ]
    },
    {
      "cell_type": "markdown",
      "metadata": {
        "id": "rGZml5K9boy2"
      },
      "source": [
        "We create the first and only fully connected hidden layer."
      ]
    },
    {
      "cell_type": "code",
      "execution_count": null,
      "metadata": {
        "id": "PRExNG7Sboy3"
      },
      "outputs": [],
      "source": [
        "W_h = weight_variable([784, 512])\n",
        "b_h = bias_variable([512])\n",
        "h = tf.nn.relu(tf.matmul(x, W_h) + b_h)"
      ]
    },
    {
      "cell_type": "markdown",
      "metadata": {
        "id": "Uzlcl3GTboy3"
      },
      "source": [
        "We create the output layer."
      ]
    },
    {
      "cell_type": "code",
      "execution_count": null,
      "metadata": {
        "collapsed": true,
        "id": "y7iWF0T-boy4"
      },
      "outputs": [],
      "source": [
        "W_out = weight_variable([512, 10])\n",
        "b_out = bias_variable([10])\n",
        "y_MLP = tf.matmul(h, W_out) + b_out"
      ]
    },
    {
      "cell_type": "markdown",
      "metadata": {
        "id": "KDsnJQ4fboy4"
      },
      "source": [
        "We again use cross entropy loss on a softmax distribution on the outputs."
      ]
    },
    {
      "cell_type": "code",
      "execution_count": null,
      "metadata": {
        "collapsed": true,
        "id": "67naIXPjboy4"
      },
      "outputs": [],
      "source": [
        "cross_entropy = tf.reduce_mean(\n",
        "    tf.nn.softmax_cross_entropy_with_logits(labels=y_, logits=y_MLP))"
      ]
    },
    {
      "cell_type": "markdown",
      "metadata": {
        "id": "Jp3zn-HGboy4"
      },
      "source": [
        "For training we choose an Adam learning rate and update rule. We then run this for 20,000 iterations and evaluate our accuracy after training. Note this softmax MLP network does quite a bit bettter than our softmax regressor. The non-linear layer really helps makes sense of the data! But we can do better still..."
      ]
    },
    {
      "cell_type": "code",
      "execution_count": null,
      "metadata": {
        "id": "5iqGyqvjboy4",
        "outputId": "5fdfb6f0-0be1-49bc-97c1-2bf644c33bc2",
        "scrolled": false
      },
      "outputs": [
        {
          "name": "stdout",
          "output_type": "stream",
          "text": [
            "step 0, training accuracy 0.16\n",
            "step 1000, training accuracy 0.88\n",
            "step 2000, training accuracy 0.94\n",
            "step 3000, training accuracy 0.86\n",
            "step 4000, training accuracy 1\n",
            "step 5000, training accuracy 0.96\n",
            "step 6000, training accuracy 1\n",
            "step 7000, training accuracy 0.98\n",
            "step 8000, training accuracy 0.96\n",
            "step 9000, training accuracy 0.98\n",
            "step 10000, training accuracy 1\n",
            "step 11000, training accuracy 0.98\n",
            "step 12000, training accuracy 0.98\n",
            "step 13000, training accuracy 0.98\n",
            "step 14000, training accuracy 0.98\n",
            "step 15000, training accuracy 1\n",
            "step 16000, training accuracy 0.98\n",
            "step 17000, training accuracy 1\n",
            "step 18000, training accuracy 0.98\n",
            "step 19000, training accuracy 1\n",
            "test accuracy 0.978\n"
          ]
        }
      ],
      "source": [
        "train_step = tf.train.AdamOptimizer(1e-4).minimize(cross_entropy)\n",
        "correct_prediction = tf.equal(tf.argmax(y_MLP,1), tf.argmax(y_,1))\n",
        "accuracy = tf.reduce_mean(tf.cast(correct_prediction, tf.float32))\n",
        "sess.run(tf.global_variables_initializer())\n",
        "for i in range(20000):\n",
        "  batch = mnist.train.next_batch(50)\n",
        "  if i%1000 == 0:\n",
        "    train_accuracy = accuracy.eval(feed_dict={\n",
        "        x:batch[0], y_: batch[1]})\n",
        "    print(\"step %d, training accuracy %g\"%(i, train_accuracy))\n",
        "  train_step.run(feed_dict={x: batch[0], y_: batch[1]})\n",
        "\n",
        "print(\"test accuracy %g\"%accuracy.eval(feed_dict={\n",
        "    x: mnist.test.images, y_: mnist.test.labels}))"
      ]
    },
    {
      "cell_type": "markdown",
      "metadata": {
        "id": "EhZniz6Tboy5"
      },
      "source": [
        "## A Simple Convolutional Neural Network: LeNet"
      ]
    },
    {
      "cell_type": "markdown",
      "metadata": {
        "id": "EZvBtbBpboy5"
      },
      "source": [
        "Here we make our first CNN. It's quite simple network, but it's surprisingly good at this handwritten digit recognition task. This a variant on Yann LeCun's CNN network that really helped to move deep learning forward."
      ]
    },
    {
      "cell_type": "markdown",
      "metadata": {
        "id": "uW5Pca2uboy5"
      },
      "source": [
        "We define both weight and bias variables and how they are to be initialized. Note that the weights are are distributed according to a standard normal distribution (mean = 0, std = 0.1). This random initialization helps avoid hidden units get stuck together, as units that start with the same value will be updated identically in the non-convolutional layers. In contrast, the bias variables are set to a small positive number--this is help prevent hidden units from starting out and getting stuck in the zero part of the ReLu. "
      ]
    },
    {
      "cell_type": "code",
      "execution_count": null,
      "metadata": {
        "collapsed": true,
        "id": "E1vPzk7Bboy5"
      },
      "outputs": [],
      "source": [
        "def weight_variable(shape):\n",
        "  initial = tf.truncated_normal(shape, stddev=0.1)\n",
        "  return tf.Variable(initial)\n",
        "\n",
        "def bias_variable(shape):\n",
        "  initial = tf.constant(0.1, shape=shape)\n",
        "  return tf.Variable(initial)"
      ]
    },
    {
      "cell_type": "markdown",
      "metadata": {
        "id": "6nRWjSATboy6"
      },
      "source": [
        "Next we define how the convolution is to be computed and the extent and type of pooling. The convolution will use a 5x5 kernel and will pad the image with zeros around the edges and use a stride of 1 pixel so that the resulting image (after convolution) has the same size as the original input image. The network will learn the weights for a stack of 32 separate kernels along with 32 bias variables. Finally, after the ReLu is performed the result will be under go 2x2 max pooling, thus halfing both dimensions of the image. The choices for the stride, padding, and pooling are not parameters that the network needs to estimate. Rather these are termed \"hyperparamters\" that are usually set by the network designer."
      ]
    },
    {
      "cell_type": "code",
      "execution_count": null,
      "metadata": {
        "collapsed": true,
        "id": "WnxAm2XVboy6"
      },
      "outputs": [],
      "source": [
        "def conv2d(x, W):\n",
        "  return tf.nn.conv2d(x, W, strides=[1, 1, 1, 1], padding='SAME')\n",
        "\n",
        "def max_pool_2x2(x):\n",
        "  return tf.nn.max_pool(x, ksize=[1, 2, 2, 1],\n",
        "                        strides=[1, 2, 2, 1], padding='SAME')"
      ]
    },
    {
      "cell_type": "markdown",
      "metadata": {
        "id": "ljVgVpDbboy6"
      },
      "source": [
        "This creates the weight and bias variables for the first convolutional layer as described above. Note the output has depth 32, so there will be 32 feature images after this layer."
      ]
    },
    {
      "cell_type": "code",
      "execution_count": null,
      "metadata": {
        "collapsed": true,
        "id": "6JYOfTYmboy6"
      },
      "outputs": [],
      "source": [
        "W_conv1 = weight_variable([5, 5, 1, 32])\n",
        "b_conv1 = bias_variable([32])"
      ]
    },
    {
      "cell_type": "markdown",
      "metadata": {
        "id": "iSBWaiDNboy6"
      },
      "source": [
        "Unlike for our softmax regressor above, here we need keep the images as images and not collapse these into vectors; this allows us to perform the 2D convolution."
      ]
    },
    {
      "cell_type": "code",
      "execution_count": null,
      "metadata": {
        "collapsed": true,
        "id": "XBWeNsB0boy7"
      },
      "outputs": [],
      "source": [
        "x_image = tf.reshape(x, [-1,28,28,1])"
      ]
    },
    {
      "cell_type": "markdown",
      "metadata": {
        "id": "S_dEErj-boy7"
      },
      "source": [
        "Finally, we define are first layer of our CNN!"
      ]
    },
    {
      "cell_type": "code",
      "execution_count": null,
      "metadata": {
        "collapsed": true,
        "id": "sFZu4OaLboy8"
      },
      "outputs": [],
      "source": [
        "h_conv1 = tf.nn.relu(conv2d(x_image, W_conv1) + b_conv1)\n",
        "h_pool1 = max_pool_2x2(h_conv1)"
      ]
    },
    {
      "cell_type": "markdown",
      "metadata": {
        "id": "Y4Gr-Y2Nboy8"
      },
      "source": [
        "And wasting no time, we define are second layer. The second layer will have to process 32 feature images coming out of the first layer. Note that the images input to this layer have $\\frac{1}{4}$ the number of pixels as the original input images due to the 2x2 pooling in the previous layer. Note that convolution layer NOT fully connected as our previous hidden layers have been. A unit in the output layer has a limited \"receptive field.\" Its connections to the input layer are spatially limited by the kernel (or filter) size. Also, because of weight sharing in convolutional layers, the number of parameters for a convolutional is the size of the kernel x the depth of the input layer x depth of the output layer + depth of the output layer. So for the second layer of our ConvNet, we have 5 x 5 x 32 x 64 + 64 = 51,264 parameters. "
      ]
    },
    {
      "cell_type": "code",
      "execution_count": null,
      "metadata": {
        "collapsed": true,
        "id": "7MECplQtboy8"
      },
      "outputs": [],
      "source": [
        "W_conv2 = weight_variable([5, 5, 32, 64])\n",
        "b_conv2 = bias_variable([64])\n",
        "\n",
        "h_conv2 = tf.nn.relu(conv2d(h_pool1, W_conv2) + b_conv2)\n",
        "h_pool2 = max_pool_2x2(h_conv2)"
      ]
    },
    {
      "cell_type": "markdown",
      "metadata": {
        "id": "aHJfJG2-boy8"
      },
      "source": [
        "After the pooling stage of our second convolutional layer, we have 64 7x7 \"feature\" images. In one penultimate fully connected hidden layer, we are going to map these feature imges to a 1024 dimensional feature space. Note we need to flatten these feature images to do this."
      ]
    },
    {
      "cell_type": "code",
      "execution_count": null,
      "metadata": {
        "collapsed": true,
        "id": "fphebEFVboy8"
      },
      "outputs": [],
      "source": [
        "W_fc1 = weight_variable([7 * 7 * 64, 1024])\n",
        "b_fc1 = bias_variable([1024])\n",
        "\n",
        "h_pool2_flat = tf.reshape(h_pool2, [-1, 7*7*64])\n",
        "h_fc1 = tf.nn.relu(tf.matmul(h_pool2_flat, W_fc1) + b_fc1)"
      ]
    },
    {
      "cell_type": "markdown",
      "metadata": {
        "id": "TfxKKI3bboy8"
      },
      "source": [
        "Dropout is added here, although it is not really needed for such small network."
      ]
    },
    {
      "cell_type": "code",
      "execution_count": null,
      "metadata": {
        "collapsed": true,
        "id": "d0AO5LWxboy9"
      },
      "outputs": [],
      "source": [
        "keep_prob = tf.placeholder(tf.float32)\n",
        "h_fc1_drop = tf.nn.dropout(h_fc1, keep_prob)"
      ]
    },
    {
      "cell_type": "markdown",
      "metadata": {
        "id": "h01U91x9boy9"
      },
      "source": [
        "We have a final linear output layer mapping features to scores topped off with a softmax cross entropy loss function, as explained earlier."
      ]
    },
    {
      "cell_type": "code",
      "execution_count": null,
      "metadata": {
        "id": "HBgGcH5lboy9"
      },
      "outputs": [],
      "source": [
        "W_fc2 = weight_variable([1024, 10])\n",
        "b_fc2 = bias_variable([10])\n",
        "\n",
        "y_conv = tf.matmul(h_fc1_drop, W_fc2) + b_fc2"
      ]
    },
    {
      "cell_type": "code",
      "execution_count": null,
      "metadata": {
        "collapsed": true,
        "id": "O9RgXQrUboy9"
      },
      "outputs": [],
      "source": [
        "cross_entropy = tf.reduce_mean(\n",
        "    tf.nn.softmax_cross_entropy_with_logits(labels=y_, logits=y_conv))"
      ]
    },
    {
      "cell_type": "markdown",
      "metadata": {
        "id": "17QCOTJyboy9"
      },
      "source": [
        "For training we choose an Adam learning rate and update rule. We then run this for 20,000 iterations and evaluate our accuracy after training."
      ]
    },
    {
      "cell_type": "code",
      "execution_count": null,
      "metadata": {
        "id": "ZzQil8dIboy-",
        "outputId": "952e3f81-4edd-471f-9e25-d93f65219ef5"
      },
      "outputs": [
        {
          "name": "stdout",
          "output_type": "stream",
          "text": [
            "step 0, training accuracy 0.06\n",
            "step 1000, training accuracy 0.92\n",
            "step 2000, training accuracy 0.94\n",
            "step 3000, training accuracy 0.94\n",
            "step 4000, training accuracy 0.98\n",
            "step 5000, training accuracy 1\n",
            "step 6000, training accuracy 1\n",
            "step 7000, training accuracy 0.98\n",
            "step 8000, training accuracy 0.98\n",
            "step 9000, training accuracy 0.96\n",
            "step 10000, training accuracy 1\n",
            "step 11000, training accuracy 1\n",
            "step 12000, training accuracy 0.98\n",
            "step 13000, training accuracy 1\n",
            "step 14000, training accuracy 0.98\n",
            "step 15000, training accuracy 0.98\n",
            "step 16000, training accuracy 0.98\n",
            "step 17000, training accuracy 1\n",
            "step 18000, training accuracy 1\n",
            "step 19000, training accuracy 1\n",
            "test accuracy 0.9918\n"
          ]
        }
      ],
      "source": [
        "train_step = tf.train.AdamOptimizer(1e-4).minimize(cross_entropy)\n",
        "correct_prediction = tf.equal(tf.argmax(y_conv,1), tf.argmax(y_,1))\n",
        "accuracy = tf.reduce_mean(tf.cast(correct_prediction, tf.float32))\n",
        "sess.run(tf.global_variables_initializer())\n",
        "for i in range(20000):\n",
        "  batch = mnist.train.next_batch(50)\n",
        "  if i%1000 == 0:\n",
        "    train_accuracy = accuracy.eval(feed_dict={\n",
        "        x:batch[0], y_: batch[1], keep_prob: 1.0})\n",
        "    print(\"step %d, training accuracy %g\"%(i, train_accuracy))\n",
        "  train_step.run(feed_dict={x: batch[0], y_: batch[1], keep_prob: 0.5})\n",
        "\n",
        "print(\"test accuracy %g\"%accuracy.eval(feed_dict={\n",
        "    x: mnist.test.images, y_: mnist.test.labels, keep_prob: 1.0}))"
      ]
    },
    {
      "cell_type": "markdown",
      "metadata": {
        "id": "vD9sQv0pboy-"
      },
      "source": [
        "We add an output to compuational graph that computes the label probabilities."
      ]
    },
    {
      "cell_type": "code",
      "execution_count": null,
      "metadata": {
        "collapsed": true,
        "id": "vrOtJpgVboy-"
      },
      "outputs": [],
      "source": [
        "y_probs = tf.nn.softmax(logits=y_conv, name=None)"
      ]
    },
    {
      "cell_type": "code",
      "execution_count": null,
      "metadata": {
        "id": "LqylxHkrboy-",
        "outputId": "83e77399-1407-4a42-fed2-a8b9bc8c6e42"
      },
      "outputs": [
        {
          "name": "stdout",
          "output_type": "stream",
          "text": [
            "test accuracy 0.9918\n"
          ]
        }
      ],
      "source": [
        "print(\"test accuracy %g\"%accuracy.eval(feed_dict={\n",
        "    x: mnist.test.images, y_: mnist.test.labels, keep_prob: 1.0}))"
      ]
    },
    {
      "cell_type": "markdown",
      "metadata": {
        "id": "uRLc0UlMboy_"
      },
      "source": [
        "Next we step through some test examples and see how well the network is doing."
      ]
    },
    {
      "cell_type": "code",
      "execution_count": null,
      "metadata": {
        "id": "E9Pk3AN7boy_",
        "outputId": "136b0ddd-6709-428f-98f0-d7b529ec9fed"
      },
      "outputs": [
        {
          "data": {
            "image/png": "[encoded data removed]",
            "text/plain": [
              "<matplotlib.figure.Figure at 0x11e8aa6d0>"
            ]
          },
          "metadata": {},
          "output_type": "display_data"
        },
        {
          "name": "stdout",
          "output_type": "stream",
          "text": [
            "Label =  [[ 0.  0.  1.  0.  0.  0.  0.  0.  0.  0.]]\n",
            "Class probabilities =  [[  9.82561144e-09   4.02944625e-06   9.99995232e-01   5.52794063e-07\n",
            "    1.14567238e-10   1.30734061e-11   7.62288344e-13   4.52927162e-09\n",
            "    2.44272286e-07   1.41098175e-10]]\n"
          ]
        },
        {
          "data": {
            "image/png": "[encoded data removed]",
            "text/plain": [
              "<matplotlib.figure.Figure at 0x11e0006d0>"
            ]
          },
          "metadata": {},
          "output_type": "display_data"
        },
        {
          "name": "stdout",
          "output_type": "stream",
          "text": [
            "Label =  [[ 1.  0.  0.  0.  0.  0.  0.  0.  0.  0.]]\n",
            "Class probabilities =  [[  1.00000000e+00   9.55037915e-14   1.00204497e-11   2.00734178e-12\n",
            "    3.00243597e-12   3.60783655e-14   1.24180177e-09   1.54670330e-13\n",
            "    7.29696360e-13   2.63964184e-09]]\n"
          ]
        },
        {
          "data": {
            "image/png": "[encoded data removed]",
            "text/plain": [
              "<matplotlib.figure.Figure at 0x11e0cf6d0>"
            ]
          },
          "metadata": {},
          "output_type": "display_data"
        },
        {
          "name": "stdout",
          "output_type": "stream",
          "text": [
            "Label =  [[ 0.  0.  0.  0.  0.  0.  1.  0.  0.  0.]]\n",
            "Class probabilities =  [[  1.78678743e-08   2.13080692e-14   4.30018190e-13   4.07494879e-14\n",
            "    1.43967737e-13   6.06006356e-10   1.00000000e+00   5.61956352e-14\n",
            "    3.06867398e-09   5.18705174e-12]]\n"
          ]
        },
        {
          "data": {
            "image/png": "[encoded data removed]",
            "text/plain": [
              "<matplotlib.figure.Figure at 0x11e12bd10>"
            ]
          },
          "metadata": {},
          "output_type": "display_data"
        },
        {
          "name": "stdout",
          "output_type": "stream",
          "text": [
            "Label =  [[ 0.  0.  0.  0.  1.  0.  0.  0.  0.  0.]]\n",
            "Class probabilities =  [[  3.71149969e-13   1.06815790e-09   2.73056697e-13   6.85211055e-10\n",
            "    9.96720254e-01   3.12911502e-11   6.12383234e-12   7.73536044e-08\n",
            "    2.03020356e-09   3.27958562e-03]]\n"
          ]
        },
        {
          "data": {
            "image/png": "[encoded data removed]",
            "text/plain": [
              "<matplotlib.figure.Figure at 0x11e308dd0>"
            ]
          },
          "metadata": {},
          "output_type": "display_data"
        },
        {
          "name": "stdout",
          "output_type": "stream",
          "text": [
            "Label =  [[ 0.  0.  0.  0.  0.  0.  0.  0.  1.  0.]]\n",
            "Class probabilities =  [[  1.98779659e-08   3.16471266e-10   1.29028317e-08   2.70781084e-03\n",
            "    1.94473682e-08   9.44827661e-06   2.06461635e-07   1.81933218e-10\n",
            "    9.97282028e-01   5.10022801e-07]]\n"
          ]
        }
      ],
      "source": [
        "for i in range(5):\n",
        "    batch = mnist.test.next_batch(1)\n",
        "    image = np.asarray(batch[0]).reshape((28, 28))\n",
        "    label = batch[1]\n",
        "    \n",
        "    plt.imshow(image)\n",
        "    plt.axis(\"off\")\n",
        "    plt.show()\n",
        "    print \"Label = \", label\n",
        "    print \"Class probabilities = \", y_probs.eval(feed_dict={\n",
        "        x: batch[0], y_: batch[1], keep_prob: 1.0})"
      ]
    }
  ],
  "metadata": {
    "colab": {
      "collapsed_sections": [
        "_9K9ByNIboyP",
        "86okWo3LboyY",
        "jbo1LoVxboyY",
        "qACtF_DecvEW",
        "1JyzJLnedFrR",
        "kZTBtKbikhE7",
        "qHcbIO_cboye",
        "etqcGPr8boyn",
        "uMr_1-eiboy0",
        "EhZniz6Tboy5"
      ],
      "name": "W4995-DLCV-ve2170-HW4.ipynb",
      "provenance": []
    },
    "kernelspec": {
      "display_name": "Python 3",
      "language": "python",
      "name": "python3"
    },
    "language_info": {
      "codemirror_mode": {
        "name": "ipython",
        "version": 3
      },
      "file_extension": ".py",
      "mimetype": "text/x-python",
      "name": "python",
      "nbconvert_exporter": "python",
      "pygments_lexer": "ipython3",
      "version": "3.8.5"
    }
  },
  "nbformat": 4,
  "nbformat_minor": 0
}
