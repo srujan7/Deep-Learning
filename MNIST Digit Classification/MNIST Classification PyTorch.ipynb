{
  "cells": [
    {
      "cell_type": "markdown",
      "metadata": {
        "id": "_9K9ByNIboyP"
      },
      "source": [
        "# MNIST Handwritten Digits Classification - PyTorch"
      ]
    },
    {
      "cell_type": "markdown",
      "metadata": {
        "id": "qACtF_DecvEW"
      },
      "source": [
        "## Srujan Esanakarra"
      ]
    },
    {
      "cell_type": "markdown",
      "metadata": {
        "id": "jbo1LoVxboyY"
      },
      "source": [
        "### November 9, 2021"
      ]
    },
    {
      "cell_type": "markdown",
      "metadata": {
        "id": "wiQ6zzo1k105"
      },
      "source": [
        "# Dependencies"
      ]
    },
    {
      "cell_type": "code",
      "execution_count": null,
      "metadata": {
        "colab": {
          "base_uri": "https://localhost:8080/"
        },
        "id": "UjxMzLOBmEGd",
        "outputId": "2b2c961a-b79d-41aa-bc9e-e98876274a16"
      },
      "outputs": [
        {
          "name": "stdout",
          "output_type": "stream",
          "text": [
            "Requirement already satisfied: torch in /usr/local/lib/python3.7/dist-packages (1.9.0+cu111)\n",
            "Requirement already satisfied: torchvision in /usr/local/lib/python3.7/dist-packages (0.10.0+cu111)\n",
            "Requirement already satisfied: typing-extensions in /usr/local/lib/python3.7/dist-packages (from torch) (3.10.0.2)\n",
            "Requirement already satisfied: pillow>=5.3.0 in /usr/local/lib/python3.7/dist-packages (from torchvision) (7.1.2)\n",
            "Requirement already satisfied: numpy in /usr/local/lib/python3.7/dist-packages (from torchvision) (1.19.5)\n"
          ]
        }
      ],
      "source": [
        "!pip install torch torchvision"
      ]
    },
    {
      "cell_type": "code",
      "execution_count": null,
      "metadata": {
        "id": "A0sQnMJhmqir"
      },
      "outputs": [],
      "source": [
        "import numpy as np\n",
        "import torch\n",
        "from torch import nn\n",
        "import torch.nn.functional as F\n",
        "from torch.utils.data import DataLoader, random_split, Subset\n",
        "from torchvision import datasets\n",
        "from torchvision.transforms import ToTensor, Lambda, Compose\n",
        "import matplotlib.pyplot as plt"
      ]
    },
    {
      "cell_type": "code",
      "execution_count": null,
      "metadata": {
        "colab": {
          "base_uri": "https://localhost:8080/"
        },
        "id": "AToCCoCHr_Oq",
        "outputId": "7e7303a2-4d38-43ea-d311-2096e86c8cc3"
      },
      "outputs": [
        {
          "data": {
            "text/plain": [
              "<torch._C.Generator at 0x7efdbdf602b0>"
            ]
          },
          "execution_count": 257,
          "metadata": {},
          "output_type": "execute_result"
        }
      ],
      "source": [
        "random_seed = 1\n",
        "# cuDNN is non-deterministic\n",
        "torch.backends.cudnn.enabled=False\n",
        "torch.manual_seed(random_seed)"
      ]
    },
    {
      "cell_type": "markdown",
      "metadata": {
        "id": "aAYmH630wBSz"
      },
      "source": [
        "# Dataset"
      ]
    },
    {
      "cell_type": "markdown",
      "metadata": {
        "id": "XVQ6bKwpwCzH"
      },
      "source": [
        "Load MNIST digit dataset from torchvision datasets."
      ]
    },
    {
      "cell_type": "code",
      "execution_count": null,
      "metadata": {
        "id": "sO-V05iywLaL"
      },
      "outputs": [],
      "source": [
        "# Download training data from open datasets\n",
        "training_data = datasets.MNIST(\n",
        "    root=\"data\",\n",
        "    train=True,\n",
        "    download=True,\n",
        "    transform=Compose([ToTensor()]),\n",
        ")\n",
        "\n",
        "# Download test data from open datasets\n",
        "test_data = datasets.MNIST(\n",
        "    root=\"data\",\n",
        "    train=False,\n",
        "    download=True,\n",
        "    transform=Compose([ToTensor()]),\n",
        ")"
      ]
    },
    {
      "cell_type": "markdown",
      "metadata": {
        "id": "NuNjA8cvxtme"
      },
      "source": [
        "MNIST dataset downloaded from torchvision has 60,000 training examples and 10,000 test examples. \n",
        "\n",
        "Split the training set to obtain 55,000 training examples and 5,000 validation examples."
      ]
    },
    {
      "cell_type": "code",
      "execution_count": null,
      "metadata": {
        "id": "r2dwlXuLzxfU"
      },
      "outputs": [],
      "source": [
        "training_data, validation_data = random_split(training_data, [55000,5000])"
      ]
    },
    {
      "cell_type": "markdown",
      "metadata": {
        "id": "J-r1JT9yZU0L"
      },
      "source": [
        "Specify hyperparameters."
      ]
    },
    {
      "cell_type": "code",
      "execution_count": null,
      "metadata": {
        "id": "u6y4GwMcZWHD"
      },
      "outputs": [],
      "source": [
        "NUM_EPOCHS = 10 # number of times the network will see the entire training set\n",
        "TRAIN_BATCH_SIZE = 100 # number of training points in each iteration\n",
        "TEST_BATCH_SIZE = 1000 # number of test points in each iteration\n",
        "LEARNING_RATE = 1e-3 # learning rate for weight and bias updates\n",
        "MOMENTUM = 0.5 # avoids getting stuck in local minima due to pathological curvature"
      ]
    },
    {
      "cell_type": "markdown",
      "metadata": {
        "id": "c0zzi3o8ZX0X"
      },
      "source": [
        "Create data loaders for the training, validation, and test sets, which wrap iterables over the sets and support automatic batching, sampling, shuffling and multiprocess data loading."
      ]
    },
    {
      "cell_type": "code",
      "execution_count": null,
      "metadata": {
        "id": "P8z1U5JmZ8lD"
      },
      "outputs": [],
      "source": [
        "train_dataloader = DataLoader(training_data, batch_size=TRAIN_BATCH_SIZE, shuffle=True)\n",
        "validation_dataloader = DataLoader(validation_data, batch_size=TRAIN_BATCH_SIZE, shuffle=True)\n",
        "test_dataloader = DataLoader(test_data, batch_size=TEST_BATCH_SIZE, shuffle=False)"
      ]
    },
    {
      "cell_type": "markdown",
      "metadata": {
        "id": "e4MoXFKmaYRp"
      },
      "source": [
        "## Visualization"
      ]
    },
    {
      "cell_type": "markdown",
      "metadata": {
        "id": "weoCxVuStMK5"
      },
      "source": [
        "Example dataset from the test set for visualization."
      ]
    },
    {
      "cell_type": "code",
      "execution_count": null,
      "metadata": {
        "id": "C1FDYGYrt5OK"
      },
      "outputs": [],
      "source": [
        "example_data = enumerate(test_dataloader)\n",
        "batch_index, (example_features, example_targets) = next(example_data)"
      ]
    },
    {
      "cell_type": "markdown",
      "metadata": {
        "id": "PKQJQ-EiuKkE"
      },
      "source": [
        "Size of one test data batch."
      ]
    },
    {
      "cell_type": "code",
      "execution_count": null,
      "metadata": {
        "colab": {
          "base_uri": "https://localhost:8080/"
        },
        "id": "l7QIcKDNuN2Z",
        "outputId": "2d2070cd-996d-42de-9376-ff498d105806"
      },
      "outputs": [
        {
          "data": {
            "text/plain": [
              "torch.Size([1000, 1, 28, 28])"
            ]
          },
          "execution_count": 263,
          "metadata": {},
          "output_type": "execute_result"
        }
      ],
      "source": [
        "example_features.shape"
      ]
    },
    {
      "cell_type": "markdown",
      "metadata": {
        "id": "k1qTQ1-LuPz3"
      },
      "source": [
        "Plot a few examples."
      ]
    },
    {
      "cell_type": "code",
      "execution_count": null,
      "metadata": {
        "colab": {
          "base_uri": "https://localhost:8080/",
          "height": 318
        },
        "id": "uiyRT2WruVFJ",
        "outputId": "586359c2-9136-4a33-f1e5-47f4f533def3"
      },
      "outputs": [
        {
          "data": {
            "text/plain": [
              "<Figure size 432x288 with 0 Axes>"
            ]
          },
          "execution_count": 264,
          "metadata": {},
          "output_type": "execute_result"
        },
        {
          "data": {
            "image/png": "[encoded data removed]",
            "text/plain": [
              "<Figure size 432x288 with 6 Axes>"
            ]
          },
          "metadata": {},
          "output_type": "display_data"
        },
        {
          "data": {
            "text/plain": [
              "<Figure size 432x288 with 0 Axes>"
            ]
          },
          "metadata": {},
          "output_type": "display_data"
        }
      ],
      "source": [
        "for i in range(6):\n",
        "  plt.subplot(2,3,i+1)\n",
        "  plt.tight_layout()\n",
        "  plt.imshow(example_features[i][0], cmap='gray', interpolation='none')\n",
        "  plt.title(\"Label: {}\".format(example_targets[i]))\n",
        "  plt.xticks([])\n",
        "  plt.yticks([])\n",
        "plt.figure()"
      ]
    },
    {
      "cell_type": "markdown",
      "metadata": {
        "id": "AzBQMCHMvwwb"
      },
      "source": [
        "# Device"
      ]
    },
    {
      "cell_type": "markdown",
      "metadata": {
        "id": "LU6LttsvvyT0"
      },
      "source": [
        "Select device for training."
      ]
    },
    {
      "cell_type": "code",
      "execution_count": null,
      "metadata": {
        "colab": {
          "base_uri": "https://localhost:8080/"
        },
        "id": "RnozNrxKv09T",
        "outputId": "09c5f0ea-5b14-4b0e-8e20-33e8750edf1e"
      },
      "outputs": [
        {
          "name": "stdout",
          "output_type": "stream",
          "text": [
            "Using cpu device\n"
          ]
        }
      ],
      "source": [
        "# Get cpu or gpu device for training\n",
        "device = \"cuda\" if torch.cuda.is_available() else \"cpu\"\n",
        "print(\"Using {} device\".format(device))"
      ]
    },
    {
      "cell_type": "markdown",
      "metadata": {
        "id": "YjEs6sHExFLI"
      },
      "source": [
        "# Softmax Regression Model"
      ]
    },
    {
      "cell_type": "markdown",
      "metadata": {
        "id": "OYna6t4mxgh8"
      },
      "source": [
        "Softmax logistic regression: A linear layer followed by softmax. \n",
        "*   NO hidden layers\n",
        "*   Digit images (28x28 grayscale images) are reshaped into a 784 element vector"
      ]
    },
    {
      "cell_type": "markdown",
      "metadata": {
        "id": "ARvauuxjx-di"
      },
      "source": [
        "Model Class for Logistic Regression\n",
        "\n",
        "The weights are initialized using Xavier initialization, in which the values are sampled from $\\mathcal{N}(0,\\text{std}^2)$ where \n",
        "\\begin{equation}\n",
        "\\text{std} = \\text{gain} \\times \\sqrt(\\frac{2}{\\text{input_dim} + \\text{output_dim}})\n",
        "\\end{equation}\n",
        "where gain is a scaling factor (default = 1.0)"
      ]
    },
    {
      "cell_type": "code",
      "execution_count": null,
      "metadata": {
        "id": "Ed4z5By1ySm_"
      },
      "outputs": [],
      "source": [
        "class LogisticRegression(nn.Module):\n",
        "  def __init__(self, input_dim, output_dim):\n",
        "    # initialize base class for all neural network modules\n",
        "    super(LogisticRegression, self).__init__()\n",
        "    # applies a linear transformation to the input data: y = xA^T+b\n",
        "    self.linear = nn.Linear(input_dim, output_dim)\n",
        "    # initialize weights for the layer using zeros since this is just regression\n",
        "    nn.init.zeros_(self.linear.weight)\n",
        "    # initialize biases to zeros\n",
        "    nn.init.zeros_(self.linear.bias)\n",
        "  \n",
        "  def forward(self, x):\n",
        "    # get outputs from linear transformation\n",
        "    outputs = self.linear(x)\n",
        "    # return outputs\n",
        "    return outputs"
      ]
    },
    {
      "cell_type": "markdown",
      "metadata": {
        "id": "tsfUIkIz2gCD"
      },
      "source": [
        "Instantiate model class"
      ]
    },
    {
      "cell_type": "code",
      "execution_count": null,
      "metadata": {
        "id": "KF-4AGOZ2lw8"
      },
      "outputs": [],
      "source": [
        "input_dim = 28*28 # number of input features\n",
        "output_dim = 10 # number of classes\n",
        "\n",
        "model = LogisticRegression(input_dim, output_dim).to(device)"
      ]
    },
    {
      "cell_type": "markdown",
      "metadata": {
        "id": "5ZfllERT3Klf"
      },
      "source": [
        "Instantiate loss class"
      ]
    },
    {
      "cell_type": "code",
      "execution_count": null,
      "metadata": {
        "id": "UwmMifbi3MyR"
      },
      "outputs": [],
      "source": [
        "# computes softmax and cross entropy; PyTorch CrossEntropyLoss() applies\n",
        "# LogSoftmax() and NLLLoss() (negative log likelihood loss), so raw logits\n",
        "# are passed to the loss function\n",
        "loss_fn = nn.CrossEntropyLoss()"
      ]
    },
    {
      "cell_type": "markdown",
      "metadata": {
        "id": "bZuznJaj75VZ"
      },
      "source": [
        "Instantiate optimizer class\n",
        "\n",
        "The optimizer is the learning algorithm; we will use Stochastic Gradient Descent\n",
        "\n",
        "The update equation is as follows\n",
        "\\begin{equation}\n",
        "  \\theta = \\theta - \\eta \\cdot \\nabla_\\theta\n",
        "\\end{equation}\n",
        "where $\\theta$ represents the parameters, $\\eta$ represents the learning rate, and $\\nabla_\\theta$ represents the parameters' gradients"
      ]
    },
    {
      "cell_type": "code",
      "execution_count": null,
      "metadata": {
        "id": "u_rXkD-N8Dmc"
      },
      "outputs": [],
      "source": [
        "optimizer = torch.optim.SGD(model.parameters(), lr=0.5, momentum=MOMENTUM)"
      ]
    },
    {
      "cell_type": "markdown",
      "metadata": {
        "id": "oNfP_I4T9HZr"
      },
      "source": [
        "Function to train the model\n",
        "*   Convert inputs/labels to tensors with gradients\n",
        "*   Clear gradient buffers\n",
        "*   Get outputs from linear layer\n",
        "*   Get softmax cross entropy loss\n",
        "*   Get gradients w.r.t parameters\n",
        "*   Update parameters using gradients\n",
        "*   Repeat for all batches for all epochs\n",
        "\n"
      ]
    },
    {
      "cell_type": "code",
      "execution_count": null,
      "metadata": {
        "id": "l7MpIUvU-zPC"
      },
      "outputs": [],
      "source": [
        "def train(dataloader, model, loss_fn, optimizer, CNN=False):\n",
        "  # number of images in training set\n",
        "  size = len(dataloader.dataset)\n",
        "  # indicates intention to train; sets behavior for BatchNorm, Dropout, etc. accordingly\n",
        "  model.train()\n",
        "  # train model using mini-batches for each iteration\n",
        "  for batch, (X, y) in enumerate(train_dataloader):\n",
        "    # load images and labels as Variable\n",
        "    # for CNN, images should not be collapsed into vectors\n",
        "    if CNN:\n",
        "      X = X.requires_grad_() # enables gradient computation for tensor\n",
        "    else:\n",
        "      X = X.view(-1, 28*28).requires_grad_() \n",
        "    y = y\n",
        "    # moves tensors to the device being used for training (cpu or gpu)\n",
        "    X, y = X.to(device), y.to(device)\n",
        "    # clears gradients w.r.t. parameters\n",
        "    optimizer.zero_grad()\n",
        "    # forward propagation to get outputs (logits)\n",
        "    outputs = model(X)\n",
        "    # calculates loss (softmax cross entropy loss)\n",
        "    loss = loss_fn(outputs, y)\n",
        "    # computes gradients w.r.t. parameters (tensors)\n",
        "    loss.backward()\n",
        "    # updates gradients w.r.t. parameters using internally stored grad values\n",
        "    optimizer.step()\n",
        "\n",
        "    # print loss after every 100*BATCH_SIZE batches\n",
        "    if batch % 100 == 0:\n",
        "      loss, current = loss.item(), batch * len(X)\n",
        "      print(f\"loss: {loss:>7f}  [{current:>5d}/{size:>5d}]\")"
      ]
    },
    {
      "cell_type": "markdown",
      "metadata": {
        "id": "kLLQg0q9EwTS"
      },
      "source": [
        "Function to check model's performance against the validation set to ensure it is learning and return validation loss"
      ]
    },
    {
      "cell_type": "code",
      "execution_count": null,
      "metadata": {
        "id": "7M2Sp01xE60Q"
      },
      "outputs": [],
      "source": [
        "def validate(dataloader, model, loss_fn, CNN=False):\n",
        "  # number of images in validation set\n",
        "  size = len(dataloader.dataset)\n",
        "  # number of batches in set\n",
        "  num_batches = len(dataloader)\n",
        "  # indicates intention to test; sets behavior of BatchNorm, Dropout, etc. accordingly\n",
        "  model.eval()\n",
        "  # variables to hold loss and accuracy for each batch\n",
        "  val_loss, correct = 0, 0\n",
        "  # disable gradient calculation\n",
        "  with torch.no_grad():\n",
        "    # iterates through each batch in the dataloader\n",
        "    for X, y in dataloader:\n",
        "      # load images and labels as Variable\n",
        "      if not CNN:\n",
        "        X = X.view(-1, 28*28)\n",
        "      y = y\n",
        "      # moves tensors to the device being used for execution (cpu or gpu)\n",
        "      X, y = X.to(device), y.to(device)\n",
        "      # forward propagation to get outputs (logits)\n",
        "      raw_outputs = model(X)\n",
        "      # apply softmax to outputs\n",
        "      outputs = F.softmax(raw_outputs, dim=-1)\n",
        "      # validation losses for the batch\n",
        "      val_loss += loss_fn(outputs, y).item()\n",
        "      # number of correct predictions for the batch\n",
        "      correct += (outputs.argmax(1) == y).type(torch.float).sum().item()\n",
        "    \n",
        "    # average validation loss for batch\n",
        "    val_loss /= num_batches\n",
        "    # accuracy for the batch\n",
        "    correct /= size\n",
        "    \n",
        "    print(f\"Validation Error: \\n Accuracy: {(100*correct):>0.1f}%, Validation loss: {val_loss:>8f} \\n\")\n",
        "  \n",
        "  return val_loss"
      ]
    },
    {
      "cell_type": "markdown",
      "metadata": {
        "id": "88IB-Z8sjXYn"
      },
      "source": [
        "Function to calculate accuracy on the test set and return predictions"
      ]
    },
    {
      "cell_type": "code",
      "execution_count": null,
      "metadata": {
        "id": "wwciuXdcjdu1"
      },
      "outputs": [],
      "source": [
        "def test(dataloader, model, CNN=False):\n",
        "  # number of images in test set\n",
        "  size = len(dataloader.dataset)\n",
        "  # number of batches in set\n",
        "  num_batches = len(dataloader)\n",
        "  # indicates intention to test; sets behavior of BatchNorm, Dropout, etc. accordingly\n",
        "  model.eval()\n",
        "  # variable to hold predictions for the test set\n",
        "  predictions = []\n",
        "  # variable to hold accuracy\n",
        "  correct = 0\n",
        "  # disable gradient calculation\n",
        "  with torch.no_grad():\n",
        "    # iterates through each batch in the dataloader\n",
        "    for X, y in dataloader:\n",
        "      # load images and labels as Variable\n",
        "      if not CNN:\n",
        "        X = X.view(-1, 28*28)\n",
        "      y = y\n",
        "      # moves tensors to the device being used for execution (cpu or gpu)\n",
        "      X, y = X.to(device), y.to(device)\n",
        "      # forward propagation to get outputs (logits)\n",
        "      raw_outputs = model(X)\n",
        "      # apply softmax to outputs\n",
        "      outputs = F.softmax(raw_outputs, dim=-1)\n",
        "      # get predicted labels from outputs\n",
        "      predictions.append(outputs.argmax(1))\n",
        "      # calculate number of correctly predicted labels\n",
        "      correct += (outputs.argmax(1) == y).type(torch.float).sum().item()\n",
        "    \n",
        "    # calculate accuracy on test set\n",
        "    correct /= size\n",
        "    \n",
        "    print(f\"Test Accuracy: {(100*correct):>0.1f}% \\n\")\n",
        "  \n",
        "  return predictions"
      ]
    },
    {
      "cell_type": "markdown",
      "metadata": {
        "id": "eB7xHMLOFnfI"
      },
      "source": [
        "Train the Logistic Regression model"
      ]
    },
    {
      "cell_type": "code",
      "execution_count": null,
      "metadata": {
        "colab": {
          "base_uri": "https://localhost:8080/"
        },
        "id": "S05JQ_bhFoYK",
        "outputId": "f692e2eb-2389-4dad-adff-6c30253c3467"
      },
      "outputs": [
        {
          "name": "stdout",
          "output_type": "stream",
          "text": [
            "Training Logistic Regression Model using Softmax Cross-Entropy Loss\n",
            "\n",
            "\n",
            "Epoch 1\n",
            "-------------------------------\n",
            "loss: 2.302585  [    0/55000]\n",
            "loss: 0.455566  [10000/55000]\n",
            "loss: 0.270350  [20000/55000]\n",
            "loss: 0.238551  [30000/55000]\n",
            "loss: 0.226443  [40000/55000]\n",
            "loss: 0.360527  [50000/55000]\n",
            "Validation Error: \n",
            " Accuracy: 91.2%, Validation loss: 1.592569 \n",
            "\n",
            "Validation loss decreased (inf --> 1.592569)\n",
            "Saving model ... \n",
            "\n",
            "\n",
            "Epoch 2\n",
            "-------------------------------\n",
            "loss: 0.212245  [    0/55000]\n",
            "loss: 0.399064  [10000/55000]\n",
            "loss: 0.151578  [20000/55000]\n",
            "loss: 0.237751  [30000/55000]\n",
            "loss: 0.340079  [40000/55000]\n",
            "loss: 0.432907  [50000/55000]\n",
            "Validation Error: \n",
            " Accuracy: 91.2%, Validation loss: 1.589383 \n",
            "\n",
            "Validation loss decreased (1.592569 --> 1.589383)\n",
            "Saving model ... \n",
            "\n",
            "\n",
            "Epoch 3\n",
            "-------------------------------\n",
            "loss: 0.231997  [    0/55000]\n",
            "loss: 0.296141  [10000/55000]\n",
            "loss: 0.235258  [20000/55000]\n",
            "loss: 0.120359  [30000/55000]\n",
            "loss: 0.221681  [40000/55000]\n",
            "loss: 0.657365  [50000/55000]\n",
            "Validation Error: \n",
            " Accuracy: 91.3%, Validation loss: 1.584151 \n",
            "\n",
            "Validation loss decreased (1.589383 --> 1.584151)\n",
            "Saving model ... \n",
            "\n",
            "\n",
            "Epoch 4\n",
            "-------------------------------\n",
            "loss: 0.322402  [    0/55000]\n",
            "loss: 0.270628  [10000/55000]\n",
            "loss: 0.372308  [20000/55000]\n",
            "loss: 0.195822  [30000/55000]\n",
            "loss: 0.214053  [40000/55000]\n",
            "loss: 0.290363  [50000/55000]\n",
            "Validation Error: \n",
            " Accuracy: 91.3%, Validation loss: 1.589759 \n",
            "\n",
            "Epoch 5\n",
            "-------------------------------\n",
            "loss: 0.120076  [    0/55000]\n",
            "loss: 0.261578  [10000/55000]\n",
            "loss: 0.107421  [20000/55000]\n",
            "loss: 0.320224  [30000/55000]\n",
            "loss: 0.158755  [40000/55000]\n",
            "loss: 0.217040  [50000/55000]\n",
            "Validation Error: \n",
            " Accuracy: 91.9%, Validation loss: 1.575730 \n",
            "\n",
            "Validation loss decreased (1.584151 --> 1.575730)\n",
            "Saving model ... \n",
            "\n",
            "\n",
            "Epoch 6\n",
            "-------------------------------\n",
            "loss: 0.307789  [    0/55000]\n",
            "loss: 0.358077  [10000/55000]\n",
            "loss: 0.456880  [20000/55000]\n",
            "loss: 0.290342  [30000/55000]\n",
            "loss: 0.384905  [40000/55000]\n",
            "loss: 0.214422  [50000/55000]\n",
            "Validation Error: \n",
            " Accuracy: 91.7%, Validation loss: 1.578633 \n",
            "\n",
            "Epoch 7\n",
            "-------------------------------\n",
            "loss: 0.338949  [    0/55000]\n",
            "loss: 0.166150  [10000/55000]\n",
            "loss: 0.277908  [20000/55000]\n",
            "loss: 0.403324  [30000/55000]\n",
            "loss: 0.285717  [40000/55000]\n",
            "loss: 0.280709  [50000/55000]\n",
            "Validation Error: \n",
            " Accuracy: 91.4%, Validation loss: 1.583550 \n",
            "\n",
            "Epoch 8\n",
            "-------------------------------\n",
            "loss: 0.227524  [    0/55000]\n",
            "loss: 0.342008  [10000/55000]\n",
            "loss: 0.201946  [20000/55000]\n",
            "loss: 0.252888  [30000/55000]\n",
            "loss: 0.196471  [40000/55000]\n",
            "loss: 0.275239  [50000/55000]\n",
            "Validation Error: \n",
            " Accuracy: 91.7%, Validation loss: 1.576297 \n",
            "\n",
            "Epoch 9\n",
            "-------------------------------\n",
            "loss: 0.228123  [    0/55000]\n",
            "loss: 0.185849  [10000/55000]\n",
            "loss: 0.171907  [20000/55000]\n",
            "loss: 0.262838  [30000/55000]\n",
            "loss: 0.144044  [40000/55000]\n",
            "loss: 0.458554  [50000/55000]\n",
            "Validation Error: \n",
            " Accuracy: 92.0%, Validation loss: 1.574777 \n",
            "\n",
            "Validation loss decreased (1.575730 --> 1.574777)\n",
            "Saving model ... \n",
            "\n",
            "\n",
            "Epoch 10\n",
            "-------------------------------\n",
            "loss: 0.300453  [    0/55000]\n",
            "loss: 0.279470  [10000/55000]\n",
            "loss: 0.116888  [20000/55000]\n",
            "loss: 0.415925  [30000/55000]\n",
            "loss: 0.195733  [40000/55000]\n",
            "loss: 0.293337  [50000/55000]\n",
            "Validation Error: \n",
            " Accuracy: 92.0%, Validation loss: 1.578548 \n",
            "\n",
            "Done!\n"
          ]
        }
      ],
      "source": [
        "print(f\"Training Logistic Regression Model using Softmax Cross-Entropy Loss\\n\\n\")\n",
        "# variable to track validation loss\n",
        "min_val_loss = np.Inf\n",
        "# train the model for the set number of epochs\n",
        "for t in range(NUM_EPOCHS):\n",
        "    print(f\"Epoch {t+1}\\n-------------------------------\")\n",
        "    train(train_dataloader, model, loss_fn, optimizer)\n",
        "    # determine validation loss for the current epoch\n",
        "    val_loss = validate(validation_dataloader, model, loss_fn)\n",
        "    # update minimum validation loss and save the best model\n",
        "    if val_loss < min_val_loss:\n",
        "      print('Validation loss decreased ({:.6f} --> {:.6f})\\nSaving model ... \\n\\n'.format(\n",
        "        min_val_loss,\n",
        "        val_loss))\n",
        "      min_val_loss = val_loss\n",
        "      torch.save(model.state_dict(), 'model.pth')\n",
        "      torch.save(optimizer.state_dict(), 'optimizer.pth')\n",
        "print(\"Done!\")"
      ]
    },
    {
      "cell_type": "markdown",
      "metadata": {
        "id": "3rx-p1fUkAyt"
      },
      "source": [
        "Calculate test accuracy for Logistic Regression Model"
      ]
    },
    {
      "cell_type": "code",
      "execution_count": null,
      "metadata": {
        "colab": {
          "base_uri": "https://localhost:8080/"
        },
        "id": "RPRuz17VkCUg",
        "outputId": "64ac3ef1-b0c3-477c-b8e7-e0f58cd74c37"
      },
      "outputs": [
        {
          "name": "stdout",
          "output_type": "stream",
          "text": [
            "Test Accuracy for Softmax Logistic Regression\n",
            "\n",
            "\n",
            "Test Accuracy: 92.0% \n",
            "\n"
          ]
        }
      ],
      "source": [
        "print(f\"Test Accuracy for Softmax Logistic Regression\\n\\n\")\n",
        "\n",
        "# calculate test accuracy and obtain label predictions\n",
        "predictions = test(test_dataloader, model)\n",
        "# predictions is populated in batches, so we are concatenating\n",
        "# the results\n",
        "predictions = torch.stack(predictions)\n",
        "# flatten stacked results into a 1D array\n",
        "predictions = predictions.reshape(1, -1).squeeze()"
      ]
    },
    {
      "cell_type": "markdown",
      "metadata": {
        "id": "rec7WeKmlV4i"
      },
      "source": [
        "Plot of 10 random digits from test set"
      ]
    },
    {
      "cell_type": "code",
      "execution_count": null,
      "metadata": {
        "colab": {
          "base_uri": "https://localhost:8080/",
          "height": 1000
        },
        "id": "LVv9M3uXHz7k",
        "outputId": "12e447f6-db71-4451-9c56-1777c817df09"
      },
      "outputs": [
        {
          "data": {
            "image/png": "[encoded data removed]",
            "text/plain": [
              "<Figure size 432x288 with 1 Axes>"
            ]
          },
          "metadata": {},
          "output_type": "display_data"
        },
        {
          "data": {
            "image/png": "[encoded data removed]",
            "text/plain": [
              "<Figure size 432x288 with 1 Axes>"
            ]
          },
          "metadata": {},
          "output_type": "display_data"
        },
        {
          "data": {
            "image/png": "[encoded data removed]",
            "text/plain": [
              "<Figure size 432x288 with 1 Axes>"
            ]
          },
          "metadata": {},
          "output_type": "display_data"
        },
        {
          "data": {
            "image/png": "[encoded data removed]",
            "text/plain": [
              "<Figure size 432x288 with 1 Axes>"
            ]
          },
          "metadata": {},
          "output_type": "display_data"
        },
        {
          "data": {
            "image/png": "[encoded data removed]",
            "text/plain": [
              "<Figure size 432x288 with 1 Axes>"
            ]
          },
          "metadata": {},
          "output_type": "display_data"
        },
        {
          "data": {
            "image/png": "[encoded data removed]",
            "text/plain": [
              "<Figure size 432x288 with 1 Axes>"
            ]
          },
          "metadata": {},
          "output_type": "display_data"
        },
        {
          "data": {
            "image/png": "[encoded data removed]",
            "text/plain": [
              "<Figure size 432x288 with 1 Axes>"
            ]
          },
          "metadata": {},
          "output_type": "display_data"
        },
        {
          "data": {
            "image/png": "[encoded data removed]",
            "text/plain": [
              "<Figure size 432x288 with 1 Axes>"
            ]
          },
          "metadata": {},
          "output_type": "display_data"
        },
        {
          "data": {
            "image/png": "[encoded data removed]",
            "text/plain": [
              "<Figure size 432x288 with 1 Axes>"
            ]
          },
          "metadata": {},
          "output_type": "display_data"
        },
        {
          "data": {
            "image/png": "[encoded data removed]",
            "text/plain": [
              "<Figure size 432x288 with 1 Axes>"
            ]
          },
          "metadata": {},
          "output_type": "display_data"
        }
      ],
      "source": [
        "# get 10 random indices for test data\n",
        "sample_indices = torch.randint(len(test_data), (10,))\n",
        "# obtain subset of test data using the generated sample_indices\n",
        "sample_test_data = Subset(test_data, sample_indices)\n",
        "# wrap dataloader around sample_test_data\n",
        "sample_test_dataloader = DataLoader(sample_test_data, batch_size=1, shuffle=False)\n",
        "# obtain subset of predictions for test data samples\n",
        "sample_predictions = torch.index_select(predictions, 0, sample_indices)\n",
        "\n",
        "# enumerate samples for visualization\n",
        "samples = enumerate(sample_test_dataloader)\n",
        "\n",
        "# visualize the 10 test data points randomly selected and plot the image with\n",
        "# the predicted and true labels\n",
        "for i in range(10):\n",
        "  batch_idx, (sample_feature, sample_target) = next(samples)\n",
        "  plt.imshow(sample_feature[0][0], cmap='gray', interpolation='none')\n",
        "  plt.title(\"Predicted: {}\".format(sample_predictions[i]) + \"; True: {}\".format(sample_target[0]))\n",
        "  plt.xticks([])\n",
        "  plt.yticks([])\n",
        "  plt.show()"
      ]
    },
    {
      "cell_type": "markdown",
      "metadata": {
        "id": "ls-m5r9FTzUT"
      },
      "source": [
        "Reload best Logistic Regression model"
      ]
    },
    {
      "cell_type": "code",
      "execution_count": null,
      "metadata": {
        "id": "17ebqgfLT11H"
      },
      "outputs": [],
      "source": [
        "# create placeholder for the best model to be loaded\n",
        "best_model = LogisticRegression(input_dim, output_dim)\n",
        "# create placeholder for the best optimizer to be loaded\n",
        "best_optimizer = torch.optim.SGD(model.parameters(), lr=LEARNING_RATE, momentum=MOMENTUM)"
      ]
    },
    {
      "cell_type": "code",
      "execution_count": null,
      "metadata": {
        "id": "AwtM3gXYUIVT"
      },
      "outputs": [],
      "source": [
        "# reload best model\n",
        "model_state_dict = torch.load('model.pth')\n",
        "best_model.load_state_dict(model_state_dict)\n",
        "\n",
        "# reload best optimizer\n",
        "optimizer_state_dict = torch.load('optimizer.pth')\n",
        "best_optimizer.load_state_dict(optimizer_state_dict)"
      ]
    },
    {
      "cell_type": "markdown",
      "metadata": {
        "id": "NVmvvHYrUrlR"
      },
      "source": [
        "Test accuracy using best Logistic Regression model"
      ]
    },
    {
      "cell_type": "code",
      "execution_count": null,
      "metadata": {
        "colab": {
          "base_uri": "https://localhost:8080/"
        },
        "id": "b3cETiHLUvHv",
        "outputId": "429d0cc4-1dad-4719-ee6f-cb15d626d348"
      },
      "outputs": [
        {
          "name": "stdout",
          "output_type": "stream",
          "text": [
            "Test Accuracy for Softmax Logistic Regression using the Best Model\n",
            "\n",
            "\n",
            "Test Accuracy: 92.2% \n",
            "\n"
          ]
        }
      ],
      "source": [
        "print(f\"Test Accuracy for Softmax Logistic Regression using the Best Model\\n\\n\")\n",
        "\n",
        "# calculate test accuracy using the best model and obtain label predictions\n",
        "predictions = test(test_dataloader, best_model)\n",
        "# predictions is populated in batches, so we are concatenating\n",
        "# the results\n",
        "predictions = torch.stack(predictions)\n",
        "# flatten stacked results into a 1D array\n",
        "predictions = predictions.reshape(1, -1).squeeze()"
      ]
    },
    {
      "cell_type": "markdown",
      "metadata": {
        "id": "8zHKdbqokhN5"
      },
      "source": [
        "# Multi-layer Perceptron"
      ]
    },
    {
      "cell_type": "markdown",
      "metadata": {
        "id": "g_0GzKcKwOel"
      },
      "source": [
        "Specify hyperparameters"
      ]
    },
    {
      "cell_type": "code",
      "execution_count": null,
      "metadata": {
        "id": "4SV9a01XwPzU"
      },
      "outputs": [],
      "source": [
        "NUM_EPOCHS = 20 # number of times the network will see the entire training set\n",
        "TRAIN_BATCH_SIZE = 50 # number of training points in each iteration\n",
        "TEST_BATCH_SIZE = 1000 # number of test points in each iteration\n",
        "LEARNING_RATE = 1e-4 # learning rate for weight and bias updates"
      ]
    },
    {
      "cell_type": "markdown",
      "metadata": {
        "id": "4C8UkG4kACYk"
      },
      "source": [
        "Create data loaders for the training, validation, and test sets, which wrap iterables over the sets and support automatic batching, sampling, shuffling and multiprocess data loading."
      ]
    },
    {
      "cell_type": "code",
      "execution_count": null,
      "metadata": {
        "id": "b0KzSLRj_6pG"
      },
      "outputs": [],
      "source": [
        "train_dataloader = DataLoader(training_data, batch_size=TRAIN_BATCH_SIZE, shuffle=True)\n",
        "validation_dataloader = DataLoader(validation_data, batch_size=TRAIN_BATCH_SIZE, shuffle=True)\n",
        "test_dataloader = DataLoader(test_data, batch_size=TEST_BATCH_SIZE, shuffle=False)"
      ]
    },
    {
      "cell_type": "markdown",
      "metadata": {
        "id": "BYBizDsilNQ6"
      },
      "source": [
        "Softmax Multi-Layer Perceptron: A network with 1 hidden layer followed by softmax. \n",
        "*   Digit images (28x28 grayscale images) are reshaped into a 784 element vector\n",
        "*   Hidden layer has 512 hidden units"
      ]
    },
    {
      "cell_type": "code",
      "execution_count": null,
      "metadata": {
        "id": "Jv8L5OA2ld0S"
      },
      "outputs": [],
      "source": [
        "class MLP(nn.Module):\n",
        "  def __init__(self, input_dim, hidden_dim, output_dim):\n",
        "    # initialize base class for all neural network modules\n",
        "    super(MLP, self).__init__()\n",
        "    # flattens input\n",
        "    self.flatten = nn.Flatten()\n",
        "    self.layers = nn.Sequential(\n",
        "        # applies a linear transformation to the input data: y = xA^T+b\n",
        "        # linear layer (input_dim -> hidden_dim)\n",
        "        nn.Linear(input_dim, hidden_dim),\n",
        "        # ReLU non-linear activation function; function: max(0,x)\n",
        "        nn.ReLU(),\n",
        "        # linear layer (hidden_dim -> output_dim)\n",
        "        nn.Linear(hidden_dim, output_dim)\n",
        "    )\n",
        "    # initialize weights and biases for the layers\n",
        "    self.layers.apply(self.init_parameters)\n",
        "\n",
        "  def init_parameters(self, layer):\n",
        "    if isinstance(layer, nn.Linear):\n",
        "      # initialize weights for the layers according to a truncated standard normal\n",
        "      # distribution (mean=0.0, std=0.1); values outside of 2 standard deviations \n",
        "      # are resampled until they fall within 2 standard deviations; truncated normal \n",
        "      # helps avoid hidden units synchronizing and not learning individually\n",
        "      nn.init.trunc_normal_(layer.weight, std=0.1)\n",
        "      # initialize biases for the layers to a constant value of 0.1 to help\n",
        "      # prevent hidden units from remaining inactive due to ReLU\n",
        "      nn.init.constant_(layer.bias, 0.1)\n",
        "  \n",
        "  def forward(self, x):\n",
        "    # flatten input\n",
        "    x = self.flatten(x)\n",
        "    # get outputs from forward propagation through the network\n",
        "    outputs = self.layers(x)\n",
        "    # return outputs\n",
        "    return outputs"
      ]
    },
    {
      "cell_type": "markdown",
      "metadata": {
        "id": "epdkcDJvtLNK"
      },
      "source": [
        "Instantiate MLP class"
      ]
    },
    {
      "cell_type": "code",
      "execution_count": null,
      "metadata": {
        "id": "KF1wqoUEtNBd"
      },
      "outputs": [],
      "source": [
        "input_dim = 28*28 # number of input features\n",
        "hidden_dim = 512 # number of hidden units in hidden layer\n",
        "output_dim = 10 # number of classes\n",
        "\n",
        "model = MLP(input_dim, hidden_dim, output_dim).to(device)"
      ]
    },
    {
      "cell_type": "markdown",
      "metadata": {
        "id": "P0TACygxtaa2"
      },
      "source": [
        "Instantiate loss class\n",
        "\n",
        "We use cross entropy loss on a softmax distribution on the outputs, just as with the regression model"
      ]
    },
    {
      "cell_type": "code",
      "execution_count": null,
      "metadata": {
        "id": "oLGD9SaVtm-5"
      },
      "outputs": [],
      "source": [
        "# computes softmax and cross entropy; PyTorch CrossEntropyLoss() applies\n",
        "# LogSoftmax() and NLLLoss() (negative log likelihood loss), so raw logits\n",
        "# are passed to the loss function\n",
        "loss_fn = nn.CrossEntropyLoss()"
      ]
    },
    {
      "cell_type": "markdown",
      "metadata": {
        "id": "_VYlo90ovhau"
      },
      "source": [
        "Instantiate optimizer class\n",
        "\n",
        "We use an AdamOptimizer here"
      ]
    },
    {
      "cell_type": "code",
      "execution_count": null,
      "metadata": {
        "id": "5DnHRym7wc24"
      },
      "outputs": [],
      "source": [
        "optimizer = torch.optim.Adam(model.parameters(), lr=LEARNING_RATE)"
      ]
    },
    {
      "cell_type": "markdown",
      "metadata": {
        "id": "CtAFgej0xkpa"
      },
      "source": [
        "Train the MLP model\n",
        "\n",
        "We can use the same train, validate, and test methods from earlier"
      ]
    },
    {
      "cell_type": "code",
      "execution_count": null,
      "metadata": {
        "colab": {
          "base_uri": "https://localhost:8080/"
        },
        "id": "3kP3vZqkxqJ1",
        "outputId": "5edec9e5-31d6-42ff-9a87-6e09de867314"
      },
      "outputs": [
        {
          "name": "stdout",
          "output_type": "stream",
          "text": [
            "Training MLP Model using Softmax Cross-Entropy Loss\n",
            "\n",
            "\n",
            "Epoch 1\n",
            "-------------------------------\n",
            "loss: 3.676155  [    0/55000]\n",
            "loss: 1.252553  [ 5000/55000]\n",
            "loss: 0.711534  [10000/55000]\n",
            "loss: 0.638926  [15000/55000]\n",
            "loss: 0.587566  [20000/55000]\n",
            "loss: 0.379909  [25000/55000]\n",
            "loss: 0.353167  [30000/55000]\n",
            "loss: 0.400475  [35000/55000]\n",
            "loss: 0.304144  [40000/55000]\n",
            "loss: 0.349837  [45000/55000]\n",
            "loss: 0.445016  [50000/55000]\n",
            "Validation Error: \n",
            " Accuracy: 92.1%, Validation loss: 1.604343 \n",
            "\n",
            "Validation loss decreased (inf --> 1.604343)\n",
            "Saving model ... \n",
            "\n",
            "\n",
            "Epoch 2\n",
            "-------------------------------\n",
            "loss: 0.243713  [    0/55000]\n",
            "loss: 0.373535  [ 5000/55000]\n",
            "loss: 0.262491  [10000/55000]\n",
            "loss: 0.432673  [15000/55000]\n",
            "loss: 0.059184  [20000/55000]\n",
            "loss: 0.240443  [25000/55000]\n",
            "loss: 0.153883  [30000/55000]\n",
            "loss: 0.193733  [35000/55000]\n",
            "loss: 0.350503  [40000/55000]\n",
            "loss: 0.210556  [45000/55000]\n",
            "loss: 0.143669  [50000/55000]\n",
            "Validation Error: \n",
            " Accuracy: 94.0%, Validation loss: 1.566617 \n",
            "\n",
            "Validation loss decreased (1.604343 --> 1.566617)\n",
            "Saving model ... \n",
            "\n",
            "\n",
            "Epoch 3\n",
            "-------------------------------\n",
            "loss: 0.224966  [    0/55000]\n",
            "loss: 0.092938  [ 5000/55000]\n",
            "loss: 0.114015  [10000/55000]\n",
            "loss: 0.240645  [15000/55000]\n",
            "loss: 0.201489  [20000/55000]\n",
            "loss: 0.071629  [25000/55000]\n",
            "loss: 0.168435  [30000/55000]\n",
            "loss: 0.470771  [35000/55000]\n",
            "loss: 0.216347  [40000/55000]\n",
            "loss: 0.164372  [45000/55000]\n",
            "loss: 0.154305  [50000/55000]\n",
            "Validation Error: \n",
            " Accuracy: 95.0%, Validation loss: 1.552231 \n",
            "\n",
            "Validation loss decreased (1.566617 --> 1.552231)\n",
            "Saving model ... \n",
            "\n",
            "\n",
            "Epoch 4\n",
            "-------------------------------\n",
            "loss: 0.140465  [    0/55000]\n",
            "loss: 0.136685  [ 5000/55000]\n",
            "loss: 0.202882  [10000/55000]\n",
            "loss: 0.098255  [15000/55000]\n",
            "loss: 0.181889  [20000/55000]\n",
            "loss: 0.137718  [25000/55000]\n",
            "loss: 0.135851  [30000/55000]\n",
            "loss: 0.409399  [35000/55000]\n",
            "loss: 0.060653  [40000/55000]\n",
            "loss: 0.164825  [45000/55000]\n",
            "loss: 0.150520  [50000/55000]\n",
            "Validation Error: \n",
            " Accuracy: 95.6%, Validation loss: 1.537448 \n",
            "\n",
            "Validation loss decreased (1.552231 --> 1.537448)\n",
            "Saving model ... \n",
            "\n",
            "\n",
            "Epoch 5\n",
            "-------------------------------\n",
            "loss: 0.032928  [    0/55000]\n",
            "loss: 0.128081  [ 5000/55000]\n",
            "loss: 0.245172  [10000/55000]\n",
            "loss: 0.086550  [15000/55000]\n",
            "loss: 0.347763  [20000/55000]\n",
            "loss: 0.082651  [25000/55000]\n",
            "loss: 0.120342  [30000/55000]\n",
            "loss: 0.166648  [35000/55000]\n",
            "loss: 0.081947  [40000/55000]\n",
            "loss: 0.077767  [45000/55000]\n",
            "loss: 0.112526  [50000/55000]\n",
            "Validation Error: \n",
            " Accuracy: 96.1%, Validation loss: 1.530346 \n",
            "\n",
            "Validation loss decreased (1.537448 --> 1.530346)\n",
            "Saving model ... \n",
            "\n",
            "\n",
            "Epoch 6\n",
            "-------------------------------\n",
            "loss: 0.062393  [    0/55000]\n",
            "loss: 0.042689  [ 5000/55000]\n",
            "loss: 0.254591  [10000/55000]\n",
            "loss: 0.153867  [15000/55000]\n",
            "loss: 0.169411  [20000/55000]\n",
            "loss: 0.158394  [25000/55000]\n",
            "loss: 0.105882  [30000/55000]\n",
            "loss: 0.183179  [35000/55000]\n",
            "loss: 0.100839  [40000/55000]\n",
            "loss: 0.048261  [45000/55000]\n",
            "loss: 0.130596  [50000/55000]\n",
            "Validation Error: \n",
            " Accuracy: 96.4%, Validation loss: 1.524531 \n",
            "\n",
            "Validation loss decreased (1.530346 --> 1.524531)\n",
            "Saving model ... \n",
            "\n",
            "\n",
            "Epoch 7\n",
            "-------------------------------\n",
            "loss: 0.176018  [    0/55000]\n",
            "loss: 0.089428  [ 5000/55000]\n",
            "loss: 0.086459  [10000/55000]\n",
            "loss: 0.124590  [15000/55000]\n",
            "loss: 0.046339  [20000/55000]\n",
            "loss: 0.183145  [25000/55000]\n",
            "loss: 0.133955  [30000/55000]\n",
            "loss: 0.027062  [35000/55000]\n",
            "loss: 0.193673  [40000/55000]\n",
            "loss: 0.047482  [45000/55000]\n",
            "loss: 0.079635  [50000/55000]\n",
            "Validation Error: \n",
            " Accuracy: 96.6%, Validation loss: 1.520146 \n",
            "\n",
            "Validation loss decreased (1.524531 --> 1.520146)\n",
            "Saving model ... \n",
            "\n",
            "\n",
            "Epoch 8\n",
            "-------------------------------\n",
            "loss: 0.110486  [    0/55000]\n",
            "loss: 0.057526  [ 5000/55000]\n",
            "loss: 0.122857  [10000/55000]\n",
            "loss: 0.094017  [15000/55000]\n",
            "loss: 0.096076  [20000/55000]\n",
            "loss: 0.050356  [25000/55000]\n",
            "loss: 0.072446  [30000/55000]\n",
            "loss: 0.050429  [35000/55000]\n",
            "loss: 0.115944  [40000/55000]\n",
            "loss: 0.146703  [45000/55000]\n",
            "loss: 0.044417  [50000/55000]\n",
            "Validation Error: \n",
            " Accuracy: 96.7%, Validation loss: 1.516479 \n",
            "\n",
            "Validation loss decreased (1.520146 --> 1.516479)\n",
            "Saving model ... \n",
            "\n",
            "\n",
            "Epoch 9\n",
            "-------------------------------\n",
            "loss: 0.062412  [    0/55000]\n",
            "loss: 0.052945  [ 5000/55000]\n",
            "loss: 0.108157  [10000/55000]\n",
            "loss: 0.028278  [15000/55000]\n",
            "loss: 0.067583  [20000/55000]\n",
            "loss: 0.043124  [25000/55000]\n",
            "loss: 0.038364  [30000/55000]\n",
            "loss: 0.030028  [35000/55000]\n",
            "loss: 0.035063  [40000/55000]\n",
            "loss: 0.098058  [45000/55000]\n",
            "loss: 0.091374  [50000/55000]\n",
            "Validation Error: \n",
            " Accuracy: 97.0%, Validation loss: 1.512935 \n",
            "\n",
            "Validation loss decreased (1.516479 --> 1.512935)\n",
            "Saving model ... \n",
            "\n",
            "\n",
            "Epoch 10\n",
            "-------------------------------\n",
            "loss: 0.165412  [    0/55000]\n",
            "loss: 0.059108  [ 5000/55000]\n",
            "loss: 0.053503  [10000/55000]\n",
            "loss: 0.041408  [15000/55000]\n",
            "loss: 0.061173  [20000/55000]\n",
            "loss: 0.025971  [25000/55000]\n",
            "loss: 0.063294  [30000/55000]\n",
            "loss: 0.072676  [35000/55000]\n",
            "loss: 0.055017  [40000/55000]\n",
            "loss: 0.143897  [45000/55000]\n",
            "loss: 0.081149  [50000/55000]\n",
            "Validation Error: \n",
            " Accuracy: 96.8%, Validation loss: 1.511682 \n",
            "\n",
            "Validation loss decreased (1.512935 --> 1.511682)\n",
            "Saving model ... \n",
            "\n",
            "\n",
            "Epoch 11\n",
            "-------------------------------\n",
            "loss: 0.045165  [    0/55000]\n",
            "loss: 0.019042  [ 5000/55000]\n",
            "loss: 0.046680  [10000/55000]\n",
            "loss: 0.027991  [15000/55000]\n",
            "loss: 0.030489  [20000/55000]\n",
            "loss: 0.132591  [25000/55000]\n",
            "loss: 0.033751  [30000/55000]\n",
            "loss: 0.069892  [35000/55000]\n",
            "loss: 0.030983  [40000/55000]\n",
            "loss: 0.101596  [45000/55000]\n",
            "loss: 0.090364  [50000/55000]\n",
            "Validation Error: \n",
            " Accuracy: 97.0%, Validation loss: 1.508271 \n",
            "\n",
            "Validation loss decreased (1.511682 --> 1.508271)\n",
            "Saving model ... \n",
            "\n",
            "\n",
            "Epoch 12\n",
            "-------------------------------\n",
            "loss: 0.022425  [    0/55000]\n",
            "loss: 0.038031  [ 5000/55000]\n",
            "loss: 0.059507  [10000/55000]\n",
            "loss: 0.071581  [15000/55000]\n",
            "loss: 0.018311  [20000/55000]\n",
            "loss: 0.019384  [25000/55000]\n",
            "loss: 0.046529  [30000/55000]\n",
            "loss: 0.012783  [35000/55000]\n",
            "loss: 0.056960  [40000/55000]\n",
            "loss: 0.018350  [45000/55000]\n",
            "loss: 0.064531  [50000/55000]\n",
            "Validation Error: \n",
            " Accuracy: 97.3%, Validation loss: 1.505145 \n",
            "\n",
            "Validation loss decreased (1.508271 --> 1.505145)\n",
            "Saving model ... \n",
            "\n",
            "\n",
            "Epoch 13\n",
            "-------------------------------\n",
            "loss: 0.019889  [    0/55000]\n",
            "loss: 0.035089  [ 5000/55000]\n",
            "loss: 0.051095  [10000/55000]\n",
            "loss: 0.032636  [15000/55000]\n",
            "loss: 0.042271  [20000/55000]\n",
            "loss: 0.084121  [25000/55000]\n",
            "loss: 0.037832  [30000/55000]\n",
            "loss: 0.035637  [35000/55000]\n",
            "loss: 0.024650  [40000/55000]\n",
            "loss: 0.011718  [45000/55000]\n",
            "loss: 0.061303  [50000/55000]\n",
            "Validation Error: \n",
            " Accuracy: 97.2%, Validation loss: 1.504748 \n",
            "\n",
            "Validation loss decreased (1.505145 --> 1.504748)\n",
            "Saving model ... \n",
            "\n",
            "\n",
            "Epoch 14\n",
            "-------------------------------\n",
            "loss: 0.083280  [    0/55000]\n",
            "loss: 0.007106  [ 5000/55000]\n",
            "loss: 0.012043  [10000/55000]\n",
            "loss: 0.017188  [15000/55000]\n",
            "loss: 0.043412  [20000/55000]\n",
            "loss: 0.023084  [25000/55000]\n",
            "loss: 0.024793  [30000/55000]\n",
            "loss: 0.028879  [35000/55000]\n",
            "loss: 0.029945  [40000/55000]\n",
            "loss: 0.056882  [45000/55000]\n",
            "loss: 0.026636  [50000/55000]\n",
            "Validation Error: \n",
            " Accuracy: 97.2%, Validation loss: 1.503241 \n",
            "\n",
            "Validation loss decreased (1.504748 --> 1.503241)\n",
            "Saving model ... \n",
            "\n",
            "\n",
            "Epoch 15\n",
            "-------------------------------\n",
            "loss: 0.019089  [    0/55000]\n",
            "loss: 0.025696  [ 5000/55000]\n",
            "loss: 0.017469  [10000/55000]\n",
            "loss: 0.014608  [15000/55000]\n",
            "loss: 0.027149  [20000/55000]\n",
            "loss: 0.016845  [25000/55000]\n",
            "loss: 0.029875  [30000/55000]\n",
            "loss: 0.021371  [35000/55000]\n",
            "loss: 0.035379  [40000/55000]\n",
            "loss: 0.020992  [45000/55000]\n",
            "loss: 0.065914  [50000/55000]\n",
            "Validation Error: \n",
            " Accuracy: 97.3%, Validation loss: 1.501125 \n",
            "\n",
            "Validation loss decreased (1.503241 --> 1.501125)\n",
            "Saving model ... \n",
            "\n",
            "\n",
            "Epoch 16\n",
            "-------------------------------\n",
            "loss: 0.013672  [    0/55000]\n",
            "loss: 0.009933  [ 5000/55000]\n",
            "loss: 0.036871  [10000/55000]\n",
            "loss: 0.020357  [15000/55000]\n",
            "loss: 0.020641  [20000/55000]\n",
            "loss: 0.020197  [25000/55000]\n",
            "loss: 0.119396  [30000/55000]\n",
            "loss: 0.015741  [35000/55000]\n",
            "loss: 0.101878  [40000/55000]\n",
            "loss: 0.047226  [45000/55000]\n",
            "loss: 0.022923  [50000/55000]\n",
            "Validation Error: \n",
            " Accuracy: 97.4%, Validation loss: 1.499935 \n",
            "\n",
            "Validation loss decreased (1.501125 --> 1.499935)\n",
            "Saving model ... \n",
            "\n",
            "\n",
            "Epoch 17\n",
            "-------------------------------\n",
            "loss: 0.016056  [    0/55000]\n",
            "loss: 0.056166  [ 5000/55000]\n",
            "loss: 0.025938  [10000/55000]\n",
            "loss: 0.016817  [15000/55000]\n",
            "loss: 0.013185  [20000/55000]\n",
            "loss: 0.014324  [25000/55000]\n",
            "loss: 0.005331  [30000/55000]\n",
            "loss: 0.090767  [35000/55000]\n",
            "loss: 0.049873  [40000/55000]\n",
            "loss: 0.011471  [45000/55000]\n",
            "loss: 0.029554  [50000/55000]\n",
            "Validation Error: \n",
            " Accuracy: 97.5%, Validation loss: 1.498854 \n",
            "\n",
            "Validation loss decreased (1.499935 --> 1.498854)\n",
            "Saving model ... \n",
            "\n",
            "\n",
            "Epoch 18\n",
            "-------------------------------\n",
            "loss: 0.012914  [    0/55000]\n",
            "loss: 0.010726  [ 5000/55000]\n",
            "loss: 0.030207  [10000/55000]\n",
            "loss: 0.015544  [15000/55000]\n",
            "loss: 0.036988  [20000/55000]\n",
            "loss: 0.081798  [25000/55000]\n",
            "loss: 0.063513  [30000/55000]\n",
            "loss: 0.041049  [35000/55000]\n",
            "loss: 0.046983  [40000/55000]\n",
            "loss: 0.021597  [45000/55000]\n",
            "loss: 0.026247  [50000/55000]\n",
            "Validation Error: \n",
            " Accuracy: 97.4%, Validation loss: 1.498526 \n",
            "\n",
            "Validation loss decreased (1.498854 --> 1.498526)\n",
            "Saving model ... \n",
            "\n",
            "\n",
            "Epoch 19\n",
            "-------------------------------\n",
            "loss: 0.008365  [    0/55000]\n",
            "loss: 0.023947  [ 5000/55000]\n",
            "loss: 0.012835  [10000/55000]\n",
            "loss: 0.015697  [15000/55000]\n",
            "loss: 0.003196  [20000/55000]\n",
            "loss: 0.015230  [25000/55000]\n",
            "loss: 0.014112  [30000/55000]\n",
            "loss: 0.008730  [35000/55000]\n",
            "loss: 0.009951  [40000/55000]\n",
            "loss: 0.037949  [45000/55000]\n",
            "loss: 0.008025  [50000/55000]\n",
            "Validation Error: \n",
            " Accuracy: 97.3%, Validation loss: 1.496900 \n",
            "\n",
            "Validation loss decreased (1.498526 --> 1.496900)\n",
            "Saving model ... \n",
            "\n",
            "\n",
            "Epoch 20\n",
            "-------------------------------\n",
            "loss: 0.015025  [    0/55000]\n",
            "loss: 0.084094  [ 5000/55000]\n",
            "loss: 0.009024  [10000/55000]\n",
            "loss: 0.009460  [15000/55000]\n",
            "loss: 0.035243  [20000/55000]\n",
            "loss: 0.014973  [25000/55000]\n",
            "loss: 0.004679  [30000/55000]\n",
            "loss: 0.017942  [35000/55000]\n",
            "loss: 0.005456  [40000/55000]\n",
            "loss: 0.047906  [45000/55000]\n",
            "loss: 0.029353  [50000/55000]\n",
            "Validation Error: \n",
            " Accuracy: 97.5%, Validation loss: 1.495629 \n",
            "\n",
            "Validation loss decreased (1.496900 --> 1.495629)\n",
            "Saving model ... \n",
            "\n",
            "\n",
            "Done!\n"
          ]
        }
      ],
      "source": [
        "print(f\"Training MLP Model using Softmax Cross-Entropy Loss\\n\\n\")\n",
        "# variable to track validation loss\n",
        "min_val_loss = np.Inf\n",
        "# train the model for the set number of epochs\n",
        "for t in range(NUM_EPOCHS):\n",
        "    print(f\"Epoch {t+1}\\n-------------------------------\")\n",
        "    train(train_dataloader, model, loss_fn, optimizer)\n",
        "    # determine validation loss for the current epoch\n",
        "    val_loss = validate(validation_dataloader, model, loss_fn)\n",
        "    # update minimum validation loss and save the best model\n",
        "    if val_loss < min_val_loss:\n",
        "      print('Validation loss decreased ({:.6f} --> {:.6f})\\nSaving model ... \\n\\n'.format(\n",
        "        min_val_loss,\n",
        "        val_loss))\n",
        "      min_val_loss = val_loss\n",
        "      torch.save(model.state_dict(), 'model.pth')\n",
        "      torch.save(optimizer.state_dict(), 'optimizer.pth')\n",
        "print(\"Done!\")"
      ]
    },
    {
      "cell_type": "markdown",
      "metadata": {
        "id": "bkwAoQoCyJY4"
      },
      "source": [
        "Calculate test accuracy for MLP model"
      ]
    },
    {
      "cell_type": "code",
      "execution_count": null,
      "metadata": {
        "colab": {
          "base_uri": "https://localhost:8080/"
        },
        "id": "S6IS-PiyyKg1",
        "outputId": "77797583-53bc-4983-957e-b56834ee62d2"
      },
      "outputs": [
        {
          "name": "stdout",
          "output_type": "stream",
          "text": [
            "Test Accuracy for MLP\n",
            "\n",
            "\n",
            "Test Accuracy: 97.8% \n",
            "\n"
          ]
        }
      ],
      "source": [
        "print(f\"Test Accuracy for MLP\\n\\n\")\n",
        "\n",
        "# calculate test accuracy and obtain label predictions\n",
        "predictions = test(test_dataloader, model)\n",
        "# predictions is populated in batches, so we are concatenating\n",
        "# the results\n",
        "predictions = torch.stack(predictions)\n",
        "# flatten stacked results into a 1D array\n",
        "predictions = predictions.reshape(1, -1).squeeze()"
      ]
    },
    {
      "cell_type": "markdown",
      "metadata": {
        "id": "hv7LTJXbySIl"
      },
      "source": [
        "Plot of 10 random digits from test set"
      ]
    },
    {
      "cell_type": "code",
      "execution_count": null,
      "metadata": {
        "colab": {
          "base_uri": "https://localhost:8080/",
          "height": 1000
        },
        "id": "Vmb-ubwQyUIy",
        "outputId": "a5f4827f-adc9-4195-d02f-fe646c132d06"
      },
      "outputs": [
        {
          "data": {
            "image/png": "[encoded data removed]",
            "text/plain": [
              "<Figure size 432x288 with 1 Axes>"
            ]
          },
          "metadata": {},
          "output_type": "display_data"
        },
        {
          "data": {
            "image/png": "[encoded data removed]",
            "text/plain": [
              "<Figure size 432x288 with 1 Axes>"
            ]
          },
          "metadata": {},
          "output_type": "display_data"
        },
        {
          "data": {
            "image/png": "[encoded data removed]",
            "text/plain": [
              "<Figure size 432x288 with 1 Axes>"
            ]
          },
          "metadata": {},
          "output_type": "display_data"
        },
        {
          "data": {
            "image/png": "[encoded data removed]",
            "text/plain": [
              "<Figure size 432x288 with 1 Axes>"
            ]
          },
          "metadata": {},
          "output_type": "display_data"
        },
        {
          "data": {
            "image/png": "[encoded data removed]",
            "text/plain": [
              "<Figure size 432x288 with 1 Axes>"
            ]
          },
          "metadata": {},
          "output_type": "display_data"
        },
        {
          "data": {
            "image/png": "[encoded data removed]",
            "text/plain": [
              "<Figure size 432x288 with 1 Axes>"
            ]
          },
          "metadata": {},
          "output_type": "display_data"
        },
        {
          "data": {
            "image/png": "[encoded data removed]",
            "text/plain": [
              "<Figure size 432x288 with 1 Axes>"
            ]
          },
          "metadata": {},
          "output_type": "display_data"
        },
        {
          "data": {
            "image/png": "[encoded data removed]",
            "text/plain": [
              "<Figure size 432x288 with 1 Axes>"
            ]
          },
          "metadata": {},
          "output_type": "display_data"
        },
        {
          "data": {
            "image/png": "[encoded data removed]",
            "text/plain": [
              "<Figure size 432x288 with 1 Axes>"
            ]
          },
          "metadata": {},
          "output_type": "display_data"
        },
        {
          "data": {
            "image/png": "[encoded data removed]",
            "text/plain": [
              "<Figure size 432x288 with 1 Axes>"
            ]
          },
          "metadata": {},
          "output_type": "display_data"
        }
      ],
      "source": [
        "# get 10 random indices from test data\n",
        "sample_indices = torch.randint(len(test_data), (10,))\n",
        "# obtain subset of test data using the generated sample_indices\n",
        "sample_test_data = Subset(test_data, sample_indices)\n",
        "# wrap dataloader around sample_test_data\n",
        "sample_test_dataloader = DataLoader(sample_test_data, batch_size=1, shuffle=False)\n",
        "# obtain subset of predictions for test data samples\n",
        "sample_predictions = torch.index_select(predictions, 0, sample_indices)\n",
        "\n",
        "# enumerate samples for visualization\n",
        "samples = enumerate(sample_test_dataloader)\n",
        "\n",
        "# visualize the 10 test data points randomly selected and plot the image with\n",
        "# the predicted and true labels\n",
        "for i in range(10):\n",
        "  batch_idx, (sample_feature, sample_target) = next(samples)\n",
        "  plt.imshow(sample_feature[0][0], cmap='gray', interpolation='none')\n",
        "  plt.title(\"Predicted: {}\".format(sample_predictions[i]) + \"; True: {}\".format(sample_target[0]))\n",
        "  plt.xticks([])\n",
        "  plt.yticks([])\n",
        "  plt.show()"
      ]
    },
    {
      "cell_type": "markdown",
      "metadata": {
        "id": "TY8h06hmyiCS"
      },
      "source": [
        "Reload best MLP model"
      ]
    },
    {
      "cell_type": "code",
      "execution_count": null,
      "metadata": {
        "id": "Ij2y79Kayi5M"
      },
      "outputs": [],
      "source": [
        "# create placeholder for the best model to be loaded\n",
        "best_model = MLP(input_dim, hidden_dim, output_dim)\n",
        "# create placeholder for the best optimizer to be loaded\n",
        "best_optimizer = torch.optim.Adam(model.parameters(), lr=LEARNING_RATE)"
      ]
    },
    {
      "cell_type": "code",
      "execution_count": null,
      "metadata": {
        "id": "Yvko1GCQyokD"
      },
      "outputs": [],
      "source": [
        "# reload best model\n",
        "model_state_dict = torch.load('model.pth')\n",
        "best_model.load_state_dict(model_state_dict)\n",
        "\n",
        "# reload best optimizer\n",
        "optimizer_state_dict = torch.load('optimizer.pth')\n",
        "best_optimizer.load_state_dict(optimizer_state_dict)"
      ]
    },
    {
      "cell_type": "markdown",
      "metadata": {
        "id": "H1WOJJGoyrqF"
      },
      "source": [
        "Test accuracy using the best MLP model"
      ]
    },
    {
      "cell_type": "code",
      "execution_count": null,
      "metadata": {
        "colab": {
          "base_uri": "https://localhost:8080/"
        },
        "id": "lACkD-rtytB2",
        "outputId": "22587331-30b7-4158-93de-632099f6793b"
      },
      "outputs": [
        {
          "name": "stdout",
          "output_type": "stream",
          "text": [
            "Test Accuracy for MLP using the Best Model\n",
            "\n",
            "\n",
            "Test Accuracy: 97.8% \n",
            "\n"
          ]
        }
      ],
      "source": [
        "print(f\"Test Accuracy for MLP using the Best Model\\n\\n\")\n",
        "\n",
        "# calculate test accuracy using the best model and obtain label predictions\n",
        "predictions = test(test_dataloader, best_model)\n",
        "# predictions is populated in batches, so we are concatenating\n",
        "# the results\n",
        "predictions = torch.stack(predictions)\n",
        "# flatten stacked results into a 1D array\n",
        "predictions = predictions.reshape(1, -1).squeeze()"
      ]
    },
    {
      "cell_type": "markdown",
      "metadata": {
        "id": "8_10pRD73VhL"
      },
      "source": [
        "# Convolutional Neural Network: LeNet"
      ]
    },
    {
      "cell_type": "markdown",
      "metadata": {
        "id": "Wt1HapOSqBKA"
      },
      "source": [
        "Specify hyperparameters"
      ]
    },
    {
      "cell_type": "code",
      "execution_count": null,
      "metadata": {
        "id": "XvUr-AljqCi6"
      },
      "outputs": [],
      "source": [
        "NUM_EPOCHS = 20 # number of times the network will see the entire training set\n",
        "TRAIN_BATCH_SIZE = 50 # number of training points in each iteration\n",
        "TEST_BATCH_SIZE = 1000 # number of test points in each iteration\n",
        "LEARNING_RATE = 1e-4 # learning rate for weight and bias updates"
      ]
    },
    {
      "cell_type": "markdown",
      "metadata": {
        "id": "deoqjXIYAF9x"
      },
      "source": [
        "Create data loaders for the training, validation, and test sets, which wrap iterables over the sets and support automatic batching, sampling, shuffling and multiprocess data loading."
      ]
    },
    {
      "cell_type": "code",
      "execution_count": null,
      "metadata": {
        "id": "j7oD_zOcAIQH"
      },
      "outputs": [],
      "source": [
        "train_dataloader = DataLoader(training_data, batch_size=TRAIN_BATCH_SIZE, shuffle=True)\n",
        "validation_dataloader = DataLoader(validation_data, batch_size=TRAIN_BATCH_SIZE, shuffle=True)\n",
        "test_dataloader = DataLoader(test_data, batch_size=TEST_BATCH_SIZE, shuffle=False)"
      ]
    },
    {
      "cell_type": "markdown",
      "metadata": {
        "id": "gOMk95cDqodY"
      },
      "source": [
        "LeNet Convolutional Neural Network\n",
        "\n",
        "\n",
        " The network consists of 2 convolutional layers with max pooling and using ReLU activation, a fully connected layer mapping the images to a 1024 dimension feature space, and a linear output layer mapping features to classes. The network uses a softmax cross entropy loss function."
      ]
    },
    {
      "cell_type": "code",
      "execution_count": null,
      "metadata": {
        "id": "q_LEtnDnrii2"
      },
      "outputs": [],
      "source": [
        "class Net(nn.Module):\n",
        "  def __init__(self):\n",
        "    super(Net, self).__init__()\n",
        "    \"\"\"\n",
        "    Define the first convolutional layer\n",
        "    - It uses a 5x5 kernel and a stride of 1 pixel, and it will pad the edges \n",
        "    with zeros so that the resulting image has the same size as the original image\n",
        "    - The input channels is 1 because the images are black and white and\n",
        "    the output channels is chosen to be 32 so that the network learns the\n",
        "    weights for a stack of 32 separate kernels along with 32 bias variables\n",
        "    - The resulting images are next activated using ReLU\n",
        "    - Then, they undergo a 2x2 max pooling, which calculates the maximum value\n",
        "    for patches of a feature map, and halves both dimensions of the image\n",
        "    - The output of this layer will result in 32 feature images\n",
        "    \"\"\"\n",
        "    self.conv1 = nn.Sequential(\n",
        "        nn.Conv2d(\n",
        "            in_channels=1, \n",
        "            out_channels=32, \n",
        "            kernel_size=5, \n",
        "            stride=1, \n",
        "            padding='same'\n",
        "        ),\n",
        "        nn.ReLU(),\n",
        "        nn.MaxPool2d(\n",
        "            kernel_size=2, \n",
        "            stride=2\n",
        "        )\n",
        "    )\n",
        "    # initialize weights and biases for the first convolutional layer\n",
        "    self.conv1.apply(self.init_parameters)\n",
        "    \"\"\"\n",
        "    Define the second convolutional layer\n",
        "    - It uses a 5x5 kernel and a stride of 1 pixel, and it will pad the edges \n",
        "    with zeros so that the resulting image has the same size as the input image\n",
        "    - The input channels is 1 because the images are black and white and\n",
        "    the output channels is chosen to be 64 so the network learns the weights\n",
        "    from the 32 feature images that resulted from the first convolutional layer;\n",
        "    the input feature images will have 1/4 the number of pixels as the original\n",
        "    input images due to the 2x2 pooling in the first conv. layer\n",
        "    - The resulting images are next activated using ReLU\n",
        "    - Then, they undergo a 2x2 max pooling, which calculates the maximum value\n",
        "    for patches of a feature map, and halves both dimensions of the image\n",
        "    - The output of this layer will result in 64 7x7 feature images\n",
        "    \"\"\"\n",
        "    self.conv2 = nn.Sequential(\n",
        "        nn.Conv2d(\n",
        "            in_channels=32, \n",
        "            out_channels=64, \n",
        "            kernel_size=5, \n",
        "            stride=1, \n",
        "            padding='same'\n",
        "        ),\n",
        "        nn.ReLU(),\n",
        "        nn.MaxPool2d(\n",
        "            kernel_size=2,\n",
        "            stride=2\n",
        "        )\n",
        "    )\n",
        "    # initialize weights and biases for the second convolutional layer\n",
        "    self.conv2.apply(self.init_parameters)\n",
        "    \"\"\"\n",
        "    Fully connected hidden layer that maps the feature images from the second\n",
        "    convolutional layer to a 1024 dimensional feature space\n",
        "    - The results are activated using ReLU\n",
        "    - Dropout is added after this layer during forward propagation\n",
        "    \"\"\"\n",
        "    self.fc1 = nn.Sequential(\n",
        "        nn.Linear(64 * 7 * 7, 1024),\n",
        "        nn.ReLU()\n",
        "    )\n",
        "    # initialize weights and biases for the second convolutional layer\n",
        "    self.fc1.apply(self.init_parameters)\n",
        "    \"\"\"\n",
        "    Linear output layer that maps the results from the hidden layer to outputs\n",
        "    \"\"\"\n",
        "    self.fc2 = nn.Sequential(\n",
        "        nn.Linear(1024, 10)\n",
        "    )\n",
        "    # initialize weights and biases for the output layer\n",
        "    self.fc2.apply(self.init_parameters)\n",
        "  \n",
        "  def init_parameters(self, layer):\n",
        "    if isinstance(layer, nn.Linear) or isinstance(layer, nn.Conv2d):\n",
        "      # initialize weights for the layers according to a truncated standard normal\n",
        "      # distribution (mean=0.0, std=0.1); values outside of 2 standard deviations \n",
        "      # are resampled until they fall within 2 standard deviations; truncated normal \n",
        "      # helps avoid hidden units synchronizing and not learning individually\n",
        "      nn.init.trunc_normal_(layer.weight, std=0.1)\n",
        "      # initialize biases for the layers to a constant value of 0.1 to help\n",
        "      # prevent hidden units from remaining inactive due to ReLU\n",
        "      nn.init.constant_(layer.bias, 0.1)\n",
        "  \n",
        "  def forward(self, x):\n",
        "    # pass inputs through the first convolutional layer\n",
        "    x = self.conv1(x)\n",
        "    # propagate 32 feature images from the first conv. layer through the second \n",
        "    # convolutional layer\n",
        "    x = self.conv2(x)\n",
        "\n",
        "    # flatten the output of self.conv2 to (TRAIN_BATCH_SIZE, 64 * 7 * 7)\n",
        "    x = x.view(x.size(0), -1)\n",
        "\n",
        "    # propagate outputs of the second conv. layer through the hidden layer\n",
        "    x = self.fc1(x)\n",
        "    # we add dropout here, which randomly omits certain units in the hidden \n",
        "    # layer, to prevent overfitting; default probability=0.5\n",
        "    x = F.dropout(x)\n",
        "    # obtain outputs by propagate through the output layer\n",
        "    outputs = self.fc2(x)\n",
        "    return outputs"
      ]
    },
    {
      "cell_type": "markdown",
      "metadata": {
        "id": "lbHhg2fR5Sn0"
      },
      "source": [
        "Instantiate CNN class"
      ]
    },
    {
      "cell_type": "code",
      "execution_count": null,
      "metadata": {
        "id": "0axIHbx55VVe"
      },
      "outputs": [],
      "source": [
        "model = Net().to(device)"
      ]
    },
    {
      "cell_type": "markdown",
      "metadata": {
        "id": "XmrENJHC5rzb"
      },
      "source": [
        "Instantiate loss class"
      ]
    },
    {
      "cell_type": "code",
      "execution_count": null,
      "metadata": {
        "id": "PGSlxfbB5tF_"
      },
      "outputs": [],
      "source": [
        "# computes softmax and cross entropy; PyTorch CrossEntropyLoss() applies\n",
        "# LogSoftmax() and NLLLoss() (negative log likelihood loss), so raw logits\n",
        "# are passed to the loss function\n",
        "loss_fn = nn.CrossEntropyLoss()"
      ]
    },
    {
      "cell_type": "markdown",
      "metadata": {
        "id": "owOibqtb6AU2"
      },
      "source": [
        "Instantiate optimizer class\n",
        "\n",
        "We use an AdamOptimizer here"
      ]
    },
    {
      "cell_type": "code",
      "execution_count": null,
      "metadata": {
        "id": "I8flxQB36Dm-"
      },
      "outputs": [],
      "source": [
        "optimizer = torch.optim.Adam(model.parameters(), lr=LEARNING_RATE)"
      ]
    },
    {
      "cell_type": "markdown",
      "metadata": {
        "id": "7njLQu5n6pYF"
      },
      "source": [
        "Train the CNN model\n",
        "\n",
        "We can use the same train, validate, and test methods from earlier"
      ]
    },
    {
      "cell_type": "code",
      "execution_count": null,
      "metadata": {
        "colab": {
          "base_uri": "https://localhost:8080/"
        },
        "id": "TmNNpeQPvb9F",
        "outputId": "b02d73a0-938a-45ed-d6a2-45ff16175090"
      },
      "outputs": [
        {
          "name": "stdout",
          "output_type": "stream",
          "text": [
            "Training CNN with Softmax Cross-Entropy Loss\n",
            "\n",
            "\n",
            "Epoch 1\n",
            "-------------------------------\n",
            "loss: 16.089109  [    0/55000]\n",
            "loss: 1.839965  [ 5000/55000]\n",
            "loss: 0.470557  [10000/55000]\n",
            "loss: 1.050166  [15000/55000]\n",
            "loss: 0.560419  [20000/55000]\n",
            "loss: 0.486345  [25000/55000]\n",
            "loss: 0.157715  [30000/55000]\n",
            "loss: 0.304099  [35000/55000]\n",
            "loss: 0.221859  [40000/55000]\n",
            "loss: 0.252281  [45000/55000]\n",
            "loss: 0.169841  [50000/55000]\n",
            "Validation Error: \n",
            " Accuracy: 93.2%, Validation loss: 1.561228 \n",
            "\n",
            "Validation loss decreased (inf --> 1.561228)\n",
            "Saving model ... \n",
            "\n",
            "\n",
            "Epoch 2\n",
            "-------------------------------\n",
            "loss: 0.159598  [    0/55000]\n",
            "loss: 0.237677  [ 5000/55000]\n",
            "loss: 0.071849  [10000/55000]\n",
            "loss: 0.276652  [15000/55000]\n",
            "loss: 0.244723  [20000/55000]\n",
            "loss: 0.244877  [25000/55000]\n",
            "loss: 0.076516  [30000/55000]\n",
            "loss: 0.162202  [35000/55000]\n",
            "loss: 0.265329  [40000/55000]\n",
            "loss: 0.136847  [45000/55000]\n",
            "loss: 0.129802  [50000/55000]\n",
            "Validation Error: \n",
            " Accuracy: 95.7%, Validation loss: 1.524095 \n",
            "\n",
            "Validation loss decreased (1.561228 --> 1.524095)\n",
            "Saving model ... \n",
            "\n",
            "\n",
            "Epoch 3\n",
            "-------------------------------\n",
            "loss: 0.170564  [    0/55000]\n",
            "loss: 0.271181  [ 5000/55000]\n",
            "loss: 0.021299  [10000/55000]\n",
            "loss: 0.049257  [15000/55000]\n",
            "loss: 0.084820  [20000/55000]\n",
            "loss: 0.103267  [25000/55000]\n",
            "loss: 0.233227  [30000/55000]\n",
            "loss: 0.234416  [35000/55000]\n",
            "loss: 0.372208  [40000/55000]\n",
            "loss: 0.150838  [45000/55000]\n",
            "loss: 0.146986  [50000/55000]\n",
            "Validation Error: \n",
            " Accuracy: 96.5%, Validation loss: 1.507578 \n",
            "\n",
            "Validation loss decreased (1.524095 --> 1.507578)\n",
            "Saving model ... \n",
            "\n",
            "\n",
            "Epoch 4\n",
            "-------------------------------\n",
            "loss: 0.026010  [    0/55000]\n",
            "loss: 0.098778  [ 5000/55000]\n",
            "loss: 0.250830  [10000/55000]\n",
            "loss: 0.075732  [15000/55000]\n",
            "loss: 0.121291  [20000/55000]\n",
            "loss: 0.084067  [25000/55000]\n",
            "loss: 0.138568  [30000/55000]\n",
            "loss: 0.025707  [35000/55000]\n",
            "loss: 0.044201  [40000/55000]\n",
            "loss: 0.122475  [45000/55000]\n",
            "loss: 0.029429  [50000/55000]\n",
            "Validation Error: \n",
            " Accuracy: 96.9%, Validation loss: 1.501351 \n",
            "\n",
            "Validation loss decreased (1.507578 --> 1.501351)\n",
            "Saving model ... \n",
            "\n",
            "\n",
            "Epoch 5\n",
            "-------------------------------\n",
            "loss: 0.166880  [    0/55000]\n",
            "loss: 0.013154  [ 5000/55000]\n",
            "loss: 0.164358  [10000/55000]\n",
            "loss: 0.219326  [15000/55000]\n",
            "loss: 0.153180  [20000/55000]\n",
            "loss: 0.044416  [25000/55000]\n",
            "loss: 0.060789  [30000/55000]\n",
            "loss: 0.098397  [35000/55000]\n",
            "loss: 0.052646  [40000/55000]\n",
            "loss: 0.046700  [45000/55000]\n",
            "loss: 0.075907  [50000/55000]\n",
            "Validation Error: \n",
            " Accuracy: 97.3%, Validation loss: 1.495687 \n",
            "\n",
            "Validation loss decreased (1.501351 --> 1.495687)\n",
            "Saving model ... \n",
            "\n",
            "\n",
            "Epoch 6\n",
            "-------------------------------\n",
            "loss: 0.079749  [    0/55000]\n",
            "loss: 0.107025  [ 5000/55000]\n",
            "loss: 0.054298  [10000/55000]\n",
            "loss: 0.142761  [15000/55000]\n",
            "loss: 0.175463  [20000/55000]\n",
            "loss: 0.037651  [25000/55000]\n",
            "loss: 0.077414  [30000/55000]\n",
            "loss: 0.006557  [35000/55000]\n",
            "loss: 0.040192  [40000/55000]\n",
            "loss: 0.071846  [45000/55000]\n",
            "loss: 0.057183  [50000/55000]\n",
            "Validation Error: \n",
            " Accuracy: 97.8%, Validation loss: 1.489274 \n",
            "\n",
            "Validation loss decreased (1.495687 --> 1.489274)\n",
            "Saving model ... \n",
            "\n",
            "\n",
            "Epoch 7\n",
            "-------------------------------\n",
            "loss: 0.001407  [    0/55000]\n",
            "loss: 0.002571  [ 5000/55000]\n",
            "loss: 0.014325  [10000/55000]\n",
            "loss: 0.002737  [15000/55000]\n",
            "loss: 0.003500  [20000/55000]\n",
            "loss: 0.030916  [25000/55000]\n",
            "loss: 0.035521  [30000/55000]\n",
            "loss: 0.011103  [35000/55000]\n",
            "loss: 0.046057  [40000/55000]\n",
            "loss: 0.059034  [45000/55000]\n",
            "loss: 0.029813  [50000/55000]\n",
            "Validation Error: \n",
            " Accuracy: 98.0%, Validation loss: 1.486682 \n",
            "\n",
            "Validation loss decreased (1.489274 --> 1.486682)\n",
            "Saving model ... \n",
            "\n",
            "\n",
            "Epoch 8\n",
            "-------------------------------\n",
            "loss: 0.012909  [    0/55000]\n",
            "loss: 0.039872  [ 5000/55000]\n",
            "loss: 0.068086  [10000/55000]\n",
            "loss: 0.018854  [15000/55000]\n",
            "loss: 0.039910  [20000/55000]\n",
            "loss: 0.209711  [25000/55000]\n",
            "loss: 0.005768  [30000/55000]\n",
            "loss: 0.005426  [35000/55000]\n",
            "loss: 0.004192  [40000/55000]\n",
            "loss: 0.006842  [45000/55000]\n",
            "loss: 0.007675  [50000/55000]\n",
            "Validation Error: \n",
            " Accuracy: 98.4%, Validation loss: 1.483646 \n",
            "\n",
            "Validation loss decreased (1.486682 --> 1.483646)\n",
            "Saving model ... \n",
            "\n",
            "\n",
            "Epoch 9\n",
            "-------------------------------\n",
            "loss: 0.004629  [    0/55000]\n",
            "loss: 0.059867  [ 5000/55000]\n",
            "loss: 0.032234  [10000/55000]\n",
            "loss: 0.020750  [15000/55000]\n",
            "loss: 0.072652  [20000/55000]\n",
            "loss: 0.110278  [25000/55000]\n",
            "loss: 0.016338  [30000/55000]\n",
            "loss: 0.008364  [35000/55000]\n",
            "loss: 0.011609  [40000/55000]\n",
            "loss: 0.038181  [45000/55000]\n",
            "loss: 0.007237  [50000/55000]\n",
            "Validation Error: \n",
            " Accuracy: 98.4%, Validation loss: 1.483393 \n",
            "\n",
            "Validation loss decreased (1.483646 --> 1.483393)\n",
            "Saving model ... \n",
            "\n",
            "\n",
            "Epoch 10\n",
            "-------------------------------\n",
            "loss: 0.070339  [    0/55000]\n",
            "loss: 0.034855  [ 5000/55000]\n",
            "loss: 0.023002  [10000/55000]\n",
            "loss: 0.051710  [15000/55000]\n",
            "loss: 0.017886  [20000/55000]\n",
            "loss: 0.010498  [25000/55000]\n",
            "loss: 0.000605  [30000/55000]\n",
            "loss: 0.029704  [35000/55000]\n",
            "loss: 0.024141  [40000/55000]\n",
            "loss: 0.010026  [45000/55000]\n",
            "loss: 0.000945  [50000/55000]\n",
            "Validation Error: \n",
            " Accuracy: 98.1%, Validation loss: 1.484477 \n",
            "\n",
            "Epoch 11\n",
            "-------------------------------\n",
            "loss: 0.001494  [    0/55000]\n",
            "loss: 0.007944  [ 5000/55000]\n",
            "loss: 0.035510  [10000/55000]\n",
            "loss: 0.054783  [15000/55000]\n",
            "loss: 0.017041  [20000/55000]\n",
            "loss: 0.061485  [25000/55000]\n",
            "loss: 0.007747  [30000/55000]\n",
            "loss: 0.004310  [35000/55000]\n",
            "loss: 0.002802  [40000/55000]\n",
            "loss: 0.069821  [45000/55000]\n",
            "loss: 0.001732  [50000/55000]\n",
            "Validation Error: \n",
            " Accuracy: 98.4%, Validation loss: 1.481895 \n",
            "\n",
            "Validation loss decreased (1.483393 --> 1.481895)\n",
            "Saving model ... \n",
            "\n",
            "\n",
            "Epoch 12\n",
            "-------------------------------\n",
            "loss: 0.002212  [    0/55000]\n",
            "loss: 0.113571  [ 5000/55000]\n",
            "loss: 0.003860  [10000/55000]\n",
            "loss: 0.017964  [15000/55000]\n",
            "loss: 0.003569  [20000/55000]\n",
            "loss: 0.003602  [25000/55000]\n",
            "loss: 0.007017  [30000/55000]\n",
            "loss: 0.002295  [35000/55000]\n",
            "loss: 0.021251  [40000/55000]\n",
            "loss: 0.002908  [45000/55000]\n",
            "loss: 0.145795  [50000/55000]\n",
            "Validation Error: \n",
            " Accuracy: 98.0%, Validation loss: 1.485346 \n",
            "\n",
            "Epoch 13\n",
            "-------------------------------\n",
            "loss: 0.001373  [    0/55000]\n",
            "loss: 0.006731  [ 5000/55000]\n",
            "loss: 0.030039  [10000/55000]\n",
            "loss: 0.003902  [15000/55000]\n",
            "loss: 0.018882  [20000/55000]\n",
            "loss: 0.009823  [25000/55000]\n",
            "loss: 0.002740  [30000/55000]\n",
            "loss: 0.029884  [35000/55000]\n",
            "loss: 0.001562  [40000/55000]\n",
            "loss: 0.000927  [45000/55000]\n",
            "loss: 0.004193  [50000/55000]\n",
            "Validation Error: \n",
            " Accuracy: 98.5%, Validation loss: 1.478979 \n",
            "\n",
            "Validation loss decreased (1.481895 --> 1.478979)\n",
            "Saving model ... \n",
            "\n",
            "\n",
            "Epoch 14\n",
            "-------------------------------\n",
            "loss: 0.001950  [    0/55000]\n",
            "loss: 0.131747  [ 5000/55000]\n",
            "loss: 0.082710  [10000/55000]\n",
            "loss: 0.005593  [15000/55000]\n",
            "loss: 0.032595  [20000/55000]\n",
            "loss: 0.000801  [25000/55000]\n",
            "loss: 0.016086  [30000/55000]\n",
            "loss: 0.005420  [35000/55000]\n",
            "loss: 0.014155  [40000/55000]\n",
            "loss: 0.006530  [45000/55000]\n",
            "loss: 0.000180  [50000/55000]\n",
            "Validation Error: \n",
            " Accuracy: 98.4%, Validation loss: 1.479278 \n",
            "\n",
            "Epoch 15\n",
            "-------------------------------\n",
            "loss: 0.019792  [    0/55000]\n",
            "loss: 0.003042  [ 5000/55000]\n",
            "loss: 0.008184  [10000/55000]\n",
            "loss: 0.000994  [15000/55000]\n",
            "loss: 0.000867  [20000/55000]\n",
            "loss: 0.002903  [25000/55000]\n",
            "loss: 0.001374  [30000/55000]\n",
            "loss: 0.008346  [35000/55000]\n",
            "loss: 0.000165  [40000/55000]\n",
            "loss: 0.003528  [45000/55000]\n",
            "loss: 0.005580  [50000/55000]\n",
            "Validation Error: \n",
            " Accuracy: 98.7%, Validation loss: 1.477305 \n",
            "\n",
            "Validation loss decreased (1.478979 --> 1.477305)\n",
            "Saving model ... \n",
            "\n",
            "\n",
            "Epoch 16\n",
            "-------------------------------\n",
            "loss: 0.006774  [    0/55000]\n",
            "loss: 0.021768  [ 5000/55000]\n",
            "loss: 0.000563  [10000/55000]\n",
            "loss: 0.000956  [15000/55000]\n",
            "loss: 0.001359  [20000/55000]\n",
            "loss: 0.000458  [25000/55000]\n",
            "loss: 0.000166  [30000/55000]\n",
            "loss: 0.022085  [35000/55000]\n",
            "loss: 0.007112  [40000/55000]\n",
            "loss: 0.040893  [45000/55000]\n",
            "loss: 0.000779  [50000/55000]\n",
            "Validation Error: \n",
            " Accuracy: 98.5%, Validation loss: 1.478307 \n",
            "\n",
            "Epoch 17\n",
            "-------------------------------\n",
            "loss: 0.001813  [    0/55000]\n",
            "loss: 0.004980  [ 5000/55000]\n",
            "loss: 0.000441  [10000/55000]\n",
            "loss: 0.007323  [15000/55000]\n",
            "loss: 0.005448  [20000/55000]\n",
            "loss: 0.000480  [25000/55000]\n",
            "loss: 0.026459  [30000/55000]\n",
            "loss: 0.004702  [35000/55000]\n",
            "loss: 0.000226  [40000/55000]\n",
            "loss: 0.024713  [45000/55000]\n",
            "loss: 0.002211  [50000/55000]\n",
            "Validation Error: \n",
            " Accuracy: 98.4%, Validation loss: 1.479142 \n",
            "\n",
            "Epoch 18\n",
            "-------------------------------\n",
            "loss: 0.002348  [    0/55000]\n",
            "loss: 0.002794  [ 5000/55000]\n",
            "loss: 0.069249  [10000/55000]\n",
            "loss: 0.015701  [15000/55000]\n",
            "loss: 0.009260  [20000/55000]\n",
            "loss: 0.001653  [25000/55000]\n",
            "loss: 0.002581  [30000/55000]\n",
            "loss: 0.000618  [35000/55000]\n",
            "loss: 0.000365  [40000/55000]\n",
            "loss: 0.000532  [45000/55000]\n",
            "loss: 0.000741  [50000/55000]\n",
            "Validation Error: \n",
            " Accuracy: 98.6%, Validation loss: 1.476107 \n",
            "\n",
            "Validation loss decreased (1.477305 --> 1.476107)\n",
            "Saving model ... \n",
            "\n",
            "\n",
            "Epoch 19\n",
            "-------------------------------\n",
            "loss: 0.001325  [    0/55000]\n",
            "loss: 0.000615  [ 5000/55000]\n",
            "loss: 0.001649  [10000/55000]\n",
            "loss: 0.003217  [15000/55000]\n",
            "loss: 0.001762  [20000/55000]\n",
            "loss: 0.000398  [25000/55000]\n",
            "loss: 0.000685  [30000/55000]\n",
            "loss: 0.001541  [35000/55000]\n",
            "loss: 0.001768  [40000/55000]\n",
            "loss: 0.000280  [45000/55000]\n",
            "loss: 0.000415  [50000/55000]\n",
            "Validation Error: \n",
            " Accuracy: 99.0%, Validation loss: 1.474170 \n",
            "\n",
            "Validation loss decreased (1.476107 --> 1.474170)\n",
            "Saving model ... \n",
            "\n",
            "\n",
            "Epoch 20\n",
            "-------------------------------\n",
            "loss: 0.001070  [    0/55000]\n",
            "loss: 0.006310  [ 5000/55000]\n",
            "loss: 0.000138  [10000/55000]\n",
            "loss: 0.000878  [15000/55000]\n",
            "loss: 0.001700  [20000/55000]\n",
            "loss: 0.000285  [25000/55000]\n",
            "loss: 0.000920  [30000/55000]\n",
            "loss: 0.000479  [35000/55000]\n",
            "loss: 0.000127  [40000/55000]\n",
            "loss: 0.002324  [45000/55000]\n",
            "loss: 0.000120  [50000/55000]\n",
            "Validation Error: \n",
            " Accuracy: 98.9%, Validation loss: 1.475411 \n",
            "\n",
            "Done!\n"
          ]
        }
      ],
      "source": [
        "print(f\"Training CNN with Softmax Cross-Entropy Loss\\n\\n\")\n",
        "# variable to track validation loss\n",
        "min_val_loss = np.Inf\n",
        "# train the model for the set number of epochs\n",
        "for t in range(NUM_EPOCHS):\n",
        "    print(f\"Epoch {t+1}\\n-------------------------------\")\n",
        "    train(train_dataloader, model, loss_fn, optimizer, CNN=True)\n",
        "    # determine validation loss for the current epoch\n",
        "    val_loss = validate(validation_dataloader, model, loss_fn, CNN=True)\n",
        "    # update minimum validation loss and save the best model\n",
        "    if val_loss < min_val_loss:\n",
        "      print('Validation loss decreased ({:.6f} --> {:.6f})\\nSaving model ... \\n\\n'.format(\n",
        "        min_val_loss,\n",
        "        val_loss))\n",
        "      min_val_loss = val_loss\n",
        "      torch.save(model.state_dict(), 'model.pth')\n",
        "      torch.save(optimizer.state_dict(), 'optimizer.pth')\n",
        "print(\"Done!\")"
      ]
    },
    {
      "cell_type": "markdown",
      "metadata": {
        "id": "YfJVu6Ec80rP"
      },
      "source": [
        "Calculate test accuracy for CNN"
      ]
    },
    {
      "cell_type": "code",
      "execution_count": null,
      "metadata": {
        "colab": {
          "base_uri": "https://localhost:8080/"
        },
        "id": "te0WoGRz813Q",
        "outputId": "57f4183e-8a1b-4599-898a-26948c9e91d3"
      },
      "outputs": [
        {
          "name": "stdout",
          "output_type": "stream",
          "text": [
            "Test Accuracy for CNN\n",
            "\n",
            "\n",
            "Test Accuracy: 98.9% \n",
            "\n"
          ]
        }
      ],
      "source": [
        "print(f\"Test Accuracy for CNN\\n\\n\")\n",
        "\n",
        "# calculate test accuracy and obtain label predictions\n",
        "predictions = test(test_dataloader, model, CNN=True)\n",
        "# predictions is populated in batches, so we are concatenating\n",
        "# the results\n",
        "predictions = torch.stack(predictions)\n",
        "# flatten stacked results into a 1D array\n",
        "predictions = predictions.reshape(1, -1).squeeze()"
      ]
    },
    {
      "cell_type": "markdown",
      "metadata": {
        "id": "baSX4tmD-iA7"
      },
      "source": [
        "Plot of 10 random digits from test set"
      ]
    },
    {
      "cell_type": "code",
      "execution_count": null,
      "metadata": {
        "colab": {
          "base_uri": "https://localhost:8080/",
          "height": 1000
        },
        "id": "EAdkugN--mNY",
        "outputId": "93d79eb3-fcca-4abf-b9b9-99c3563fcf4b"
      },
      "outputs": [
        {
          "data": {
            "image/png": "[encoded data removed]",
            "text/plain": [
              "<Figure size 432x288 with 1 Axes>"
            ]
          },
          "metadata": {},
          "output_type": "display_data"
        },
        {
          "data": {
            "image/png": "[encoded data removed]",
            "text/plain": [
              "<Figure size 432x288 with 1 Axes>"
            ]
          },
          "metadata": {},
          "output_type": "display_data"
        },
        {
          "data": {
            "image/png": "[encoded data removed]",
            "text/plain": [
              "<Figure size 432x288 with 1 Axes>"
            ]
          },
          "metadata": {},
          "output_type": "display_data"
        },
        {
          "data": {
            "image/png": "[encoded data removed]",
            "text/plain": [
              "<Figure size 432x288 with 1 Axes>"
            ]
          },
          "metadata": {},
          "output_type": "display_data"
        },
        {
          "data": {
            "image/png": "[encoded data removed]",
            "text/plain": [
              "<Figure size 432x288 with 1 Axes>"
            ]
          },
          "metadata": {},
          "output_type": "display_data"
        },
        {
          "data": {
            "image/png": "[encoded data removed]",
            "text/plain": [
              "<Figure size 432x288 with 1 Axes>"
            ]
          },
          "metadata": {},
          "output_type": "display_data"
        },
        {
          "data": {
            "image/png": "[encoded data removed]",
            "text/plain": [
              "<Figure size 432x288 with 1 Axes>"
            ]
          },
          "metadata": {},
          "output_type": "display_data"
        },
        {
          "data": {
            "image/png": "[encoded data removed]",
            "text/plain": [
              "<Figure size 432x288 with 1 Axes>"
            ]
          },
          "metadata": {},
          "output_type": "display_data"
        },
        {
          "data": {
            "image/png": "[encoded data removed]",
            "text/plain": [
              "<Figure size 432x288 with 1 Axes>"
            ]
          },
          "metadata": {},
          "output_type": "display_data"
        },
        {
          "data": {
            "image/png": "[encoded data removed]",
            "text/plain": [
              "<Figure size 432x288 with 1 Axes>"
            ]
          },
          "metadata": {},
          "output_type": "display_data"
        }
      ],
      "source": [
        "# get 10 random indices for test data\n",
        "sample_indices = torch.randint(len(test_data), (10,))\n",
        "# obtain subset of test data using the generated sample_indices\n",
        "sample_test_data = Subset(test_data, sample_indices)\n",
        "# wrap dataloader around sample_test_data\n",
        "sample_test_dataloader = DataLoader(sample_test_data, batch_size=1, shuffle=False)\n",
        "# obtain subset of predictions for test data samples\n",
        "sample_predictions = torch.index_select(predictions, 0, sample_indices)\n",
        "\n",
        "# enumerate samples for visualization\n",
        "samples = enumerate(sample_test_dataloader)\n",
        "\n",
        "# visualize the 10 test data points randomly selected and plot the image with\n",
        "# the predicted and true labels\n",
        "for i in range(10):\n",
        "  batch_idx, (sample_feature, sample_target) = next(samples)\n",
        "  plt.imshow(sample_feature[0][0], cmap='gray', interpolation='none')\n",
        "  plt.title(\"Predicted: {}\".format(sample_predictions[i]) + \"; True: {}\".format(sample_target[0]))\n",
        "  plt.xticks([])\n",
        "  plt.yticks([])\n",
        "  plt.show()"
      ]
    },
    {
      "cell_type": "markdown",
      "metadata": {
        "id": "8qVuXq5_-rO9"
      },
      "source": [
        "Reload best CNN model"
      ]
    },
    {
      "cell_type": "code",
      "execution_count": null,
      "metadata": {
        "id": "yoXna18F-sPT"
      },
      "outputs": [],
      "source": [
        "# create placeholder for the best model to be loaded\n",
        "best_model = Net()\n",
        "# create placeholder for the best optimizer to be loaded\n",
        "best_optimizer = torch.optim.Adam(model.parameters(), lr=LEARNING_RATE)"
      ]
    },
    {
      "cell_type": "code",
      "execution_count": null,
      "metadata": {
        "id": "xOWegUTu-7Lu"
      },
      "outputs": [],
      "source": [
        "# reload best model\n",
        "model_state_dict = torch.load('model.pth')\n",
        "best_model.load_state_dict(model_state_dict)\n",
        "\n",
        "# reload best optimizer\n",
        "optimizer_state_dict = torch.load('optimizer.pth')\n",
        "best_optimizer.load_state_dict(optimizer_state_dict)"
      ]
    },
    {
      "cell_type": "markdown",
      "metadata": {
        "id": "-X8WtQKZ-8R6"
      },
      "source": [
        "Test accuracy using best CNN model"
      ]
    },
    {
      "cell_type": "code",
      "execution_count": null,
      "metadata": {
        "colab": {
          "base_uri": "https://localhost:8080/"
        },
        "id": "_yIcamu488z1",
        "outputId": "cac0c19d-ce53-4076-f05b-34739c055cba"
      },
      "outputs": [
        {
          "name": "stdout",
          "output_type": "stream",
          "text": [
            "Test Accuracy for CNN using the Best Model\n",
            "\n",
            "\n",
            "Test Accuracy: 98.9% \n",
            "\n"
          ]
        }
      ],
      "source": [
        "print(f\"Test Accuracy for CNN using the Best Model\\n\\n\")\n",
        "\n",
        "# calculate test accuracy using the best model and obtain label predictions\n",
        "predictions = test(test_dataloader, best_model, CNN=True)\n",
        "# predictions is populated in batches, so we are concatenating\n",
        "# the results\n",
        "predictions = torch.stack(predictions)\n",
        "# flatten stacked results into a 1D array\n",
        "predictions = predictions.reshape(1, -1).squeeze()"
      ]
    },
    {
      "cell_type": "markdown",
      "metadata": {
        "id": "6_V8MFEmTBLk"
      },
      "source": [
        "Final step through some test examples to evaluate CNN performance"
      ]
    },
    {
      "cell_type": "code",
      "execution_count": null,
      "metadata": {
        "colab": {
          "base_uri": "https://localhost:8080/",
          "height": 1000
        },
        "id": "SxT7yG2JTGbr",
        "outputId": "6a434fcd-4358-431e-fdec-8c285fc0940b"
      },
      "outputs": [
        {
          "data": {
            "image/png": "[encoded data removed]",
            "text/plain": [
              "<Figure size 432x288 with 1 Axes>"
            ]
          },
          "metadata": {},
          "output_type": "display_data"
        },
        {
          "data": {
            "image/png": "[encoded data removed]",
            "text/plain": [
              "<Figure size 432x288 with 1 Axes>"
            ]
          },
          "metadata": {},
          "output_type": "display_data"
        },
        {
          "data": {
            "image/png": "[encoded data removed]",
            "text/plain": [
              "<Figure size 432x288 with 1 Axes>"
            ]
          },
          "metadata": {},
          "output_type": "display_data"
        },
        {
          "data": {
            "image/png": "[encoded data removed]",
            "text/plain": [
              "<Figure size 432x288 with 1 Axes>"
            ]
          },
          "metadata": {},
          "output_type": "display_data"
        },
        {
          "data": {
            "image/png": "[encoded data removed]",
            "text/plain": [
              "<Figure size 432x288 with 1 Axes>"
            ]
          },
          "metadata": {},
          "output_type": "display_data"
        },
        {
          "data": {
            "image/png": "[encoded data removed]",
            "text/plain": [
              "<Figure size 432x288 with 1 Axes>"
            ]
          },
          "metadata": {},
          "output_type": "display_data"
        },
        {
          "data": {
            "image/png": "[encoded data removed]",
            "text/plain": [
              "<Figure size 432x288 with 1 Axes>"
            ]
          },
          "metadata": {},
          "output_type": "display_data"
        },
        {
          "data": {
            "image/png": "[encoded data removed]",
            "text/plain": [
              "<Figure size 432x288 with 1 Axes>"
            ]
          },
          "metadata": {},
          "output_type": "display_data"
        },
        {
          "data": {
            "image/png": "[encoded data removed]",
            "text/plain": [
              "<Figure size 432x288 with 1 Axes>"
            ]
          },
          "metadata": {},
          "output_type": "display_data"
        },
        {
          "data": {
            "image/png": "[encoded data removed]",
            "text/plain": [
              "<Figure size 432x288 with 1 Axes>"
            ]
          },
          "metadata": {},
          "output_type": "display_data"
        }
      ],
      "source": [
        "# get 10 random indices for test data\n",
        "sample_indices = torch.randint(len(test_data), (10,))\n",
        "# obtain subset of test data using the generated sample_indices\n",
        "sample_test_data = Subset(test_data, sample_indices)\n",
        "# wrap dataloader around sample_test_data\n",
        "sample_test_dataloader = DataLoader(sample_test_data, batch_size=1, shuffle=False)\n",
        "# obtain subset of predictions for test data samples\n",
        "sample_predictions = torch.index_select(predictions, 0, sample_indices)\n",
        "\n",
        "# enumerate samples for visualization\n",
        "samples = enumerate(sample_test_dataloader)\n",
        "\n",
        "# visualize the 10 test data points randomly selected and plot the image with\n",
        "# the predicted and true labels\n",
        "for i in range(10):\n",
        "  batch_idx, (sample_feature, sample_target) = next(samples)\n",
        "  plt.imshow(sample_feature[0][0], cmap='gray', interpolation='none')\n",
        "  plt.title(\"Predicted: {}\".format(sample_predictions[i]) + \"; True: {}\".format(sample_target[0]))\n",
        "  plt.xticks([])\n",
        "  plt.yticks([])\n",
        "  plt.show()"
      ]
    }
  ],
  "metadata": {
    "colab": {
      "collapsed_sections": [
        "_9K9ByNIboyP",
        "86okWo3LboyY",
        "jbo1LoVxboyY",
        "qACtF_DecvEW",
        "1JyzJLnedFrR",
        "kZTBtKbikhE7",
        "qHcbIO_cboye",
        "etqcGPr8boyn",
        "uMr_1-eiboy0",
        "EhZniz6Tboy5"
      ],
      "name": "W4995-DLCV-ve2170-HW4.ipynb",
      "provenance": []
    },
    "kernelspec": {
      "display_name": "Python 3",
      "language": "python",
      "name": "python3"
    },
    "language_info": {
      "codemirror_mode": {
        "name": "ipython",
        "version": 3
      },
      "file_extension": ".py",
      "mimetype": "text/x-python",
      "name": "python",
      "nbconvert_exporter": "python",
      "pygments_lexer": "ipython3",
      "version": "3.8.5"
    }
  },
  "nbformat": 4,
  "nbformat_minor": 0
}
